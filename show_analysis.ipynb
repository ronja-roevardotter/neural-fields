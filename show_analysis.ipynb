{
 "cells": [
  {
   "cell_type": "code",
   "execution_count": null,
   "id": "208b64ae-e9a4-4133-94cb-9fa8416be7e9",
   "metadata": {},
   "outputs": [],
   "source": [
    "import numpy as np\n",
    "import matplotlib.pyplot as plt\n",
    "import pandas as pd\n",
    "#import matplotlib as mpl\n",
    "import matplotlib.ticker as ticker\n",
    "from matplotlib import cm\n",
    "\n",
    "from py.params import setParams\n",
    "from py.analysis import computeFPs, checkFixPtsStability, a_jkValues\n",
    "from py.analysis import tr, det, lmbd\n",
    "\n",
    "from py.kernels import gaussian, exponential\n",
    "\n",
    "from py.explo import collectStabilities2\n",
    "\n",
    "\n",
    "\n",
    "# This will reload all imports as soon as the code changes\n",
    "#%load_ext autoreload\n",
    "#%autoreload 2\n",
    "\n",
    "#import logging\n",
    "#logger = logging.getLogger()\n",
    "#logger.setLevel(logging.CRITICAL)\n",
    "\n",
    "from py.plots.plotting import plotDiscreteMap, plotQuadrants, plotTraceDeterminant"
   ]
  },
  {
   "cell_type": "code",
   "execution_count": null,
   "id": "bcc3657b-1d93-4531-a1a0-cf0b89540ea1",
   "metadata": {
    "tags": []
   },
   "outputs": [],
   "source": [
    "#logging.disabled\n",
    "params={'I_e': 0.0, 'I_i': 0, 'b': 0.5, 'tau_a': 600}\n",
    "df = collectStabilities2(params, vary_params={'I_e': np.linspace(-1,1,81), 'I_i': np.linspace(-2,2,81)})"
   ]
  },
  {
   "cell_type": "code",
   "execution_count": null,
   "id": "bca16e39-6e53-4272-b90f-661c57502799",
   "metadata": {},
   "outputs": [],
   "source": [
    "df.to_csv('adap__b05_taua600.csv')"
   ]
  },
  {
   "cell_type": "code",
   "execution_count": null,
   "id": "16e7d13d-dc29-4d33-b0eb-e04e068c6390",
   "metadata": {
    "tags": []
   },
   "outputs": [],
   "source": [
    "#logging.disabled\n",
    "params={'I_e': 0.0, 'I_i': 0, 'b': 0}\n",
    "df = collectStabilities2(params, vary_params={'I_e': np.linspace(-2,2,81), 'I_i': np.linspace(-2,2,81)})"
   ]
  },
  {
   "cell_type": "code",
   "execution_count": null,
   "id": "85396ce9-4567-4de8-8d91-9e08289460e5",
   "metadata": {},
   "outputs": [],
   "source": [
    "df.to_csv('default.csv')"
   ]
  },
  {
   "cell_type": "code",
   "execution_count": null,
   "id": "640edd8c-4d6a-43e1-a46e-d28e0f0d0065",
   "metadata": {
    "tags": []
   },
   "outputs": [],
   "source": [
    "params={'I_e': 0.0, 'I_i': 0, 'b': 0}\n",
    "df = collectStabilities2(params, vary_params={'I_e': np.linspace(-1,1,31), 'I_i': np.linspace(-1,1,31)})\n",
    "\n",
    "df.to_csv('default_lowres.csv')"
   ]
  },
  {
   "cell_type": "code",
   "execution_count": null,
   "id": "663f06e0-dff1-45f8-b9b3-ea2bf9b04ecc",
   "metadata": {
    "tags": []
   },
   "outputs": [],
   "source": [
    "params={'I_e': 0.0, 'I_i': 0, 'b': 0, 'sigma_i': 0.6, 'tau_i': 0.6}\n",
    "df = collectStabilities2(params, vary_params={'I_e': np.linspace(-1,1,31), 'I_i': np.linspace(-1,1,31)})"
   ]
  },
  {
   "cell_type": "code",
   "execution_count": null,
   "id": "8bfd1354-f805-45d5-b723-91344fb36b82",
   "metadata": {},
   "outputs": [],
   "source": [
    "df.to_csv('bif_sigmai_06_taui_06.csv')"
   ]
  },
  {
   "cell_type": "code",
   "execution_count": null,
   "id": "c6518ab7-fb03-49fd-8900-5a219b680573",
   "metadata": {
    "tags": []
   },
   "outputs": [],
   "source": [
    "params={'I_e': 0.0, 'I_i': 0, 'b': 0, 'sigma_i': 0.6, 'tau_i': 1.5}\n",
    "df = collectStabilities2(params, vary_params={'I_e': np.linspace(-1,1,31), 'I_i': np.linspace(-1,1,31)})"
   ]
  },
  {
   "cell_type": "code",
   "execution_count": null,
   "id": "1c9f413f-2147-4f25-b822-c63ff8130a24",
   "metadata": {},
   "outputs": [],
   "source": [
    "df.to_csv('bif_sigmai_06_taui_15.csv')"
   ]
  },
  {
   "cell_type": "code",
   "execution_count": null,
   "id": "181bce8e-8f06-4eb2-a16a-1e4d27075d72",
   "metadata": {
    "tags": []
   },
   "outputs": [],
   "source": [
    "params={'I_e': 0.0, 'I_i': 0, 'b': 0, 'sigma_i': 0.6, 'tau_i': 2.4}\n",
    "df = collectStabilities2(params, vary_params={'I_e': np.linspace(-1,1,31), 'I_i': np.linspace(-1,1,31)})"
   ]
  },
  {
   "cell_type": "code",
   "execution_count": null,
   "id": "38087d24-2cde-4ccd-93ad-4800886d1170",
   "metadata": {},
   "outputs": [],
   "source": [
    "df.to_csv('bif_sigmai_06_taui_24.csv')"
   ]
  },
  {
   "cell_type": "code",
   "execution_count": null,
   "id": "77105fad-1f6a-4caa-9c07-d6d6bf205776",
   "metadata": {
    "tags": []
   },
   "outputs": [],
   "source": [
    "params={'I_e': 0.0, 'I_i': 0, 'b': 0, 'sigma_i': 0.6, 'tau_i': 3.0}\n",
    "df = collectStabilities2(params, vary_params={'I_e': np.linspace(-1,1,31), 'I_i': np.linspace(-1,1,31)})"
   ]
  },
  {
   "cell_type": "code",
   "execution_count": null,
   "id": "4ef96962-82af-4973-8786-f3a35c6cc709",
   "metadata": {},
   "outputs": [],
   "source": [
    "df.to_csv('bif_sigmai_06_taui_30.csv')"
   ]
  },
  {
   "cell_type": "code",
   "execution_count": null,
   "id": "7bc5d158-cb41-43b1-bdf3-167b95877bab",
   "metadata": {
    "tags": []
   },
   "outputs": [],
   "source": [
    "params={}\n",
    "params={'I_e': 0, 'I_i': 0, 'w_ei': 3.2}\n",
    "df = collectStabilities2(params, vary_params={'I_e': np.linspace(-1,1,31), 'I_i': np.linspace(-1,1,31)})"
   ]
  },
  {
   "cell_type": "code",
   "execution_count": null,
   "id": "d19c7ddb-c033-4d5a-bb28-6090dc05c6ca",
   "metadata": {},
   "outputs": [],
   "source": [
    "df.to_csv('wei_32.csv')"
   ]
  },
  {
   "cell_type": "code",
   "execution_count": null,
   "id": "40db8a46-dec4-40ad-9ba6-17590d4749e0",
   "metadata": {
    "tags": []
   },
   "outputs": [],
   "source": [
    "params={}\n",
    "params={'I_e': 0, 'I_i': 0, 'w_ie': 3.9}\n",
    "df = collectStabilities2(params, vary_params={'I_e': np.linspace(-1,1,31), 'I_i': np.linspace(-1,1,31)})"
   ]
  },
  {
   "cell_type": "code",
   "execution_count": null,
   "id": "c22a2dcd-da17-4746-8004-e93017ba6923",
   "metadata": {},
   "outputs": [],
   "source": [
    "df.to_csv('wie_39.csv')"
   ]
  },
  {
   "cell_type": "code",
   "execution_count": null,
   "id": "4da448bf-6ee3-46f2-9e44-a9c63c328048",
   "metadata": {},
   "outputs": [],
   "source": [
    "params={'I_e': 0, 'I_i': 0, 'end_t': 1000, 'length': 50, 'beta_e': 5, 'beta_i': 5,\n",
    "       'w_ee': 3.1, 'w_ei': 2.6, 'w_ie': 3.2, 'w_ii': 0.8}\n",
    "\n",
    "from py.analysis import determinant_Turing_Hopf\n",
    "\n",
    "l=101\n",
    "\n",
    "ee = -0.55\n",
    "ii = np.linspace(-0.76,-0.77,11)\n",
    "traces = np.zeros((len(ii), l))\n",
    "determinants = np.zeros((len(ii), l))\n",
    "params['I_e'] = ee\n",
    "for idx, val in enumerate(ii):\n",
    "    params['I_i']=val\n",
    "    ps = setParams(params)\n",
    "    fps = computeFPs(ps)\n",
    "    stab = checkFixPtsStability(fps, ps)\n",
    "    \n",
    "    print('For I_i=%.4f, we have fixed points: %s, and stability: %s' %(val, str(fps), str(stab)))\n",
    "    \n",
    "    a_ee, a_ei, a_ie, a_ii = a_jkValues(fps[0], ps)\n",
    "    \n",
    "    k = np.linspace(-2,2,l)\n",
    "    determinant = det(k, a_ee, a_ei, a_ie, a_ii, ps)\n",
    "    zero_det, zero_deriv_det, pos_trace = determinant_Turing_Hopf(k, a_ee, a_ii, a_ei, a_ie, ps)\n",
    "    print('det = %s, deriv_det = %s' %(str(zero_det), str(zero_deriv_det)))\n",
    "    trace = tr(k, a_ee, a_ii, ps)\n",
    "    traces[idx] = trace\n",
    "    determinants[idx] = determinant"
   ]
  },
  {
   "cell_type": "code",
   "execution_count": null,
   "id": "a99b6389-cf11-44d5-9039-f3118198092d",
   "metadata": {},
   "outputs": [],
   "source": []
  }
 ],
 "metadata": {
  "kernelspec": {
   "display_name": "Python 3 (ipykernel)",
   "language": "python",
   "name": "python3"
  },
  "language_info": {
   "codemirror_mode": {
    "name": "ipython",
    "version": 3
   },
   "file_extension": ".py",
   "mimetype": "text/x-python",
   "name": "python",
   "nbconvert_exporter": "python",
   "pygments_lexer": "ipython3",
   "version": "3.9.12"
  }
 },
 "nbformat": 4,
 "nbformat_minor": 5
}
