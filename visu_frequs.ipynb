{
 "cells": [
  {
   "cell_type": "code",
   "execution_count": 1,
   "id": "30cecaf2",
   "metadata": {},
   "outputs": [],
   "source": [
    "import numpy as np\n",
    "import pandas as pd\n",
    "\n",
    "import matplotlib.ticker as ticker\n",
    "from matplotlib import cm\n",
    "\n",
    "from py.plots.plotting import plotQuadrants, plotTraceDeterminant\n",
    "\n",
    "import matplotlib.pyplot as plt\n",
    "\n",
    "# This will reload all imports as soon as the code changes\n",
    "%load_ext autoreload\n",
    "%autoreload 2"
   ]
  },
  {
   "cell_type": "code",
   "execution_count": 80,
   "id": "0d7dfe44",
   "metadata": {},
   "outputs": [],
   "source": [
    "path = '/Users/ronja/opt/anaconda3/lib/python3.9/site-packages/matplotlib/mpl-data/stylelib/'\n",
    "plt.style.use(path + 'template.mplstyle')\n",
    "\n",
    "def setAxes(df, nmb):\n",
    "    \n",
    "    # Add minorticks on the colorbar to make it easy to read the\n",
    "    # values off the colorbar.\n",
    "    \n",
    "    nmb_labels = 5\n",
    "                \n",
    "    idx_x = np.linspace(0,len(df.columns.values)-1, nmb_labels).astype(int)\n",
    "    idx_y = np.linspace(0,len(df.index.values)-1, nmb_labels).astype(int)\n",
    "        \n",
    "    xliste= np.round(df.columns.values, decimals=2)[idx_x]\n",
    "    yliste= np.round(df.index.values, decimals=2)[idx_y]\n",
    "    \n",
    "    #xliste = np.linspace(xaxis[0],xaxis[-1],nmb_labels)\n",
    "    #yliste = np.linspace(yaxis[-1],yaxis[0],nmb_labels)\n",
    "    \n",
    "    xlabels=list('%.1f'%(e) for e in xliste)\n",
    "    ylabels=list('%.1f'%(e) for e in yliste)\n",
    "    \n",
    "    return xlabels, ylabels\n",
    "\n",
    "def plotDiscreteMap(df, xaxis='I_e', yaxis='I_i', scatter=False,\n",
    "                    title='State space for default values', \n",
    "                    plot='dom_frequ', colorbar=True, colorbar_title='dom. frequency'):\n",
    "    \n",
    "    p_colors = cm.get_cmap('Accent', 4)\n",
    "    \n",
    "    frequs = df.pivot_table(plot, columns=xaxis, index=yaxis)\n",
    " #   downs = df.pivot_table('down_duration', columns=xaxis, index=yaxis)\n",
    " #   ups = df.pivot_table('up_duration', columns=xaxis, index=yaxis)\n",
    "    \n",
    "    fig, ax = plt.subplots(1,1,figsize=(8,8))\n",
    "    \n",
    "    \n",
    "    vals=df[plot].to_numpy()\n",
    "    mini = min(vals)\n",
    "    if any(np.isinf(vals)):\n",
    "        maxi=20\n",
    "    else:\n",
    "        maxi = max(vals)\n",
    "    \n",
    "    \n",
    "    nmb_labels = 5\n",
    "                \n",
    "    xlabels, ylabels = setAxes(frequs, nmb_labels)\n",
    "    \n",
    "  #  pos = ax.imshow(stabis, origin='lower', vmin=1, vmax=4, aspect='auto', interpolation='gaussian', cmap='gist_gray')#cmap=p_colors) #\n",
    "    pos = ax.imshow(frequs, origin='lower', vmin=0, vmax=0.03, aspect='auto', cmap='viridis') #\n",
    "  #  ax.contour(downs, origin='lower', vmin=0, vmax=2, levels=1, cmap='YlGnBu', interpolation='gaussian')\n",
    "  #  ax.contour(ups, origin='lower', vmin=0, vmax=2, levels=20, cmap='RdGy', linestyles='dashed', interpolation='gaussian')\n",
    "    \n",
    "    ax.set(title=title)\n",
    "    \n",
    "    \n",
    "    \n",
    "    if scatter:\n",
    "        scatter0 = stabis.columns.values.flat[np.abs(stabis.columns.values - scatter[0]).argmin()]#findNearest(stabis.index.values, scatter[0])\n",
    "        scatter1 = stabis.index.values.flat[np.abs(stabis.index.values - scatter[1]).argmin()] #findNearest(stabis.index.values, scatter[1])\n",
    "        xnodes = np.linspace(0, len(stabis.columns.values)-1, len(stabis.columns.values))\n",
    "        ynodes = np.linspace(0, len(stabis.index.values)-1, len(stabis.index.values))\n",
    "        ax.scatter(xnodes[list(stabis.columns.values).index(scatter0)], ynodes[list(stabis.index.values).index(scatter1)], s=150, c='yellow', marker='*', zorder=2) \n",
    "        \n",
    "    # Add minorticks on the colorbar to make it easy to read the\n",
    "    # values off the colorbar.\n",
    "    \n",
    "    ax.xaxis.set_major_locator(ticker.LinearLocator(nmb_labels))\n",
    "    ax.set_xticklabels(labels=xlabels)\n",
    "    ax.yaxis.set_major_locator(ticker.LinearLocator(nmb_labels))\n",
    "    ax.set_yticklabels(labels=ylabels)\n",
    "    \n",
    "    ax.set_xlabel(r'$%s$' %xaxis)\n",
    "    ax.set_ylabel(r'$%s$' %yaxis, labelpad=10, rotation=0)\n",
    "    \n",
    "    ax.label_outer()\n",
    "    \n",
    "    cbar_ticks=np.linspace(0,0.1,4)\n",
    "    cbar_ticks=np.around(cbar_ticks, decimals=2)\n",
    "    \n",
    "    if colorbar:\n",
    "        # Create colorbar\n",
    "        cb_ax = fig.add_axes([.93,.126,.04,.754])\n",
    "        cbar = ax.figure.colorbar(pos, ax=ax, ticks=cbar_ticks, cax=cb_ax)\n",
    "        cbar.ax.set_ylabel(colorbar_title, rotation=-90, va=\"bottom\")\n",
    "        cbar.ax.set_yticklabels(cbar_ticks)\n",
    "        \n",
    "        \n",
    "        cbar.minorticks_on()\n",
    "        \n",
    "    \n",
    "        \n",
    "    plt.legend(loc='lower right')\n",
    "    \n",
    "    \n",
    "    \n",
    "    plt.show()"
   ]
  },
  {
   "cell_type": "code",
   "execution_count": 81,
   "id": "3b4aedef",
   "metadata": {
    "scrolled": true
   },
   "outputs": [],
   "source": [
    "#df_default = pd.read_csv('csv/deault_space_frequs.csv')"
   ]
  },
  {
   "cell_type": "code",
   "execution_count": 82,
   "id": "1ea2333c",
   "metadata": {},
   "outputs": [],
   "source": [
    "#df_default"
   ]
  },
  {
   "cell_type": "code",
   "execution_count": 83,
   "id": "a3e8e635",
   "metadata": {
    "scrolled": false
   },
   "outputs": [],
   "source": [
    "#plotDiscreteMap(df_default, title='Default down-state space', # + r'$LC_{ei}$' + ' frequencies', \n",
    "#                plot='down_space', colorbar = True, colorbar_title='space of down-states')"
   ]
  },
  {
   "cell_type": "code",
   "execution_count": null,
   "id": "5691bfab",
   "metadata": {},
   "outputs": [],
   "source": []
  },
  {
   "cell_type": "code",
   "execution_count": 84,
   "id": "72395a05",
   "metadata": {},
   "outputs": [],
   "source": [
    "df = pd.read_csv('csv/adaps_temp_frequs.csv')\n",
    "\n",
    "\n",
    "#df = df[df['I_e']>=-1]\n",
    "#df = df[df['I_e']<=1]\n",
    "#df = df[df['I_i']>=-1]\n",
    "#df = df[df['I_i']<=1]"
   ]
  },
  {
   "cell_type": "code",
   "execution_count": 85,
   "id": "194f147e",
   "metadata": {},
   "outputs": [
    {
     "data": {
      "text/html": [
       "<div>\n",
       "<style scoped>\n",
       "    .dataframe tbody tr th:only-of-type {\n",
       "        vertical-align: middle;\n",
       "    }\n",
       "\n",
       "    .dataframe tbody tr th {\n",
       "        vertical-align: top;\n",
       "    }\n",
       "\n",
       "    .dataframe thead th {\n",
       "        text-align: right;\n",
       "    }\n",
       "</style>\n",
       "<table border=\"1\" class=\"dataframe\">\n",
       "  <thead>\n",
       "    <tr style=\"text-align: right;\">\n",
       "      <th></th>\n",
       "      <th>Unnamed: 0</th>\n",
       "      <th>I_e</th>\n",
       "      <th>I_i</th>\n",
       "      <th>dom_frequ</th>\n",
       "      <th>down_duration</th>\n",
       "      <th>up_duration</th>\n",
       "    </tr>\n",
       "  </thead>\n",
       "  <tbody>\n",
       "    <tr>\n",
       "      <th>0</th>\n",
       "      <td>0</td>\n",
       "      <td>-0.166667</td>\n",
       "      <td>-1.000000</td>\n",
       "      <td>108.642578</td>\n",
       "      <td>0.042744</td>\n",
       "      <td>0.030892</td>\n",
       "    </tr>\n",
       "    <tr>\n",
       "      <th>1</th>\n",
       "      <td>0</td>\n",
       "      <td>-0.133333</td>\n",
       "      <td>-1.000000</td>\n",
       "      <td>112.304688</td>\n",
       "      <td>0.039110</td>\n",
       "      <td>0.032125</td>\n",
       "    </tr>\n",
       "    <tr>\n",
       "      <th>2</th>\n",
       "      <td>0</td>\n",
       "      <td>-0.133333</td>\n",
       "      <td>-0.966667</td>\n",
       "      <td>112.304688</td>\n",
       "      <td>0.039800</td>\n",
       "      <td>0.031435</td>\n",
       "    </tr>\n",
       "    <tr>\n",
       "      <th>3</th>\n",
       "      <td>0</td>\n",
       "      <td>-0.100000</td>\n",
       "      <td>-1.000000</td>\n",
       "      <td>114.746094</td>\n",
       "      <td>0.036202</td>\n",
       "      <td>0.033517</td>\n",
       "    </tr>\n",
       "    <tr>\n",
       "      <th>4</th>\n",
       "      <td>0</td>\n",
       "      <td>-0.100000</td>\n",
       "      <td>-0.966667</td>\n",
       "      <td>114.746094</td>\n",
       "      <td>0.036748</td>\n",
       "      <td>0.032971</td>\n",
       "    </tr>\n",
       "    <tr>\n",
       "      <th>...</th>\n",
       "      <td>...</td>\n",
       "      <td>...</td>\n",
       "      <td>...</td>\n",
       "      <td>...</td>\n",
       "      <td>...</td>\n",
       "      <td>...</td>\n",
       "    </tr>\n",
       "    <tr>\n",
       "      <th>258</th>\n",
       "      <td>0</td>\n",
       "      <td>0.600000</td>\n",
       "      <td>-0.433333</td>\n",
       "      <td>40.283203</td>\n",
       "      <td>0.016486</td>\n",
       "      <td>0.182108</td>\n",
       "    </tr>\n",
       "    <tr>\n",
       "      <th>259</th>\n",
       "      <td>0</td>\n",
       "      <td>0.600000</td>\n",
       "      <td>-0.400000</td>\n",
       "      <td>40.283203</td>\n",
       "      <td>0.017020</td>\n",
       "      <td>0.181574</td>\n",
       "    </tr>\n",
       "    <tr>\n",
       "      <th>260</th>\n",
       "      <td>0</td>\n",
       "      <td>0.600000</td>\n",
       "      <td>-0.366667</td>\n",
       "      <td>39.062500</td>\n",
       "      <td>0.018071</td>\n",
       "      <td>0.186729</td>\n",
       "    </tr>\n",
       "    <tr>\n",
       "      <th>261</th>\n",
       "      <td>0</td>\n",
       "      <td>0.633333</td>\n",
       "      <td>-0.433333</td>\n",
       "      <td>4.882812</td>\n",
       "      <td>0.010916</td>\n",
       "      <td>1.627484</td>\n",
       "    </tr>\n",
       "    <tr>\n",
       "      <th>262</th>\n",
       "      <td>0</td>\n",
       "      <td>0.633333</td>\n",
       "      <td>-0.400000</td>\n",
       "      <td>4.882812</td>\n",
       "      <td>0.011448</td>\n",
       "      <td>1.626952</td>\n",
       "    </tr>\n",
       "  </tbody>\n",
       "</table>\n",
       "<p>263 rows × 6 columns</p>\n",
       "</div>"
      ],
      "text/plain": [
       "     Unnamed: 0       I_e       I_i   dom_frequ  down_duration  up_duration\n",
       "0             0 -0.166667 -1.000000  108.642578       0.042744     0.030892\n",
       "1             0 -0.133333 -1.000000  112.304688       0.039110     0.032125\n",
       "2             0 -0.133333 -0.966667  112.304688       0.039800     0.031435\n",
       "3             0 -0.100000 -1.000000  114.746094       0.036202     0.033517\n",
       "4             0 -0.100000 -0.966667  114.746094       0.036748     0.032971\n",
       "..          ...       ...       ...         ...            ...          ...\n",
       "258           0  0.600000 -0.433333   40.283203       0.016486     0.182108\n",
       "259           0  0.600000 -0.400000   40.283203       0.017020     0.181574\n",
       "260           0  0.600000 -0.366667   39.062500       0.018071     0.186729\n",
       "261           0  0.633333 -0.433333    4.882812       0.010916     1.627484\n",
       "262           0  0.633333 -0.400000    4.882812       0.011448     1.626952\n",
       "\n",
       "[263 rows x 6 columns]"
      ]
     },
     "execution_count": 85,
     "metadata": {},
     "output_type": "execute_result"
    }
   ],
   "source": [
    "#df['down_duration'][df['down_duration'].isnull()] = float('inf')\n",
    "df"
   ]
  },
  {
   "cell_type": "code",
   "execution_count": 86,
   "id": "1ab86b5b",
   "metadata": {
    "scrolled": false
   },
   "outputs": [
    {
     "name": "stderr",
     "output_type": "stream",
     "text": [
      "/var/folders/8l/w8cdnkkj38bg2pscx__1vxth0000gn/T/ipykernel_4257/3391708365.py:70: UserWarning: FixedFormatter should only be used together with FixedLocator\n",
      "  ax.set_xticklabels(labels=xlabels)\n",
      "/var/folders/8l/w8cdnkkj38bg2pscx__1vxth0000gn/T/ipykernel_4257/3391708365.py:72: UserWarning: FixedFormatter should only be used together with FixedLocator\n",
      "  ax.set_yticklabels(labels=ylabels)\n",
      "No artists with labels found to put in legend.  Note that artists whose label start with an underscore are ignored when legend() is called with no argument.\n"
     ]
    },
    {
     "data": {
      "image/png": "[encoded data removed]",
      "text/plain": [
       "<Figure size 800x800 with 2 Axes>"
      ]
     },
     "metadata": {
      "needs_background": "light"
     },
     "output_type": "display_data"
    }
   ],
   "source": [
    "plotDiscreteMap(df, title='w/ adaptation down-state duration', #+ r'$LC_{ae}$' + ' frequencies', \n",
    "                plot='down_duration', colorbar = True, colorbar_title='down-state duration')"
   ]
  },
  {
   "cell_type": "code",
   "execution_count": 89,
   "id": "d2dc8ef2",
   "metadata": {},
   "outputs": [],
   "source": [
    "a = max(df['down_duration'])"
   ]
  },
  {
   "cell_type": "code",
   "execution_count": 90,
   "id": "7f976064",
   "metadata": {},
   "outputs": [
    {
     "name": "stderr",
     "output_type": "stream",
     "text": [
      "/var/folders/8l/w8cdnkkj38bg2pscx__1vxth0000gn/T/ipykernel_4257/664855847.py:1: SettingWithCopyWarning: \n",
      "A value is trying to be set on a copy of a slice from a DataFrame\n",
      "\n",
      "See the caveats in the documentation: https://pandas.pydata.org/pandas-docs/stable/user_guide/indexing.html#returning-a-view-versus-a-copy\n",
      "  df['down_duration'][df['down_duration']==a]=0\n"
     ]
    }
   ],
   "source": [
    "df['down_duration'][df['down_duration']==a]=0"
   ]
  },
  {
   "cell_type": "code",
   "execution_count": 91,
   "id": "78b7811b",
   "metadata": {},
   "outputs": [
    {
     "data": {
      "text/plain": [
       "0.0427438310112359"
      ]
     },
     "execution_count": 91,
     "metadata": {},
     "output_type": "execute_result"
    }
   ],
   "source": [
    "max(df['down_duration'])"
   ]
  },
  {
   "cell_type": "code",
   "execution_count": null,
   "id": "5d6df550",
   "metadata": {},
   "outputs": [],
   "source": []
  }
 ],
 "metadata": {
  "kernelspec": {
   "display_name": "Python 3 (ipykernel)",
   "language": "python",
   "name": "python3"
  },
  "language_info": {
   "codemirror_mode": {
    "name": "ipython",
    "version": 3
   },
   "file_extension": ".py",
   "mimetype": "text/x-python",
   "name": "python",
   "nbconvert_exporter": "python",
   "pygments_lexer": "ipython3",
   "version": "3.9.12"
  }
 },
 "nbformat": 4,
 "nbformat_minor": 5
}
