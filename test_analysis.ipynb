{
 "cells": [
  {
   "cell_type": "code",
   "execution_count": 1,
   "id": "208b64ae-e9a4-4133-94cb-9fa8416be7e9",
   "metadata": {},
   "outputs": [],
   "source": [
    "import numpy as np\n",
    "\n",
    "from py.params import setParams\n",
    "from py.analysis import computeFPs\n",
    "\n",
    "from py.analysis import checkFixPtsStability\n",
    "\n",
    "\n",
    "# This will reload all imports as soon as the code changes\n",
    "%load_ext autoreload\n",
    "%autoreload 2"
   ]
  },
  {
   "cell_type": "code",
   "execution_count": 2,
   "id": "b8fe8ef4-e2a9-4e9c-bf6a-e16cfa697a8e",
   "metadata": {},
   "outputs": [
    {
     "name": "stdout",
     "output_type": "stream",
     "text": [
      "Summe von ke, bereits normalisiert, also sollte 1 sein 1.0\n"
     ]
    }
   ],
   "source": [
    "params = {'I_e': 2.75 , 'I_i': 2.1}\n",
    "ps = setParams(params)"
   ]
  },
  {
   "cell_type": "code",
   "execution_count": 3,
   "id": "a05d4d81-c1eb-4662-ad53-0a5a61a0bca7",
   "metadata": {
    "tags": []
   },
   "outputs": [
    {
     "name": "stdout",
     "output_type": "stream",
     "text": [
      "Summe von ke, bereits normalisiert, also sollte 1 sein 1.0\n",
      "solution to root:  [0.12857188 0.14339961]\n",
      "solution to root:  [0.12857188 0.14339961]\n",
      "solution to root:  [0.12857188 0.14339961]\n",
      "solution to root:  [0.12857188 0.14339961]\n",
      "solution to root:  [0.12857188 0.14339961]\n",
      "solution to root:  [0.12857188 0.14339961]\n",
      "solution to root:  [0.12857188 0.14339961]\n",
      "solution to root:  [0.12857188 0.14339961]\n",
      "solution to root:  [0.12857188 0.14339961]\n",
      "solution to root:  [0.12857188 0.14339961]\n",
      "solution to root:  [0.12857188 0.14339961]\n",
      "solution to root:  [0.12857188 0.14339961]\n",
      "solution to root:  [0.12857188 0.14339961]\n",
      "solution to root:  [0.12857188 0.14339961]\n",
      "solution to root:  [0.12857188 0.14339961]\n",
      "solution to root:  [0.12857188 0.14339961]\n",
      "solution to root:  [0.12857188 0.14339961]\n",
      "solution to root:  [0.12857188 0.14339961]\n",
      "solution to root:  [0.12857188 0.14339961]\n",
      "solution to root:  [0.12857188 0.14339961]\n",
      "solution to root:  [0.12857188 0.14339961]\n",
      "solution to root:  [0.12857188 0.14339961]\n",
      "solution to root:  [0.12857188 0.14339961]\n",
      "solution to root:  [0.12857188 0.14339961]\n",
      "solution to root:  [0.12857188 0.14339961]\n",
      "solution to root:  [0.12857188 0.14339961]\n",
      "solution to root:  [0.12857188 0.14339961]\n",
      "solution to root:  [0.12857188 0.14339961]\n",
      "solution to root:  [0.12857188 0.14339961]\n",
      "solution to root:  [0.12857188 0.14339961]\n",
      "solution to root:  [0.12857188 0.14339961]\n",
      "solution to root:  [0.12857188 0.14339961]\n",
      "solution to root:  [0.12857188 0.14339961]\n",
      "solution to root:  [0.98458648 0.90756137]\n",
      "solution to root:  [0.98458435 0.90756216]\n",
      "solution to root:  [0.98458272 0.90755808]\n",
      "solution to root:  [0.98458995 0.90756588]\n",
      "solution to root:  [0.98458377 0.90755908]\n",
      "solution to root:  [0.98458692 0.90756353]\n",
      "solution to root:  [0.98458184 0.90755796]\n",
      "solution to root:  [0.98458762 0.90756411]\n",
      "solution to root:  [0.98459394 0.90756685]\n",
      "solution to root:  [0.98458396 0.90755865]\n",
      "solution to root:  [0.98458965 0.90756041]\n",
      "solution to root:  [0.984586   0.90756138]\n",
      "solution to root:  [0.98458809 0.90756027]\n",
      "solution to root:  [0.98458391 0.90755762]\n",
      "solution to root:  [0.98458474 0.90756331]\n",
      "solution to root:  [0.98458451 0.90755934]\n",
      "solution to root:  [0.98458282 0.90755785]\n",
      "solution to root:  [0.98459201 0.90756472]\n",
      "solution to root:  [0.98458581 0.90756069]\n",
      "solution to root:  [0.98458796 0.90756082]\n",
      "solution to root:  [0.98459174 0.90756602]\n",
      "solution to root:  [0.98458418 0.90756038]\n",
      "solution to root:  [0.9845921  0.90756543]\n",
      "solution to root:  [0.98458413 0.90755996]\n",
      "solution to root:  [0.98459203 0.90756313]\n",
      "solution to root:  [0.98458875 0.90756015]\n",
      "solution to root:  [0.98458896 0.90756251]\n",
      "solution to root:  [0.9845899  0.90756298]\n"
     ]
    }
   ],
   "source": [
    "fps = computeFPs(ps)"
   ]
  },
  {
   "cell_type": "code",
   "execution_count": 4,
   "id": "359279c0-c089-4078-9f9f-9417c92940db",
   "metadata": {},
   "outputs": [
    {
     "data": {
      "text/plain": [
       "[array([0.12857188, 0.14339961])]"
      ]
     },
     "execution_count": 4,
     "metadata": {},
     "output_type": "execute_result"
    }
   ],
   "source": [
    "fps"
   ]
  },
  {
   "cell_type": "code",
   "execution_count": 5,
   "id": "0984c80b-79e1-4509-a274-c3b255c19410",
   "metadata": {},
   "outputs": [],
   "source": [
    "stab = checkFixPtsStability(fps, ps)"
   ]
  },
  {
   "cell_type": "code",
   "execution_count": 6,
   "id": "286fee21-612d-4b29-90c3-8856274dbe43",
   "metadata": {},
   "outputs": [
    {
     "data": {
      "text/plain": [
       "[1]"
      ]
     },
     "execution_count": 6,
     "metadata": {},
     "output_type": "execute_result"
    }
   ],
   "source": [
    "stab"
   ]
  },
  {
   "cell_type": "code",
   "execution_count": null,
   "id": "ee17129e-cf9b-405e-9fda-59e38aa04d7e",
   "metadata": {},
   "outputs": [],
   "source": []
  }
 ],
 "metadata": {
  "kernelspec": {
   "display_name": "Python 3 (ipykernel)",
   "language": "python",
   "name": "python3"
  },
  "language_info": {
   "codemirror_mode": {
    "name": "ipython",
    "version": 3
   },
   "file_extension": ".py",
   "mimetype": "text/x-python",
   "name": "python",
   "nbconvert_exporter": "python",
   "pygments_lexer": "ipython3",
   "version": "3.9.12"
  }
 },
 "nbformat": 4,
 "nbformat_minor": 5
}
