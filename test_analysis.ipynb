{
 "cells": [
  {
   "cell_type": "code",
   "execution_count": 2,
   "id": "208b64ae-e9a4-4133-94cb-9fa8416be7e9",
   "metadata": {},
   "outputs": [],
   "source": [
    "import numpy as np\n",
    "import matplotlib.pyplot as plt\n",
    "\n",
    "from py.params import setParams\n",
    "from py.analysis import computeFPs, checkFixPtsStability, a_jkValues\n",
    "from py.analysis import tr, det, lmbd\n",
    "\n",
    "from py.kernels import gaussian, exponential\n",
    "\n",
    "from py.explo import collectStabilities\n",
    "\n",
    "\n",
    "\n",
    "# This will reload all imports as soon as the code changes\n",
    "%load_ext autoreload\n",
    "%autoreload 2"
   ]
  },
  {
   "cell_type": "code",
   "execution_count": null,
   "id": "20e0c55c-0cd3-4823-acfd-8689154a4f02",
   "metadata": {
    "collapsed": true,
    "jupyter": {
     "outputs_hidden": true
    },
    "tags": []
   },
   "outputs": [
    {
     "name": "stdout",
     "output_type": "stream",
     "text": [
      "<class 'str'> <class 'numpy.ndarray'>\n",
      "1d Model initialised.\n",
      "1d Model initialised.\n",
      "1d Model initialised.\n",
      "1d Model initialised.\n",
      "1d Model initialised.\n",
      "1d Model initialised.\n",
      "1d Model initialised.\n",
      "1d Model initialised.\n",
      "1d Model initialised.\n",
      "1d Model initialised.\n",
      "1d Model initialised.\n",
      "1d Model initialised.\n",
      "1d Model initialised.\n",
      "1d Model initialised.\n",
      "1d Model initialised.\n",
      "1d Model initialised.\n",
      "1d Model initialised.\n",
      "1d Model initialised.\n",
      "1d Model initialised.\n",
      "1d Model initialised.\n",
      "1d Model initialised.\n",
      "1d Model initialised.\n",
      "1d Model initialised.\n",
      "1d Model initialised.\n",
      "1d Model initialised.\n",
      "1d Model initialised.\n",
      "1d Model initialised.\n",
      "1d Model initialised.\n",
      "1d Model initialised.\n",
      "1d Model initialised.\n",
      "1d Model initialised.\n",
      "1d Model initialised.\n",
      "1d Model initialised.\n",
      "1d Model initialised.\n",
      "1d Model initialised.\n",
      "1d Model initialised.\n",
      "1d Model initialised.\n",
      "1d Model initialised.\n",
      "1d Model initialised.\n",
      "1d Model initialised.\n",
      "1d Model initialised.\n",
      "1d Model initialised.\n",
      "1d Model initialised.\n",
      "1d Model initialised.\n",
      "1d Model initialised.\n",
      "1d Model initialised.\n",
      "1d Model initialised.\n",
      "1d Model initialised.\n",
      "1d Model initialised.\n",
      "1d Model initialised.\n",
      "1d Model initialised.\n",
      "1d Model initialised.\n",
      "1d Model initialised.\n",
      "1d Model initialised.\n",
      "1d Model initialised.\n",
      "1d Model initialised.\n",
      "1d Model initialised.\n",
      "1d Model initialised.\n",
      "1d Model initialised.\n",
      "1d Model initialised.\n",
      "1d Model initialised.\n",
      "1d Model initialised.\n",
      "1d Model initialised.\n",
      "1d Model initialised.\n",
      "1d Model initialised.\n",
      "1d Model initialised.\n",
      "1d Model initialised.\n",
      "1d Model initialised.\n",
      "1d Model initialised.\n",
      "1d Model initialised.\n",
      "1d Model initialised.\n",
      "1d Model initialised.\n",
      "1d Model initialised.\n",
      "1d Model initialised.\n",
      "1d Model initialised.\n",
      "1d Model initialised.\n",
      "1d Model initialised.\n",
      "1d Model initialised.\n",
      "1d Model initialised.\n",
      "1d Model initialised.\n",
      "1d Model initialised.\n",
      "1d Model initialised.\n",
      "1d Model initialised.\n",
      "1d Model initialised.\n",
      "1d Model initialised.\n",
      "1d Model initialised.\n",
      "1d Model initialised.\n",
      "1d Model initialised.\n",
      "1d Model initialised.\n",
      "1d Model initialised.\n",
      "1d Model initialised.\n",
      "1d Model initialised.\n",
      "1d Model initialised.\n",
      "1d Model initialised.\n",
      "1d Model initialised.\n",
      "1d Model initialised.\n",
      "1d Model initialised.\n",
      "1d Model initialised.\n",
      "1d Model initialised.\n",
      "1d Model initialised.\n",
      "1d Model initialised.\n",
      "1d Model initialised.\n",
      "1d Model initialised.\n",
      "1d Model initialised.\n",
      "1d Model initialised.\n",
      "1d Model initialised.\n",
      "1d Model initialised.\n",
      "1d Model initialised.\n",
      "1d Model initialised.\n",
      "1d Model initialised.\n",
      "1d Model initialised.\n",
      "1d Model initialised.\n",
      "1d Model initialised.\n",
      "1d Model initialised.\n",
      "1d Model initialised.\n",
      "1d Model initialised.\n",
      "1d Model initialised.\n",
      "1d Model initialised.\n",
      "1d Model initialised.\n",
      "1d Model initialised.\n",
      "1d Model initialised.\n",
      "1d Model initialised.\n",
      "1d Model initialised.\n",
      "1d Model initialised.\n",
      "1d Model initialised.\n",
      "1d Model initialised.\n",
      "1d Model initialised.\n",
      "1d Model initialised.\n",
      "1d Model initialised.\n",
      "1d Model initialised.\n",
      "1d Model initialised.\n",
      "1d Model initialised.\n",
      "1d Model initialised.\n",
      "1d Model initialised.\n",
      "1d Model initialised.\n",
      "1d Model initialised.\n",
      "1d Model initialised.\n",
      "1d Model initialised.\n",
      "1d Model initialised.\n",
      "1d Model initialised.\n",
      "1d Model initialised.\n",
      "1d Model initialised.\n",
      "1d Model initialised.\n",
      "1d Model initialised.\n",
      "1d Model initialised.\n",
      "1d Model initialised.\n",
      "1d Model initialised.\n",
      "1d Model initialised.\n",
      "1d Model initialised.\n",
      "1d Model initialised.\n",
      "1d Model initialised.\n",
      "1d Model initialised.\n",
      "1d Model initialised.\n",
      "1d Model initialised.\n",
      "1d Model initialised.\n",
      "1d Model initialised.\n",
      "1d Model initialised.\n",
      "1d Model initialised.\n",
      "1d Model initialised.\n",
      "1d Model initialised.\n",
      "1d Model initialised.\n",
      "1d Model initialised.\n",
      "1d Model initialised.\n",
      "1d Model initialised.\n",
      "1d Model initialised.\n",
      "1d Model initialised.\n",
      "1d Model initialised.\n",
      "1d Model initialised.\n",
      "1d Model initialised.\n",
      "1d Model initialised.\n",
      "1d Model initialised.\n",
      "1d Model initialised.\n",
      "1d Model initialised.\n",
      "1d Model initialised.\n",
      "1d Model initialised.\n",
      "1d Model initialised.\n",
      "1d Model initialised.\n",
      "1d Model initialised.\n",
      "1d Model initialised.\n",
      "1d Model initialised.\n",
      "1d Model initialised.\n",
      "1d Model initialised.\n",
      "1d Model initialised.\n",
      "1d Model initialised.\n",
      "1d Model initialised.\n",
      "1d Model initialised.\n",
      "1d Model initialised.\n",
      "1d Model initialised.\n",
      "1d Model initialised.\n",
      "1d Model initialised.\n",
      "1d Model initialised.\n",
      "1d Model initialised.\n",
      "1d Model initialised.\n",
      "1d Model initialised.\n",
      "1d Model initialised.\n",
      "1d Model initialised.\n",
      "1d Model initialised.\n",
      "1d Model initialised.\n",
      "1d Model initialised.\n",
      "1d Model initialised.\n",
      "1d Model initialised.\n",
      "1d Model initialised.\n",
      "1d Model initialised.\n",
      "1d Model initialised.\n",
      "1d Model initialised.\n",
      "1d Model initialised.\n",
      "1d Model initialised.\n",
      "1d Model initialised.\n",
      "1d Model initialised.\n",
      "1d Model initialised.\n",
      "1d Model initialised.\n",
      "1d Model initialised.\n",
      "1d Model initialised.\n",
      "1d Model initialised.\n",
      "1d Model initialised.\n",
      "1d Model initialised.\n",
      "1d Model initialised.\n",
      "1d Model initialised.\n",
      "1d Model initialised.\n",
      "1d Model initialised.\n",
      "1d Model initialised.\n",
      "1d Model initialised.\n",
      "1d Model initialised.\n",
      "1d Model initialised.\n",
      "1d Model initialised.\n",
      "1d Model initialised.\n",
      "1d Model initialised.\n",
      "1d Model initialised.\n",
      "1d Model initialised.\n",
      "1d Model initialised.\n",
      "1d Model initialised.\n",
      "1d Model initialised.\n",
      "1d Model initialised.\n",
      "1d Model initialised.\n",
      "1d Model initialised.\n",
      "1d Model initialised.\n",
      "1d Model initialised.\n",
      "1d Model initialised.\n",
      "1d Model initialised.\n",
      "1d Model initialised.\n",
      "1d Model initialised.\n",
      "1d Model initialised.\n",
      "1d Model initialised.\n",
      "1d Model initialised.\n",
      "1d Model initialised.\n",
      "1d Model initialised.\n",
      "1d Model initialised.\n",
      "1d Model initialised.\n",
      "1d Model initialised.\n",
      "1d Model initialised.\n",
      "1d Model initialised.\n",
      "1d Model initialised.\n",
      "1d Model initialised.\n",
      "1d Model initialised.\n",
      "1d Model initialised.\n",
      "1d Model initialised.\n",
      "1d Model initialised.\n",
      "1d Model initialised.\n",
      "1d Model initialised.\n",
      "1d Model initialised.\n",
      "1d Model initialised.\n",
      "1d Model initialised.\n",
      "1d Model initialised.\n",
      "1d Model initialised.\n",
      "1d Model initialised.\n",
      "1d Model initialised.\n",
      "1d Model initialised.\n",
      "1d Model initialised.\n",
      "1d Model initialised.\n",
      "1d Model initialised.\n",
      "1d Model initialised.\n",
      "1d Model initialised.\n",
      "1d Model initialised.\n",
      "1d Model initialised.\n",
      "1d Model initialised.\n",
      "1d Model initialised.\n",
      "1d Model initialised.\n",
      "1d Model initialised.\n",
      "1d Model initialised.\n",
      "1d Model initialised.\n",
      "1d Model initialised.\n",
      "1d Model initialised.\n",
      "1d Model initialised.\n",
      "1d Model initialised.\n",
      "1d Model initialised.\n",
      "1d Model initialised.\n",
      "1d Model initialised.\n",
      "1d Model initialised.\n",
      "1d Model initialised.\n",
      "1d Model initialised.\n",
      "1d Model initialised.\n",
      "1d Model initialised.\n",
      "1d Model initialised.\n",
      "1d Model initialised.\n",
      "1d Model initialised.\n",
      "1d Model initialised.\n",
      "1d Model initialised.\n",
      "1d Model initialised.\n",
      "1d Model initialised.\n",
      "1d Model initialised.\n",
      "1d Model initialised.\n",
      "1d Model initialised.\n",
      "1d Model initialised.\n",
      "1d Model initialised.\n",
      "1d Model initialised.\n",
      "1d Model initialised.\n",
      "1d Model initialised.\n",
      "1d Model initialised.\n",
      "1d Model initialised.\n",
      "1d Model initialised.\n",
      "1d Model initialised.\n",
      "1d Model initialised.\n",
      "1d Model initialised.\n",
      "1d Model initialised.\n",
      "1d Model initialised.\n",
      "1d Model initialised.\n",
      "1d Model initialised.\n",
      "1d Model initialised.\n",
      "1d Model initialised.\n",
      "1d Model initialised.\n",
      "1d Model initialised.\n",
      "1d Model initialised.\n",
      "1d Model initialised.\n",
      "1d Model initialised.\n",
      "1d Model initialised.\n",
      "1d Model initialised.\n",
      "1d Model initialised.\n",
      "1d Model initialised.\n",
      "1d Model initialised.\n",
      "1d Model initialised.\n",
      "1d Model initialised.\n",
      "1d Model initialised.\n",
      "1d Model initialised.\n",
      "1d Model initialised.\n",
      "1d Model initialised.\n",
      "1d Model initialised.\n",
      "1d Model initialised.\n",
      "1d Model initialised.\n",
      "1d Model initialised.\n",
      "1d Model initialised.\n",
      "1d Model initialised.\n",
      "1d Model initialised.\n",
      "1d Model initialised.\n"
     ]
    }
   ],
   "source": [
    "params={'I_e': 0, 'I_i': 0, 'end_t': 800, 'length': 50, 'sigma_i': 2.25}\n",
    "mtx1, mtx2, mtx3 = collectStabilities(params)"
   ]
  },
  {
   "cell_type": "code",
   "execution_count": null,
   "id": "7765f7fb-04ef-4bf7-bdba-87f73577bc40",
   "metadata": {},
   "outputs": [],
   "source": [
    "fig, (ax0, ax1, ax2) = plt.subplots(1, 3, figsize=(25,8))\n",
    "\n",
    "# Set the ticks and ticklabels for all axes\n",
    "plt.setp((ax0, ax1), xticks=[0,4,8], yticks=[0,4,8])\n",
    "\n",
    "ax0.imshow(mtx1.T, vmin=0, vmax=1, aspect='auto')\n",
    "ax1.imshow(mtx2.T, vmin=0, vmax=1, aspect='auto')\n",
    "im2 = ax2.imshow(mtx3.T, vmin=-1, vmax=5, aspect='auto')\n",
    "\n",
    "ax0.set_title(label='mass bifurcations')\n",
    "ax1.set_title(label='turing results')\n",
    "ax2.set_title(label='pattern analysis')\n",
    "fig.colorbar(im2, orientation='vertical')"
   ]
  },
  {
   "cell_type": "code",
   "execution_count": null,
   "id": "b8fe8ef4-e2a9-4e9c-bf6a-e16cfa697a8e",
   "metadata": {},
   "outputs": [],
   "source": [
    "ee = 3.714286\n",
    "ii = 8.000000\n",
    "params={'I_e': ee, 'I_i': ii, 'n': 350, 'length': 10, 'end_t': 2000} \n",
    "ps = setParams(params)"
   ]
  },
  {
   "cell_type": "code",
   "execution_count": null,
   "id": "a05d4d81-c1eb-4662-ad53-0a5a61a0bca7",
   "metadata": {
    "tags": []
   },
   "outputs": [],
   "source": [
    "fps = computeFPs(ps)"
   ]
  },
  {
   "cell_type": "code",
   "execution_count": 412,
   "id": "359279c0-c089-4078-9f9f-9417c92940db",
   "metadata": {},
   "outputs": [
    {
     "data": {
      "text/plain": [
       "array([], dtype=float64)"
      ]
     },
     "execution_count": 412,
     "metadata": {},
     "output_type": "execute_result"
    }
   ],
   "source": [
    "fps"
   ]
  },
  {
   "cell_type": "code",
   "execution_count": 413,
   "id": "0984c80b-79e1-4509-a274-c3b255c19410",
   "metadata": {},
   "outputs": [],
   "source": [
    "stab = checkFixPtsStability(fps, ps)"
   ]
  },
  {
   "cell_type": "code",
   "execution_count": 414,
   "id": "286fee21-612d-4b29-90c3-8856274dbe43",
   "metadata": {},
   "outputs": [
    {
     "data": {
      "text/plain": [
       "[]"
      ]
     },
     "execution_count": 414,
     "metadata": {},
     "output_type": "execute_result"
    }
   ],
   "source": [
    "stab"
   ]
  },
  {
   "cell_type": "code",
   "execution_count": 357,
   "id": "ee17129e-cf9b-405e-9fda-59e38aa04d7e",
   "metadata": {},
   "outputs": [],
   "source": [
    "a_ee, a_ei, a_ie, a_ii = a_jkValues(fps[0], ps)"
   ]
  },
  {
   "cell_type": "code",
   "execution_count": 358,
   "id": "49617ec7-4d62-4831-8ad8-12a7728cc399",
   "metadata": {},
   "outputs": [],
   "source": [
    "l=61\n",
    "k = np.linspace(-2,2,l)\n",
    "determinant = det(k, a_ee, a_ei, a_ie, a_ii, ps)\n",
    "trace = tr(k, a_ee, a_ii, ps)\n",
    "zero = np.zeros(l)"
   ]
  },
  {
   "cell_type": "code",
   "execution_count": 359,
   "id": "4352bcf3-1117-4253-aa49-69f68105f568",
   "metadata": {},
   "outputs": [
    {
     "data": {
      "text/plain": [
       "[<matplotlib.lines.Line2D at 0x7f94149b00d0>]"
      ]
     },
     "execution_count": 359,
     "metadata": {},
     "output_type": "execute_result"
    },
    {
     "data": {
      "image/png": "[encoded data removed]",
      "text/plain": [
       "<Figure size 432x288 with 1 Axes>"
      ]
     },
     "metadata": {
      "needs_background": "light"
     },
     "output_type": "display_data"
    }
   ],
   "source": [
    "plt.plot(k, determinant, k, trace)\n",
    "plt.plot(k, zero)"
   ]
  },
  {
   "cell_type": "code",
   "execution_count": 10,
   "id": "6c10e3e2-1084-4a37-adff-32a8d4ef5f74",
   "metadata": {},
   "outputs": [
    {
     "name": "stdout",
     "output_type": "stream",
     "text": [
      "Using fourier transformation of gaussian: f_gaussian\n",
      "Using fourier transformation of gaussian: f_gaussian\n",
      "Using fourier transformation of gaussian: f_gaussian\n",
      "Using fourier transformation of gaussian: f_gaussian\n",
      "Using fourier transformation of gaussian: f_gaussian\n",
      "Using fourier transformation of gaussian: f_gaussian\n",
      "Using fourier transformation of gaussian: f_gaussian\n",
      "Using fourier transformation of gaussian: f_gaussian\n",
      "Using fourier transformation of gaussian: f_gaussian\n",
      "Using fourier transformation of gaussian: f_gaussian\n",
      "Using fourier transformation of gaussian: f_gaussian\n",
      "Using fourier transformation of gaussian: f_gaussian\n",
      "Using fourier transformation of gaussian: f_gaussian\n",
      "Using fourier transformation of gaussian: f_gaussian\n",
      "Using fourier transformation of gaussian: f_gaussian\n",
      "Using fourier transformation of gaussian: f_gaussian\n"
     ]
    }
   ],
   "source": [
    "lmbda = lmbd(k, a_ee, a_ei, a_ie, a_ii, ps)"
   ]
  },
  {
   "cell_type": "code",
   "execution_count": 11,
   "id": "21d0940a-1f3e-4552-a8ae-28bbcb6eea17",
   "metadata": {},
   "outputs": [
    {
     "data": {
      "text/plain": [
       "[<matplotlib.lines.Line2D at 0x7f860013bd00>]"
      ]
     },
     "execution_count": 11,
     "metadata": {},
     "output_type": "execute_result"
    },
    {
     "data": {
      "image/png": "[encoded data removed]",
      "text/plain": [
       "<Figure size 432x288 with 1 Axes>"
      ]
     },
     "metadata": {
      "needs_background": "light"
     },
     "output_type": "display_data"
    }
   ],
   "source": [
    "plt.plot(k, lmbda[0].real, k, lmbda[1].real)\n",
    "plt.plot(k, lmbda[0].imag, k, lmbda[1].imag, linestyle='dashed')\n",
    "plt.plot(k, zero)"
   ]
  },
  {
   "cell_type": "code",
   "execution_count": 105,
   "id": "d4a8787d-fcf4-44c0-a11a-4f0226ab7f9a",
   "metadata": {},
   "outputs": [],
   "source": [
    "trace2 = lmbda[0]+lmbda[1]\n",
    "determinant2 = lmbda[0]*lmbda[1]"
   ]
  },
  {
   "cell_type": "code",
   "execution_count": 106,
   "id": "57e7e380-760e-4761-bf9e-0f5e781679f8",
   "metadata": {},
   "outputs": [
    {
     "name": "stderr",
     "output_type": "stream",
     "text": [
      "/Users/ronja/opt/anaconda3/lib/python3.9/site-packages/matplotlib/cbook/__init__.py:1298: ComplexWarning: Casting complex values to real discards the imaginary part\n",
      "  return np.asarray(x, float)\n"
     ]
    },
    {
     "data": {
      "text/plain": [
       "[<matplotlib.lines.Line2D at 0x7fec527aacd0>]"
      ]
     },
     "execution_count": 106,
     "metadata": {},
     "output_type": "execute_result"
    },
    {
     "data": {
      "image/png": "[encoded data removed]",
      "text/plain": [
       "<Figure size 432x288 with 1 Axes>"
      ]
     },
     "metadata": {
      "needs_background": "light"
     },
     "output_type": "display_data"
    }
   ],
   "source": [
    "plt.plot(k, determinant2, k, trace2)\n",
    "plt.plot(k, zero)"
   ]
  },
  {
   "cell_type": "code",
   "execution_count": null,
   "id": "08141210-7730-41a3-99c2-25553977a193",
   "metadata": {},
   "outputs": [],
   "source": []
  },
  {
   "cell_type": "code",
   "execution_count": 25,
   "id": "4d9d6f2f-b9c5-49fc-b842-7ec27ebfe97e",
   "metadata": {},
   "outputs": [],
   "source": [
    "kernel = gaussian(10, ps.x)*ps.dx"
   ]
  },
  {
   "cell_type": "code",
   "execution_count": 26,
   "id": "6b6b164e-4ba9-49e1-947b-420bc6116e45",
   "metadata": {},
   "outputs": [
    {
     "data": {
      "text/plain": [
       "[<matplotlib.lines.Line2D at 0x7f85f05dc820>]"
      ]
     },
     "execution_count": 26,
     "metadata": {},
     "output_type": "execute_result"
    },
    {
     "data": {
      "image/png": "[encoded data removed]",
      "text/plain": [
       "<Figure size 432x288 with 1 Axes>"
      ]
     },
     "metadata": {
      "needs_background": "light"
     },
     "output_type": "display_data"
    }
   ],
   "source": [
    "plt.plot(ps.x, kernel)"
   ]
  },
  {
   "cell_type": "code",
   "execution_count": 59,
   "id": "73188e0a-7e43-4dce-9544-2eb03dce56df",
   "metadata": {},
   "outputs": [],
   "source": [
    "def checkTuringStability(det, tr):\n",
    "    if all(det>=0) and all(tr<=0):\n",
    "        turing=0\n",
    "    else:\n",
    "        turing=1\n",
    "\n",
    "    return turing"
   ]
  },
  {
   "cell_type": "code",
   "execution_count": 69,
   "id": "3b9d3d1c-7372-4261-969a-6314186719d9",
   "metadata": {},
   "outputs": [],
   "source": [
    "import numpy as np\n",
    "from py.params import setParams\n",
    "\n",
    "\n",
    "def collectStabilities(params=None, vary_params={'I_e': np.linspace(1,5,21), 'I_i': np.linspace(0,4,21)}, pattern_analysis=False):\n",
    "    \n",
    "    var1_str, var1 = list(vary_params.items())[0]\n",
    "    var2_str, var2 = list(vary_params.items())[1]\n",
    "    var2 = var2[::-1]\n",
    "    \n",
    "    print(type(var1_str), type(var1))\n",
    "    \n",
    "    nn = len(var1)\n",
    "    mm = len(var2)\n",
    "    \n",
    "    mass_bifs = np.zeros((nn,mm))\n",
    "    turing_bifs = np.zeros((nn,mm))\n",
    "    pattern_mtx = np.zeros((nn,mm))\n",
    "    \n",
    "    for i in range(nn):\n",
    "        for j in range(mm):\n",
    "            params[var1_str] = var1[i]\n",
    "            params[var2_str] = var2[j]\n",
    "            \n",
    "            ps = setParams(params)\n",
    "            fps = computeFPs(ps)\n",
    "            stab = checkFixPtsStability(fps, ps)\n",
    "            \n",
    "            if sum(stab) == 2:\n",
    "                mass_bifs[i,j] = 1\n",
    "                l=61\n",
    "                k = np.linspace(-2,2,l)\n",
    "                a_ee, a_ei, a_ie, a_ii = a_jkValues(fps[0], ps)\n",
    "                determinant1 = det(k, a_ee, a_ei, a_ie, a_ii, ps)\n",
    "                trace1 = tr(k, a_ee, a_ii, ps)\n",
    "                turing1 = checkTuringStability(determinant1, trace1)\n",
    "                a_ee, a_ei, a_ie, a_ii = a_jkValues(fps[-1], ps)\n",
    "                determinant2 = det(k, a_ee, a_ei, a_ie, a_ii, ps)\n",
    "                trace2 = tr(k, a_ee, a_ii, ps)\n",
    "                turing2 = checkTuringStability(determinant1, trace1)\n",
    "                turing_bifs[i,j]=max(turing1, turing2)\n",
    "                if turing1 == 1:\n",
    "                    print('for I_e = %f, I_i = %f, we have turing1=%i' %(var1[i],var2[j],turing1))\n",
    "                elif turing2 == 1:\n",
    "                    print('for I_e = %f, I_i = %f, we have turing2=%i' %(var1[i],var2[j],turing1))\n",
    "            elif sum(stab) == 1:\n",
    "                mass_bifs[i,j] = 0.5\n",
    "                l=61\n",
    "                k = np.linspace(-2,2,l)\n",
    "                a_ee, a_ei, a_ie, a_ii = a_jkValues(fps[list(stab).index(1)], ps)\n",
    "                determinant = det(k, a_ee, a_ei, a_ie, a_ii, ps)\n",
    "                trace = tr(k, a_ee, a_ii, ps)\n",
    "                turing = checkTuringStability(determinant, trace)\n",
    "                turing_bifs[i,j]=turing\n",
    "                if turing == 1:\n",
    "                    print('for I_e = %f, I_i = %f, we have turing=%i' %(var1[i],var2[j],turing))\n",
    "            else:\n",
    "                mass_bifs[i,j] = 0\n",
    "                \n",
    "            \n",
    "            patterns = np.zeros(len(fps))\n",
    "            for idx, fp in enumerate(fps):\n",
    "                p, a,b,c,d = collectPatterns(fp, ps, last_sec=10)\n",
    "                patterns[idx] = p\n",
    "            \n",
    "            if len(patterns)==0:\n",
    "                pattern_mtx[i,j] = -1\n",
    "            elif all(x == patterns[0] for x in patterns):\n",
    "                pattern_mtx[i,j] = patterns[0]\n",
    "            else:\n",
    "                pattern_mtx[i,j] = 5\n",
    "                \n",
    "            \n",
    "            print('We are in round I_e = %f, I_i = %f, i=%i, j=%i with pattern %s' %(var1[i],var2[j],i,j, str(patterns)))\n",
    "    \n",
    "    return mass_bifs, turing_bifs, pattern_mtx"
   ]
  },
  {
   "cell_type": "code",
   "execution_count": 70,
   "id": "92d5428e-eab8-48b1-abb6-04e55aca6486",
   "metadata": {},
   "outputs": [],
   "source": [
    "vary_params={'I_e': np.linspace(0,8,61), 'I_i': np.linspace(0,8,61)}"
   ]
  },
  {
   "cell_type": "code",
   "execution_count": 71,
   "id": "2d3b7f86-2ff9-4b98-8c7b-77c34ef6ca85",
   "metadata": {},
   "outputs": [],
   "source": [
    "var1_str, var1 = list(vary_params.items())[0]"
   ]
  },
  {
   "cell_type": "code",
   "execution_count": 72,
   "id": "41ef44dd-fbaf-4980-b329-e736fd97dcf0",
   "metadata": {},
   "outputs": [
    {
     "data": {
      "text/plain": [
       "array([8.        , 7.86666667, 7.73333333, 7.6       , 7.46666667,\n",
       "       7.33333333, 7.2       , 7.06666667, 6.93333333, 6.8       ,\n",
       "       6.66666667, 6.53333333, 6.4       , 6.26666667, 6.13333333,\n",
       "       6.        , 5.86666667, 5.73333333, 5.6       , 5.46666667,\n",
       "       5.33333333, 5.2       , 5.06666667, 4.93333333, 4.8       ,\n",
       "       4.66666667, 4.53333333, 4.4       , 4.26666667, 4.13333333,\n",
       "       4.        , 3.86666667, 3.73333333, 3.6       , 3.46666667,\n",
       "       3.33333333, 3.2       , 3.06666667, 2.93333333, 2.8       ,\n",
       "       2.66666667, 2.53333333, 2.4       , 2.26666667, 2.13333333,\n",
       "       2.        , 1.86666667, 1.73333333, 1.6       , 1.46666667,\n",
       "       1.33333333, 1.2       , 1.06666667, 0.93333333, 0.8       ,\n",
       "       0.66666667, 0.53333333, 0.4       , 0.26666667, 0.13333333,\n",
       "       0.        ])"
      ]
     },
     "execution_count": 72,
     "metadata": {},
     "output_type": "execute_result"
    }
   ],
   "source": [
    "var1[::-1]"
   ]
  },
  {
   "cell_type": "code",
   "execution_count": 75,
   "id": "9507f7ff-d5e8-48fc-8f49-ee11a4bace3b",
   "metadata": {},
   "outputs": [],
   "source": [
    "params={'I_e': 0, 'I_i': 0, 'end_t': 800, 'length': 50, 'sigma_i': 2}"
   ]
  },
  {
   "cell_type": "code",
   "execution_count": null,
   "id": "dc2e17d2-f1c9-43c2-970e-1e60578f603a",
   "metadata": {
    "tags": []
   },
   "outputs": [],
   "source": [
    "mtx1, mtx2, mtx3 = collectStabilities(params)"
   ]
  },
  {
   "cell_type": "code",
   "execution_count": 77,
   "id": "7273bca9-cb09-4a47-b8b0-a80611213c12",
   "metadata": {},
   "outputs": [
    {
     "data": {
      "text/plain": [
       "<matplotlib.colorbar.Colorbar at 0x7fe8fb4f6ca0>"
      ]
     },
     "execution_count": 77,
     "metadata": {},
     "output_type": "execute_result"
    },
    {
     "data": {
      "image/png": "[encoded data removed]",
      "text/plain": [
       "<Figure size 1800x576 with 4 Axes>"
      ]
     },
     "metadata": {
      "needs_background": "light"
     },
     "output_type": "display_data"
    }
   ],
   "source": [
    "fig, (ax0, ax1, ax2) = plt.subplots(1, 3, figsize=(25,8))\n",
    "\n",
    "# Set the ticks and ticklabels for all axes\n",
    "plt.setp((ax0, ax1), xticks=[0,4,8], yticks=[0,4,8])\n",
    "\n",
    "ax0.imshow(mtx1.T, vmin=0, vmax=1, aspect='auto')\n",
    "ax1.imshow(mtx2.T, vmin=0, vmax=1, aspect='auto')\n",
    "im2 = ax2.imshow(mtx3.T, vmin=-1, vmax=5, aspect='auto')\n",
    "\n",
    "ax0.set_title(label='mass bifurcations')\n",
    "ax1.set_title(label='turing results')\n",
    "ax2.set_title(label='pattern analysis')\n",
    "fig.colorbar(im2, orientation='vertical')"
   ]
  },
  {
   "cell_type": "code",
   "execution_count": 67,
   "id": "94c49a99-b90d-4a5b-af5f-d7a1ff5fb70c",
   "metadata": {},
   "outputs": [
    {
     "data": {
      "text/plain": [
       "array([[ 1.,  1.,  1.,  1.,  1.,  1.,  1.,  1.,  1.,  1.,  1.,  1.,  1.,\n",
       "         1.,  1.,  1.,  1.],\n",
       "       [ 1.,  1.,  1.,  1.,  1.,  1.,  1.,  1.,  1.,  1.,  1.,  1.,  1.,\n",
       "         1.,  1.,  1.,  1.],\n",
       "       [ 1.,  1.,  1.,  1.,  1.,  1.,  1.,  1.,  1.,  1.,  1.,  1.,  1.,\n",
       "         1.,  1.,  1.,  1.],\n",
       "       [ 1.,  1.,  1.,  1.,  1.,  1.,  1.,  1.,  1.,  1.,  1.,  1.,  1.,\n",
       "         1.,  1.,  5.,  3.],\n",
       "       [ 1.,  1.,  1.,  1.,  1.,  1.,  1.,  1.,  1.,  1.,  1.,  1.,  1.,\n",
       "         1.,  3.,  3.,  3.],\n",
       "       [ 1.,  1.,  1.,  1.,  1.,  1.,  1.,  1.,  1.,  1.,  1.,  1.,  3.,\n",
       "         3.,  3.,  3.,  3.],\n",
       "       [ 1.,  1.,  1.,  1.,  1.,  1.,  1.,  1.,  1.,  1.,  1.,  1.,  3.,\n",
       "         3.,  3.,  3.,  3.],\n",
       "       [-1.,  1.,  1.,  1.,  1.,  1.,  1.,  1.,  1.,  1.,  1.,  3.,  3.,\n",
       "         3.,  3.,  3.,  3.],\n",
       "       [-1., -1.,  1.,  1.,  1.,  1.,  1.,  1.,  1.,  1.,  3.,  3.,  3.,\n",
       "         3.,  3.,  3.,  3.],\n",
       "       [-1., -1., -1.,  1.,  1.,  1.,  1.,  1.,  1.,  3.,  3.,  3.,  3.,\n",
       "         3.,  3.,  5.,  1.],\n",
       "       [ 1.,  1.,  1.,  1.,  1.,  1.,  1.,  5.,  1.,  5.,  5.,  5.,  5.,\n",
       "         5.,  1.,  1.,  1.],\n",
       "       [ 1.,  1.,  1.,  1.,  1.,  5.,  5.,  1.,  5.,  5.,  5.,  5.,  5.,\n",
       "         1.,  1.,  1.,  1.],\n",
       "       [ 1.,  1.,  1.,  1.,  5.,  5.,  5.,  5.,  5.,  5.,  5.,  5.,  1.,\n",
       "         1.,  1.,  1.,  1.],\n",
       "       [ 1.,  1.,  1.,  5.,  5.,  1.,  5.,  5.,  5.,  5.,  5.,  1.,  1.,\n",
       "         1.,  1.,  1.,  1.],\n",
       "       [ 1.,  1.,  5.,  5.,  1.,  5.,  5.,  5.,  5.,  5.,  1.,  1.,  1.,\n",
       "         1.,  1.,  1.,  1.],\n",
       "       [ 1.,  5.,  5.,  5.,  5.,  5.,  5.,  5.,  1.,  1.,  1.,  1.,  1.,\n",
       "         1.,  1.,  1.,  1.],\n",
       "       [ 1.,  1.,  5.,  5.,  5.,  5.,  1.,  1.,  1.,  1.,  1.,  1.,  1.,\n",
       "         1.,  1.,  1.,  1.]])"
      ]
     },
     "execution_count": 67,
     "metadata": {},
     "output_type": "execute_result"
    }
   ],
   "source": [
    "mtx3"
   ]
  },
  {
   "cell_type": "code",
   "execution_count": 68,
   "id": "92a54d46-1533-4f69-a6c0-0c52c67996ac",
   "metadata": {},
   "outputs": [],
   "source": [
    "def getPSD(array, fs, maxfreq=None):\n",
    "    \"\"\"returns the Powerspectrum (density: [V**2/Hz]) with the possibility to cut off the PSD at a maximum frequency\n",
    "    \n",
    "    INPUT:\n",
    "    :array: time series (type: numpy-array)\n",
    "    :fs: sampling frequency of array (e.g. variables['delta_t'] for array over time, variables['n'] for array over space)\n",
    "    :maxfreq: maximum frequency to observe\n",
    "    \n",
    "    OUTPUT:\n",
    "    :freqs: array of all frequencies that are looked at for the PDS\n",
    "    :PSD_den: Power Spectrum Density (i.e. returns the power per frequency over the freqs array)\n",
    "    \"\"\"\n",
    "    import scipy.signal as signal \n",
    "    \n",
    "    freqs, Pxx_den = signal.welch(array, fs)\n",
    "    \n",
    "    if maxfreq==None:\n",
    "        maxfreq = max(freqs)\n",
    "    \n",
    "    freqs = freqs[freqs < maxfreq]\n",
    "    Pxx_den = Pxx_den[0 : len(freqs)]\n",
    "    \n",
    "    return freqs, Pxx_den\n",
    "\n",
    "\n",
    "\n",
    "def getAvgPSD(arrays, fs, maxfreq=None):\n",
    "    \"\"\"Returns the average Power Spectrum Density for a mxn-dimensional array.\n",
    "    \n",
    "    INPUT:\n",
    "    :arrays: mxn-dimensional array (m rows, n columns)\n",
    "    :fs: sampling frequency\n",
    "    :maxfreq: maximum frequency\n",
    "    \n",
    "    OUTPUT:\n",
    "    :freqs: array of all frequencies that are looked at for the avg-PSD\n",
    "    :avg_Pxx_den: average PSD (averages over rows)\n",
    "    \n",
    "    e.g. I give the array exc with dimension 37x4000\n",
    "    then the PSD will be computed for frequencies over time and averaged over rows, which are the nodes (space)\n",
    "    => returned avg_Pxx_den indicates the power per frequencies over time averaged over each node\n",
    "    i.e. in that case, if the avg_Pxx_den is close to zero everywhere, I do not have a change in activity over time => temporally homogeneous\n",
    "    \n",
    "    \"\"\"\n",
    "    \n",
    "    freqs, temp_Pxx_den = getPSD(arrays[0], fs, maxfreq)\n",
    "    \n",
    "    all_Pxx_den = np.zeros((int(arrays.shape[0]),(len(temp_Pxx_den))))\n",
    "    \n",
    "    for idx, array in enumerate(arrays[1:]):\n",
    "        f, Pxx_den = getPSD(array, fs, maxfreq)\n",
    "        all_Pxx_den[idx+1] = Pxx_den\n",
    "        \n",
    "    avg_Pxx_den = np.mean(all_Pxx_den, axis=0)\n",
    "        \n",
    "    \n",
    "    return freqs, avg_Pxx_den\n"
   ]
  },
  {
   "cell_type": "code",
   "execution_count": 50,
   "id": "6fd97f53-7a86-4adf-809f-8107fefbb015",
   "metadata": {},
   "outputs": [
    {
     "name": "stdout",
     "output_type": "stream",
     "text": [
      "1d Model initialised.\n"
     ]
    }
   ],
   "source": [
    "import py.continuum1d as continuum1d\n",
    "c1d = continuum1d.continuum1d()\n",
    "\n",
    "\n",
    "\n",
    "def collectPatterns(fp, params, last_sec=10):\n",
    "    \n",
    "    \"\"\" This function collects the type of activity-pattern that is shown after running a simulation for different settings of parameters (fix given by params, varied in trng-df DataFrame) initialized in each available fixed point per parametrization. Pattern-Identification on basis of frequency over space and over time.\n",
    "    \n",
    "    INPUT:\n",
    "    :mtype: type of model, string, either 'activity' or 'voltage' \n",
    "    :trng_df: pandas-DataFrame, column 1 and column 2 in trng_df are the parameters that were varied, there is one column that gives all available fixed points per parametrization, named 'fixed_points' \n",
    "    :params: dictionary of fix parameters\n",
    "    :variables: dictionary of variables (duration, #pixels,  delta_t)\n",
    "    \n",
    "    OUTPUT:\n",
    "    :df: pandas-Dataframe with [varied_param1, varied_param2, patterns], where 'patterns' is a list of the same length as 'fixed_points' with numbers from 1-4, indicating the emerging pattern after initialising the model in the corresponding fixed point.\n",
    "    stationary=1\n",
    "    temporal=2\n",
    "    spatial=3\n",
    "    spatiotemporal=4\n",
    "    e.g. parametrization shows 3 fixed points, [fp1, fp2, fp3], init in fp1 shows spatial, in fp2 &fp3 stationary patterns => patterns=[3,1,1]\"\"\"\n",
    "\n",
    "    exc, inh = c1d.run(params, itype='inte_fft', fp=fp)\n",
    "        \n",
    "   # print('exc[-10]', exc[-10])\n",
    "   # print('exc.T[-10]', exc.T[-10])\n",
    "    #the returned activity is returned in shape: rows per time step, len(row)=#of pixels\n",
    "    #we transpose that to have a matrix with one row per pixel, and coulmns=time steps.\n",
    "    x = exc.T\n",
    "    temp = int(last_sec*(1/params.dt))\n",
    "    x = x[:,-temp:]\n",
    "    \n",
    " #   print('x before Pxx computation', x.flatten() )\n",
    "    \n",
    "    \n",
    "    #to identify whether there is change over time per node \n",
    "    #(\"per node there is a frequency>0 => temporal pattern\"), we get the average\n",
    "    #PSD over time and check, whether all(power(frequencies)) are close to 0: \n",
    "    #if returned false, then there is a frequency with power >0\n",
    "    #i.e. a change in activity over time => temporal pattern\n",
    "    #investigated time series-matrix: x=(rows=nodes, columns=time steps), \n",
    "    #e.g. 37 nodes and 5 seconds => shape=(37,5*variables['delta_t'])\n",
    "    \n",
    "    fs = params.n\n",
    "    f_time, Pxx_den_time = getAvgPSD(x, fs)\n",
    "    temporally_homogeneous = all(Pxx_den_time <=0.1*(10**(-5)))  #all(np.isclose(Pxx_den_time,0))\n",
    "    \n",
    "    #to identify vise verca, if there is a change in activiy over space, \n",
    "    #we check the frequency over nodes per time step, \n",
    "    #hence transpose x again\n",
    "    x=x.T\n",
    "    fs = params.dt\n",
    "    f_space, Pxx_den_spatial = getAvgPSD(x, fs)\n",
    "    spatially_homogeneous = all(Pxx_den_spatial <=0.1*(10**(-5)))  #np.isclose(Pxx_den_spatial,0))\n",
    "    \n",
    "    if spatially_homogeneous and temporally_homogeneous:\n",
    "        pattern = 1\n",
    "    elif spatially_homogeneous and not temporally_homogeneous:\n",
    "        pattern = 2\n",
    "    elif not spatially_homogeneous and temporally_homogeneous:\n",
    "        pattern = 3\n",
    "    else:\n",
    "        pattern = 4\n",
    "        \n",
    " #   print('In pattern collection, pattern: ', pattern)\n",
    "        \n",
    "    return pattern, Pxx_den_time, f_time, Pxx_den_spatial, f_space"
   ]
  },
  {
   "cell_type": "code",
   "execution_count": null,
   "id": "8c666afc-0ee2-4922-80df-32528ccbaba7",
   "metadata": {},
   "outputs": [],
   "source": []
  },
  {
   "cell_type": "code",
   "execution_count": 51,
   "id": "165fce6a-3149-4a9f-9386-8b185c9c3c10",
   "metadata": {},
   "outputs": [],
   "source": [
    "pa = {'I_e': 2.0, 'I_i': 0.75, 'end_t': 800,'length': 50}"
   ]
  },
  {
   "cell_type": "code",
   "execution_count": 52,
   "id": "b8a0d59a-5c2c-4f5a-b336-b758eb1c7a6d",
   "metadata": {},
   "outputs": [
    {
     "data": {
      "text/plain": [
       "array([[0.313055  , 0.23289628]])"
      ]
     },
     "execution_count": 52,
     "metadata": {},
     "output_type": "execute_result"
    }
   ],
   "source": [
    "ps = setParams(pa)\n",
    "fps = computeFPs(ps)\n",
    "stab = checkFixPtsStability(fps, ps)\n",
    "fps"
   ]
  },
  {
   "cell_type": "code",
   "execution_count": 53,
   "id": "953952a5-f339-4324-9eb3-475ee6b70576",
   "metadata": {},
   "outputs": [],
   "source": [
    "fp = fps[0]"
   ]
  },
  {
   "cell_type": "code",
   "execution_count": 54,
   "id": "67fc523e-4e40-460f-ac7c-659cb7e7c97e",
   "metadata": {},
   "outputs": [
    {
     "name": "stderr",
     "output_type": "stream",
     "text": [
      "/Users/ronja/opt/anaconda3/lib/python3.9/site-packages/scipy/signal/spectral.py:1964: UserWarning: nperseg = 256 is greater than input length  = 100, using nperseg = 100\n",
      "  warnings.warn('nperseg = {0:d} is greater than input length '\n",
      "/Users/ronja/opt/anaconda3/lib/python3.9/site-packages/scipy/signal/spectral.py:1964: UserWarning: nperseg = 256 is greater than input length  = 128, using nperseg = 128\n",
      "  warnings.warn('nperseg = {0:d} is greater than input length '\n"
     ]
    }
   ],
   "source": [
    "pat, Pxx_den_time, f_time, Pxx_den_spatial, f_space = collectPatterns(fp, ps, last_sec=10)"
   ]
  },
  {
   "cell_type": "code",
   "execution_count": 55,
   "id": "1e299e6c-5467-4eba-89ff-75d22919d06e",
   "metadata": {},
   "outputs": [
    {
     "data": {
      "text/plain": [
       "[<matplotlib.lines.Line2D at 0x7fe918a36340>]"
      ]
     },
     "execution_count": 55,
     "metadata": {},
     "output_type": "execute_result"
    },
    {
     "data": {
      "image/png": "[encoded data removed]",
      "text/plain": [
       "<Figure size 432x288 with 1 Axes>"
      ]
     },
     "metadata": {
      "needs_background": "light"
     },
     "output_type": "display_data"
    }
   ],
   "source": [
    "plt.plot(f_time, Pxx_den_time)"
   ]
  },
  {
   "cell_type": "code",
   "execution_count": 56,
   "id": "4d3f00e4-e9ec-401e-ad50-c7db9489218e",
   "metadata": {},
   "outputs": [
    {
     "data": {
      "text/plain": [
       "[<matplotlib.lines.Line2D at 0x7fe90b001340>]"
      ]
     },
     "execution_count": 56,
     "metadata": {},
     "output_type": "execute_result"
    },
    {
     "data": {
      "image/png": "[encoded data removed]",
      "text/plain": [
       "<Figure size 432x288 with 1 Axes>"
      ]
     },
     "metadata": {
      "needs_background": "light"
     },
     "output_type": "display_data"
    }
   ],
   "source": [
    "plt.plot(f_space,Pxx_den_spatial)"
   ]
  },
  {
   "cell_type": "code",
   "execution_count": 57,
   "id": "1b2dc06f-9e64-41e7-a4a5-ddfd718fa97c",
   "metadata": {},
   "outputs": [
    {
     "data": {
      "text/plain": [
       "3"
      ]
     },
     "execution_count": 57,
     "metadata": {},
     "output_type": "execute_result"
    }
   ],
   "source": [
    "pat\n"
   ]
  },
  {
   "cell_type": "code",
   "execution_count": 58,
   "id": "0e791c7d-f25f-42ad-ac39-2c4b9a422160",
   "metadata": {},
   "outputs": [
    {
     "data": {
      "text/plain": [
       "array([3.14853376e-12, 2.74967407e-09, 1.35697475e-10, 8.48108944e-12,\n",
       "       1.35694643e-12, 3.39220764e-13, 1.10756357e-13, 4.32579461e-14,\n",
       "       1.92214459e-14, 9.41540905e-15, 4.97774142e-15, 2.79820821e-15,\n",
       "       1.65435298e-15, 1.02019407e-15, 6.52013864e-16, 4.29676795e-16,\n",
       "       2.90773762e-16, 2.01388036e-16, 1.42350352e-16, 1.02447354e-16,\n",
       "       7.49169372e-17, 5.55691818e-17, 4.17440287e-17, 3.17152295e-17,\n",
       "       2.43400346e-17, 1.88481390e-17, 1.47116261e-17, 1.15631570e-17,\n",
       "       9.14352553e-18, 7.26744870e-18, 5.80089070e-18, 4.64580622e-18,\n",
       "       3.72973294e-18, 2.99859987e-18, 2.41169785e-18, 1.93812250e-18,\n",
       "       1.55423202e-18, 1.24181231e-18, 9.86740575e-19, 7.78003547e-19,\n",
       "       6.06970604e-19, 4.66851785e-19, 3.52291109e-19, 2.59059863e-19,\n",
       "       1.83824423e-19, 1.23970236e-19, 7.74685916e-20, 4.27764855e-20,\n",
       "       1.87625129e-20, 4.65375057e-21])"
      ]
     },
     "execution_count": 58,
     "metadata": {},
     "output_type": "execute_result"
    }
   ],
   "source": [
    "Pxx_den_time"
   ]
  },
  {
   "cell_type": "code",
   "execution_count": null,
   "id": "3c473597-f2cd-409e-afa0-6fd81ef7bba5",
   "metadata": {},
   "outputs": [],
   "source": []
  },
  {
   "cell_type": "code",
   "execution_count": null,
   "id": "a642af06-88d1-4720-8d09-8543a1931678",
   "metadata": {},
   "outputs": [],
   "source": []
  }
 ],
 "metadata": {
  "kernelspec": {
   "display_name": "Python 3 (ipykernel)",
   "language": "python",
   "name": "python3"
  },
  "language_info": {
   "codemirror_mode": {
    "name": "ipython",
    "version": 3
   },
   "file_extension": ".py",
   "mimetype": "text/x-python",
   "name": "python",
   "nbconvert_exporter": "python",
   "pygments_lexer": "ipython3",
   "version": "3.9.12"
  }
 },
 "nbformat": 4,
 "nbformat_minor": 5
}
