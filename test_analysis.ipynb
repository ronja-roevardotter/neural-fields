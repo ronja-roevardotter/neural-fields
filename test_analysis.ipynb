{
 "cells": [
  {
   "cell_type": "code",
   "execution_count": 1,
   "id": "208b64ae-e9a4-4133-94cb-9fa8416be7e9",
   "metadata": {},
   "outputs": [],
   "source": [
    "import numpy as np\n",
    "import matplotlib.pyplot as plt\n",
    "\n",
    "from py.params import setParams\n",
    "from py.analysis import computeFPs, checkFixPtsStability, a_jkValues\n",
    "from py.analysis import tr, det, lmbd\n",
    "\n",
    "\n",
    "\n",
    "# This will reload all imports as soon as the code changes\n",
    "%load_ext autoreload\n",
    "%autoreload 2"
   ]
  },
  {
   "cell_type": "code",
   "execution_count": 2,
   "id": "b8fe8ef4-e2a9-4e9c-bf6a-e16cfa697a8e",
   "metadata": {},
   "outputs": [
    {
     "name": "stdout",
     "output_type": "stream",
     "text": [
      "Summe von ke, bereits normalisiert, also sollte 1 sein 0.9999999999999999\n"
     ]
    }
   ],
   "source": [
    "params={'tau_e': 1, 'tau_i': 0.1,\n",
    "        'w_ee': 1, 'w_ei': 1.5, 'w_ie': 1, 'w_ii': 0.25,\n",
    "        'sigma_e': 1, 'sigma_i': 3, 'kernel': 'exponential', \n",
    "        'mu_e': 0, 'mu_i': 0, 'beta_e': 50, 'beta_i': 50,\n",
    "        'I_e': -0.1, 'I_i': -0.4,\n",
    "        'dt': 0.1, 'start_t': 0, 'end_t': 1000, \n",
    "        'n': 62, 'length': 10}\n",
    "ps = setParams(params)"
   ]
  },
  {
   "cell_type": "code",
   "execution_count": 3,
   "id": "a05d4d81-c1eb-4662-ad53-0a5a61a0bca7",
   "metadata": {
    "tags": []
   },
   "outputs": [
    {
     "name": "stdout",
     "output_type": "stream",
     "text": [
      "Summe von ke, bereits normalisiert, also sollte 1 sein 0.9999999999999999\n"
     ]
    }
   ],
   "source": [
    "fps = computeFPs(ps)"
   ]
  },
  {
   "cell_type": "code",
   "execution_count": 4,
   "id": "359279c0-c089-4078-9f9f-9417c92940db",
   "metadata": {},
   "outputs": [
    {
     "data": {
      "text/plain": [
       "[array([1.23241817e-02, 3.81703853e-09]),\n",
       " array([3.14558007e-02, 9.93427119e-09]),\n",
       " array([0.43136703, 0.22459503])]"
      ]
     },
     "execution_count": 4,
     "metadata": {},
     "output_type": "execute_result"
    }
   ],
   "source": [
    "fps"
   ]
  },
  {
   "cell_type": "code",
   "execution_count": 5,
   "id": "0984c80b-79e1-4509-a274-c3b255c19410",
   "metadata": {},
   "outputs": [],
   "source": [
    "stab = checkFixPtsStability(fps, ps)"
   ]
  },
  {
   "cell_type": "code",
   "execution_count": 6,
   "id": "286fee21-612d-4b29-90c3-8856274dbe43",
   "metadata": {},
   "outputs": [
    {
     "data": {
      "text/plain": [
       "[1, 0, 1]"
      ]
     },
     "execution_count": 6,
     "metadata": {},
     "output_type": "execute_result"
    }
   ],
   "source": [
    "stab"
   ]
  },
  {
   "cell_type": "code",
   "execution_count": 7,
   "id": "ee17129e-cf9b-405e-9fda-59e38aa04d7e",
   "metadata": {},
   "outputs": [],
   "source": [
    "a_ee, a_ei, a_ie, a_ii = a_jkValues(fps[2], ps)"
   ]
  },
  {
   "cell_type": "code",
   "execution_count": 8,
   "id": "49617ec7-4d62-4831-8ad8-12a7728cc399",
   "metadata": {},
   "outputs": [],
   "source": [
    "l=61\n",
    "k = np.linspace(-3,3,l)\n",
    "determinant = det(k, a_ee, a_ei, a_ie, a_ii, ps)\n",
    "trace = tr(k, a_ee, a_ii, ps)\n",
    "zero = np.zeros(l)"
   ]
  },
  {
   "cell_type": "code",
   "execution_count": 9,
   "id": "4352bcf3-1117-4253-aa49-69f68105f568",
   "metadata": {},
   "outputs": [
    {
     "data": {
      "text/plain": [
       "[<matplotlib.lines.Line2D at 0x7fa050e5f310>]"
      ]
     },
     "execution_count": 9,
     "metadata": {},
     "output_type": "execute_result"
    },
    {
     "data": {
      "image/png": "[encoded data removed]",
      "text/plain": [
       "<Figure size 432x288 with 1 Axes>"
      ]
     },
     "metadata": {
      "needs_background": "light"
     },
     "output_type": "display_data"
    }
   ],
   "source": [
    "plt.plot(k, determinant, k, trace)\n",
    "plt.plot(k, zero)"
   ]
  },
  {
   "cell_type": "code",
   "execution_count": 10,
   "id": "6c10e3e2-1084-4a37-adff-32a8d4ef5f74",
   "metadata": {},
   "outputs": [],
   "source": [
    "lmbda = lmbd(k, a_ee, a_ei, a_ie, a_ii, ps)"
   ]
  },
  {
   "cell_type": "code",
   "execution_count": 11,
   "id": "21d0940a-1f3e-4552-a8ae-28bbcb6eea17",
   "metadata": {},
   "outputs": [
    {
     "data": {
      "text/plain": [
       "[<matplotlib.lines.Line2D at 0x7fa043027730>]"
      ]
     },
     "execution_count": 11,
     "metadata": {},
     "output_type": "execute_result"
    },
    {
     "data": {
      "image/png": "[encoded data removed]",
      "text/plain": [
       "<Figure size 432x288 with 1 Axes>"
      ]
     },
     "metadata": {
      "needs_background": "light"
     },
     "output_type": "display_data"
    }
   ],
   "source": [
    "plt.plot(k, lmbda[0].real, k, lmbda[1].real)\n",
    "plt.plot(k, lmbda[0].imag, k, lmbda[1].imag, linestyle='dashed')\n",
    "plt.plot(k, zero)"
   ]
  },
  {
   "cell_type": "code",
   "execution_count": 12,
   "id": "d4a8787d-fcf4-44c0-a11a-4f0226ab7f9a",
   "metadata": {},
   "outputs": [],
   "source": [
    "trace2 = lmbda[0]+lmbda[1]\n",
    "determinant2 = lmbda[0]*lmbda[1]"
   ]
  },
  {
   "cell_type": "code",
   "execution_count": 13,
   "id": "57e7e380-760e-4761-bf9e-0f5e781679f8",
   "metadata": {},
   "outputs": [
    {
     "name": "stderr",
     "output_type": "stream",
     "text": [
      "/Users/ronja/opt/anaconda3/lib/python3.9/site-packages/matplotlib/cbook/__init__.py:1298: ComplexWarning: Casting complex values to real discards the imaginary part\n",
      "  return np.asarray(x, float)\n"
     ]
    },
    {
     "data": {
      "text/plain": [
       "[<matplotlib.lines.Line2D at 0x7fa043094e80>]"
      ]
     },
     "execution_count": 13,
     "metadata": {},
     "output_type": "execute_result"
    },
    {
     "data": {
      "image/png": "[encoded data removed]",
      "text/plain": [
       "<Figure size 432x288 with 1 Axes>"
      ]
     },
     "metadata": {
      "needs_background": "light"
     },
     "output_type": "display_data"
    }
   ],
   "source": [
    "plt.plot(k, determinant2, k, trace2)\n",
    "plt.plot(k, zero)"
   ]
  },
  {
   "cell_type": "code",
   "execution_count": null,
   "id": "08141210-7730-41a3-99c2-25553977a193",
   "metadata": {},
   "outputs": [],
   "source": []
  },
  {
   "cell_type": "code",
   "execution_count": null,
   "id": "4d9d6f2f-b9c5-49fc-b842-7ec27ebfe97e",
   "metadata": {},
   "outputs": [],
   "source": []
  },
  {
   "cell_type": "code",
   "execution_count": null,
   "id": "6b6b164e-4ba9-49e1-947b-420bc6116e45",
   "metadata": {},
   "outputs": [],
   "source": []
  },
  {
   "cell_type": "code",
   "execution_count": null,
   "id": "3b9d3d1c-7372-4261-969a-6314186719d9",
   "metadata": {},
   "outputs": [],
   "source": []
  },
  {
   "cell_type": "code",
   "execution_count": null,
   "id": "92d5428e-eab8-48b1-abb6-04e55aca6486",
   "metadata": {},
   "outputs": [],
   "source": []
  }
 ],
 "metadata": {
  "kernelspec": {
   "display_name": "Python 3 (ipykernel)",
   "language": "python",
   "name": "python3"
  },
  "language_info": {
   "codemirror_mode": {
    "name": "ipython",
    "version": 3
   },
   "file_extension": ".py",
   "mimetype": "text/x-python",
   "name": "python",
   "nbconvert_exporter": "python",
   "pygments_lexer": "ipython3",
   "version": "3.9.12"
  }
 },
 "nbformat": 4,
 "nbformat_minor": 5
}
