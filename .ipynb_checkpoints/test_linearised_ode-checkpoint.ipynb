{
 "cells": [
  {
   "cell_type": "code",
   "execution_count": null,
   "id": "ee72d59b-3033-4906-abb9-67e23ba05c57",
   "metadata": {},
   "outputs": [],
   "source": [
    "import numpy as np\n",
    "\n",
    "import matplotlib.pyplot as plt\n",
    "\n",
    "import py.continuum1d as continuum1d\n",
    "\n",
    "from py.params import setParams\n",
    "from py.analysis import computeFPs, checkFixPtsStability\n",
    "from py.linearised_ode import runIntegration\n",
    "\n"
   ]
  },
  {
   "cell_type": "code",
   "execution_count": null,
   "id": "a50c57d6-779e-4c59-a6ce-8b079d0f23da",
   "metadata": {},
   "outputs": [],
   "source": [
    "params={'I_e': 5.2, 'I_i': 3.7}\n",
    "ps = setParams(params)\n",
    "fps = computeFPs(ps)\n",
    "stab = checkFixPtsStability(fps, ps)\n",
    "print('fixed points %s ' %str(fps))\n",
    "print('with (mass) stability %s'  %str(stab))"
   ]
  },
  {
   "cell_type": "code",
   "execution_count": null,
   "id": "a2a78c7c-c41a-4279-8a67-e7a808babb70",
   "metadata": {},
   "outputs": [],
   "source": [
    "fp = fps[0]"
   ]
  },
  {
   "cell_type": "code",
   "execution_count": null,
   "id": "0204bbc9-c48d-4c6b-ba82-80dea1b630f0",
   "metadata": {},
   "outputs": [],
   "source": [
    "phi, Phi = runIntegration(ps, fp=fp)"
   ]
  },
  {
   "cell_type": "code",
   "execution_count": null,
   "id": "57255c85-3a51-40a7-bf2b-778a27c29b9b",
   "metadata": {},
   "outputs": [],
   "source": [
    "fix, (ax0, ax1) = plt.subplots(1, 2, figsize=(16,8))\n",
    "\n",
    "ax0.imshow(phi.T[:,], vmin=0, vmax=1, aspect='auto')\n",
    "ax1.imshow(phi.T, vmin=0, vmax=1, aspect='auto')\n",
    "\n",
    "ax0.set_title(label='spatially f-trafoéd lin. evolution equation w.r.t. k')\n",
    "ax1.set_title(label='integration by fft')"
   ]
  }
 ],
 "metadata": {
  "kernelspec": {
   "display_name": "Python 3 (ipykernel)",
   "language": "python",
   "name": "python3"
  },
  "language_info": {
   "codemirror_mode": {
    "name": "ipython",
    "version": 3
   },
   "file_extension": ".py",
   "mimetype": "text/x-python",
   "name": "python",
   "nbconvert_exporter": "python",
   "pygments_lexer": "ipython3",
   "version": "3.9.12"
  }
 },
 "nbformat": 4,
 "nbformat_minor": 5
}
