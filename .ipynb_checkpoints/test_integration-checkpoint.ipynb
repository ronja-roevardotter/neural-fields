{
 "cells": [
  {
   "cell_type": "code",
   "execution_count": 1,
   "id": "e4fa2173-f2ed-4d2d-978a-b0ff99e805d9",
   "metadata": {},
   "outputs": [],
   "source": [
    "import numpy as np\n",
    "import matplotlib.pyplot as plt\n",
    "\n",
    "import py.continuum1d as continuum1d\n",
    "\n",
    "# This will reload all imports as soon as the code changes\n",
    "%load_ext autoreload\n",
    "%autoreload 2 "
   ]
  },
  {
   "cell_type": "code",
   "execution_count": 33,
   "id": "40c120dd-d23c-4f32-8ea4-230498a43c7a",
   "metadata": {},
   "outputs": [
    {
     "name": "stdout",
     "output_type": "stream",
     "text": [
      "1d Model initialised.\n"
     ]
    }
   ],
   "source": [
    "params={'tau_e': 1, 'tau_i': 0.1,\n",
    "        'w_ee': 1, 'w_ei': 1.5, 'w_ie': 1, 'w_ii': 0.25,\n",
    "        'sigma_e': 0.1, 'sigma_i': 0.3, 'kernel': 'exponential', \n",
    "        'mu_e': 0, 'mu_i': 0, 'beta_e': 50, 'beta_i': 50,\n",
    "        'I_e': -0.1, 'I_i': -0.4,\n",
    "        'dt': 0.1, 'start_t': 0, 'end_t': 1, \n",
    "        'n': 4, 'length': 1}\n",
    "\n",
    "c1d = continuum1d.continuum1d(params)"
   ]
  },
  {
   "cell_type": "code",
   "execution_count": 50,
   "id": "4f3de30a-3665-4895-9f55-56e58d85789e",
   "metadata": {
    "tags": []
   },
   "outputs": [
    {
     "name": "stdout",
     "output_type": "stream",
     "text": [
      "Summe von ke, bereits normalisiert, also sollte 1 sein 1.0\n"
     ]
    }
   ],
   "source": [
    "ue, ui = c1d.run(params, fp=np.array([0.3, 0.1]), itype='inte_approxi')"
   ]
  },
  {
   "cell_type": "code",
   "execution_count": 51,
   "id": "ccffb304-541b-4482-a92f-7b3f0e12c01d",
   "metadata": {},
   "outputs": [
    {
     "data": {
      "text/plain": [
       "<matplotlib.image.AxesImage at 0x7fe9ca82bdc0>"
      ]
     },
     "execution_count": 51,
     "metadata": {},
     "output_type": "execute_result"
    },
    {
     "data": {
      "image/png": "[encoded data removed]",
      "text/plain": [
       "<Figure size 432x432 with 1 Axes>"
      ]
     },
     "metadata": {
      "needs_background": "light"
     },
     "output_type": "display_data"
    }
   ],
   "source": [
    "plt.figure(figsize=(6,6))\n",
    "plt.imshow(ue.T, vmin=0.0, vmax=1, aspect='auto')"
   ]
  },
  {
   "cell_type": "code",
   "execution_count": 52,
   "id": "5dd3474c-8a09-4303-909e-1f8e5310abf5",
   "metadata": {},
   "outputs": [
    {
     "data": {
      "text/plain": [
       "[<matplotlib.lines.Line2D at 0x7fe9b8fb8c40>]"
      ]
     },
     "execution_count": 52,
     "metadata": {},
     "output_type": "execute_result"
    },
    {
     "data": {
      "image/png": "[encoded data removed]",
      "text/plain": [
       "<Figure size 432x288 with 1 Axes>"
      ]
     },
     "metadata": {
      "needs_background": "light"
     },
     "output_type": "display_data"
    }
   ],
   "source": [
    "a=ue[-10]\n",
    "plt.plot(np.linspace(0,a.shape[0], a.shape[0]), a)"
   ]
  },
  {
   "cell_type": "code",
   "execution_count": 53,
   "id": "abd61f63-776b-48af-9952-1eeafc2f81e8",
   "metadata": {
    "tags": []
   },
   "outputs": [
    {
     "name": "stdout",
     "output_type": "stream",
     "text": [
      "Summe von ke, bereits normalisiert, also sollte 1 sein 1.0\n"
     ]
    }
   ],
   "source": [
    "ue_ff, ui_ff = c1d.run(params, fp=np.array([0.43136703, 0.22459503]), itype='inte_fft')"
   ]
  },
  {
   "cell_type": "code",
   "execution_count": 54,
   "id": "59ef3293-d7e8-4e23-98f9-747b46a10545",
   "metadata": {},
   "outputs": [
    {
     "data": {
      "text/plain": [
       "<matplotlib.image.AxesImage at 0x7fe9aac569a0>"
      ]
     },
     "execution_count": 54,
     "metadata": {},
     "output_type": "execute_result"
    },
    {
     "data": {
      "image/png": "[encoded data removed]",
      "text/plain": [
       "<Figure size 432x432 with 1 Axes>"
      ]
     },
     "metadata": {
      "needs_background": "light"
     },
     "output_type": "display_data"
    }
   ],
   "source": [
    "import matplotlib.pyplot as plt\n",
    "\n",
    "plt.figure(figsize=(6,6))\n",
    "plt.imshow(ue_ff.T, vmin=0.0, vmax=1, aspect='auto')"
   ]
  },
  {
   "cell_type": "code",
   "execution_count": 55,
   "id": "831d51d3-c9c4-41ee-8668-eaf054b01deb",
   "metadata": {},
   "outputs": [
    {
     "data": {
      "text/plain": [
       "[<matplotlib.lines.Line2D at 0x7fe9cacd52b0>]"
      ]
     },
     "execution_count": 55,
     "metadata": {},
     "output_type": "execute_result"
    },
    {
     "data": {
      "image/png": "[encoded data removed]",
      "text/plain": [
       "<Figure size 432x288 with 1 Axes>"
      ]
     },
     "metadata": {
      "needs_background": "light"
     },
     "output_type": "display_data"
    }
   ],
   "source": [
    "a_ff=ue_ff[-10]\n",
    "plt.plot(np.linspace(0,a_ff.shape[0], a_ff.shape[0]), a_ff)"
   ]
  },
  {
   "cell_type": "code",
   "execution_count": 40,
   "id": "8094c65c-d520-4335-b590-1144388a7a1a",
   "metadata": {},
   "outputs": [
    {
     "data": {
      "text/plain": [
       "array([0.52631578, 0.52631578, 0.52631578, 0.52631578])"
      ]
     },
     "execution_count": 40,
     "metadata": {},
     "output_type": "execute_result"
    }
   ],
   "source": [
    "a_ff"
   ]
  },
  {
   "cell_type": "code",
   "execution_count": null,
   "id": "05139bda-9cc9-43cc-aeda-7987f59b01a5",
   "metadata": {},
   "outputs": [],
   "source": []
  },
  {
   "cell_type": "code",
   "execution_count": null,
   "id": "903b39c7-0939-4f3f-8c4b-11a8cf7a5b2b",
   "metadata": {},
   "outputs": [],
   "source": []
  },
  {
   "cell_type": "code",
   "execution_count": null,
   "id": "7466bba2-e9c0-48a0-8fdc-4134f0a7e351",
   "metadata": {},
   "outputs": [],
   "source": []
  },
  {
   "cell_type": "code",
   "execution_count": null,
   "id": "30d286bb-ca1f-4d15-a76d-b6ea223afdb5",
   "metadata": {},
   "outputs": [],
   "source": []
  },
  {
   "cell_type": "code",
   "execution_count": null,
   "id": "d1389648-4a5b-4b4a-b42a-08d6df00aaa7",
   "metadata": {},
   "outputs": [],
   "source": []
  },
  {
   "cell_type": "code",
   "execution_count": null,
   "id": "ddf25b75-393d-483b-9a03-759fe341effd",
   "metadata": {},
   "outputs": [],
   "source": []
  }
 ],
 "metadata": {
  "kernelspec": {
   "display_name": "Python 3 (ipykernel)",
   "language": "python",
   "name": "python3"
  },
  "language_info": {
   "codemirror_mode": {
    "name": "ipython",
    "version": 3
   },
   "file_extension": ".py",
   "mimetype": "text/x-python",
   "name": "python",
   "nbconvert_exporter": "python",
   "pygments_lexer": "ipython3",
   "version": "3.9.12"
  }
 },
 "nbformat": 4,
 "nbformat_minor": 5
}
