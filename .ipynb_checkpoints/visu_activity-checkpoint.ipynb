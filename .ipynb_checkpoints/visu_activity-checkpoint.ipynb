{
 "cells": [
  {
   "cell_type": "code",
   "execution_count": 1,
   "id": "36aac35d-32dc-414f-a924-adf9ef6dbbf7",
   "metadata": {},
   "outputs": [],
   "source": [
    "import numpy as np\n",
    "import matplotlib.pyplot as plt\n",
    "import matplotlib.ticker as ticker\n",
    "from matplotlib import cm\n",
    "\n",
    "import pandas as pd\n",
    "\n",
    "import py.continuum1d as continuum1d\n",
    "\n",
    "from py.params import setParams\n",
    "from py.analysis import computeFPs, checkFixPtsStability, violationType, a_jkValues, lmbd\n",
    "\n",
    "# This will reload all imports as soon as the code changes\n",
    "%load_ext autoreload\n",
    "%autoreload 2 "
   ]
  },
  {
   "cell_type": "code",
   "execution_count": 2,
   "id": "48af3e7a-8894-4cd3-ba30-69ed70c8a860",
   "metadata": {},
   "outputs": [
    {
     "name": "stdout",
     "output_type": "stream",
     "text": [
      "1d Model initialised.\n"
     ]
    }
   ],
   "source": [
    "params=None\n",
    "c1d = continuum1d.continuum1d()"
   ]
  },
  {
   "cell_type": "code",
   "execution_count": 3,
   "id": "25d8c6bc-ca03-4e01-adf8-0e9a169c19e2",
   "metadata": {},
   "outputs": [],
   "source": [
    "path = '/Users/ronja/opt/anaconda3/lib/python3.9/site-packages/matplotlib/mpl-data/stylelib/'\n",
    "plt.style.use(path + 'template.mplstyle')\n",
    "\n",
    "def plotActivity(array, xaxis, yaxis, title='Default', colorbar=False):\n",
    "    \n",
    "    \n",
    "    a=array.T[::-1]\n",
    "    \n",
    "    fig, ax = plt.subplots(1,1,figsize=(6,6),dpi=120)\n",
    "\n",
    "    pos = ax.imshow(a, cmap='viridis', aspect='auto', vmin=0, vmax=1, zorder=1, interpolation='none')\n",
    "    plt.title(title, fontsize=15)\n",
    "    \n",
    "    # Add minorticks on the colorbar to make it easy to read the\n",
    "    # values off the colorbar.\n",
    "    #cbar = fig.colorbar(pos, ax=ax2, extend='both')\n",
    "    \n",
    "    nmb_labels = 5\n",
    "                \n",
    "    idx_x = np.round(np.linspace(0, len(xaxis) - 1, nmb_labels)).astype(int)\n",
    "    idx_y = np.round(np.linspace(0, len(yaxis) - 1, nmb_labels)).astype(int)\n",
    "        \n",
    "    xliste=xaxis[idx_x]\n",
    "    yliste=yaxis[idx_y[::-1]]\n",
    "    \n",
    "    xlabels=list('%.1f'%(e) for e in xliste)\n",
    "    ylabels=list('%.1f'%(e) for e in yliste)\n",
    "    \n",
    "    ax.xaxis.set_major_locator(ticker.LinearLocator(nmb_labels))\n",
    "    ax.set_xticklabels(labels=xlabels, fontsize=15)\n",
    "    ax.yaxis.set_major_locator(ticker.LinearLocator(nmb_labels))\n",
    "    ax.set_yticklabels(labels=ylabels, fontsize=15)\n",
    "        \n",
    "    ax.set(xlabel='time', ylabel='x')\n",
    "        \n",
    "    ax.label_outer()\n",
    "    \n",
    "\n",
    "    if colorbar:\n",
    "        cbar_ticks=np.linspace(0,1,nmb_labels)\n",
    "      #  cbar_ticks=np.around(cbar_ticks, decimals=0)\n",
    "        \n",
    "        # Create colorbar\n",
    "        cb_ax = fig.add_axes([.93,.126,.04,.754])\n",
    "        cbar = ax.figure.colorbar(pos, ax=ax, ticks=cbar_ticks, cax=cb_ax)\n",
    "        cbar.ax.set_ylabel(r'$max.\\ u_e$', rotation=-90, va=\"bottom\")\n",
    "        cbar.ax.set_yticklabels(cbar_ticks)\n",
    "        \n",
    "        \n",
    "    plt.xticks(fontsize=15)\n",
    "    plt.yticks(fontsize=15)\n",
    "    \n",
    "  #  cbar.minorticks_on()\n",
    "\n",
    "\n",
    "    \n",
    "    plt.show()"
   ]
  },
  {
   "cell_type": "code",
   "execution_count": 61,
   "id": "dd68f3c2-a7aa-4a82-9c3e-434f8c021374",
   "metadata": {},
   "outputs": [
    {
     "name": "stdout",
     "output_type": "stream",
     "text": [
      "[[0.49872572 0.61420836]]\n",
      "[1]\n"
     ]
    },
    {
     "data": {
      "text/plain": [
       "0"
      ]
     },
     "execution_count": 61,
     "metadata": {},
     "output_type": "execute_result"
    }
   ],
   "source": [
    "ee = 0.0 #-0.6\n",
    "ii = -1 #-0.85\n",
    "params={'I_e': ee, 'I_i': ii, 'b': 0.0, 'end_t': 10*1000, 'tau_a': 1000, 'tau_i': 0.6, 'sigma_i': 0.6, 'dt': 0.01}\n",
    "\n",
    "ps = setParams(params)\n",
    "fps = computeFPs(ps)\n",
    "print(fps)\n",
    "stab = checkFixPtsStability(fps, ps)\n",
    "print(stab)\n",
    "\n",
    "k=np.linspace(-3,3,51)\n",
    "\n",
    "a_ee, a_ei, a_ie, a_ii = a_jkValues(fps[0], ps)\n",
    "vio, k = violationType(k, a_ee, a_ei, a_ie, a_ii, ps)\n",
    "\n",
    "#print('fixed points %s ' %str(fps))\n",
    "#print('with (mass) stability %s'  %str(stab))\n",
    "vio"
   ]
  },
  {
   "cell_type": "code",
   "execution_count": 62,
   "id": "743d400f",
   "metadata": {},
   "outputs": [],
   "source": [
    "fp = fps[0]\n",
    "#fp = np.array([0.0, 0.01])"
   ]
  },
  {
   "cell_type": "code",
   "execution_count": 63,
   "id": "5093b3e0-eba6-4df6-95c4-93beffa33ee7",
   "metadata": {},
   "outputs": [],
   "source": [
    "ue, ui = c1d.run(ps, itype='inte_adaptation')#, fp=fp)"
   ]
  },
  {
   "cell_type": "code",
   "execution_count": 64,
   "id": "ae64ebe7",
   "metadata": {},
   "outputs": [],
   "source": [
    "x = np.roll(np.fft.fftshift(ps.x), -1)[::-1]\n",
    "time = ps.time * (1/1000)"
   ]
  },
  {
   "cell_type": "code",
   "execution_count": 65,
   "id": "6d46bc70-4ed2-4420-899b-1438fc856d3b",
   "metadata": {},
   "outputs": [
    {
     "name": "stderr",
     "output_type": "stream",
     "text": [
      "/var/folders/8l/w8cdnkkj38bg2pscx__1vxth0000gn/T/ipykernel_4151/99290923.py:30: UserWarning: FixedFormatter should only be used together with FixedLocator\n",
      "  ax.set_xticklabels(labels=xlabels, fontsize=15)\n",
      "/var/folders/8l/w8cdnkkj38bg2pscx__1vxth0000gn/T/ipykernel_4151/99290923.py:32: UserWarning: FixedFormatter should only be used together with FixedLocator\n",
      "  ax.set_yticklabels(labels=ylabels, fontsize=15)\n"
     ]
    },
    {
     "data": {
      "image/png": "[encoded data removed]",
      "text/plain": [
       "<Figure size 720x720 with 2 Axes>"
      ]
     },
     "metadata": {
      "needs_background": "light"
     },
     "output_type": "display_data"
    }
   ],
   "source": [
    "plotActivity(ue[-50000:,:], xaxis=time[-50000:], yaxis=x, \n",
    "             title = 'weakly unstable standing wave; rnd. init. ', colorbar = True) #"
   ]
  },
  {
   "cell_type": "code",
   "execution_count": 164,
   "id": "62848291",
   "metadata": {},
   "outputs": [
    {
     "name": "stderr",
     "output_type": "stream",
     "text": [
      "/var/folders/8l/w8cdnkkj38bg2pscx__1vxth0000gn/T/ipykernel_3266/3278724353.py:5: SettingWithCopyWarning: \n",
      "A value is trying to be set on a copy of a slice from a DataFrame\n",
      "\n",
      "See the caveats in the documentation: https://pandas.pydata.org/pandas-docs/stable/user_guide/indexing.html#returning-a-view-versus-a-copy\n",
      "  df[str][np.isinf(df[str])]=0\n",
      "/var/folders/8l/w8cdnkkj38bg2pscx__1vxth0000gn/T/ipykernel_3266/3278724353.py:6: SettingWithCopyWarning: \n",
      "A value is trying to be set on a copy of a slice from a DataFrame\n",
      "\n",
      "See the caveats in the documentation: https://pandas.pydata.org/pandas-docs/stable/user_guide/indexing.html#returning-a-view-versus-a-copy\n",
      "  df[str][df[str].isnull()]=0\n"
     ]
    }
   ],
   "source": [
    "df = pd.read_csv('default_space_frequs.csv')\n",
    "\n",
    "str = 'up_space'\n",
    "\n",
    "df[str][np.isinf(df[str])]=0\n",
    "df[str][df[str].isnull()]=0\n",
    "\n",
    "a = max(df[str])\n",
    "#df[max(df['up_duration'])]\n",
    "df[df[str]==a] = 0"
   ]
  },
  {
   "cell_type": "code",
   "execution_count": 302,
   "id": "08300387",
   "metadata": {},
   "outputs": [],
   "source": [
    "a = max(df[str])\n",
    "#df[max(df['up_duration'])]\n",
    "df[df[str]==a] = 0"
   ]
  },
  {
   "cell_type": "code",
   "execution_count": 303,
   "id": "b5a31449",
   "metadata": {},
   "outputs": [
    {
     "data": {
      "text/html": [
       "<div>\n",
       "<style scoped>\n",
       "    .dataframe tbody tr th:only-of-type {\n",
       "        vertical-align: middle;\n",
       "    }\n",
       "\n",
       "    .dataframe tbody tr th {\n",
       "        vertical-align: top;\n",
       "    }\n",
       "\n",
       "    .dataframe thead th {\n",
       "        text-align: right;\n",
       "    }\n",
       "</style>\n",
       "<table border=\"1\" class=\"dataframe\">\n",
       "  <thead>\n",
       "    <tr style=\"text-align: right;\">\n",
       "      <th></th>\n",
       "      <th>Unnamed: 0</th>\n",
       "      <th>I_e</th>\n",
       "      <th>I_i</th>\n",
       "      <th>dom_frequ</th>\n",
       "      <th>up_space</th>\n",
       "      <th>down_space</th>\n",
       "    </tr>\n",
       "  </thead>\n",
       "  <tbody>\n",
       "    <tr>\n",
       "      <th>785</th>\n",
       "      <td>0</td>\n",
       "      <td>0.800000</td>\n",
       "      <td>0.488889</td>\n",
       "      <td>1.0</td>\n",
       "      <td>46.484375</td>\n",
       "      <td>3.515625</td>\n",
       "    </tr>\n",
       "    <tr>\n",
       "      <th>790</th>\n",
       "      <td>0</td>\n",
       "      <td>0.844444</td>\n",
       "      <td>0.533333</td>\n",
       "      <td>1.0</td>\n",
       "      <td>46.484375</td>\n",
       "      <td>3.515625</td>\n",
       "    </tr>\n",
       "  </tbody>\n",
       "</table>\n",
       "</div>"
      ],
      "text/plain": [
       "     Unnamed: 0       I_e       I_i  dom_frequ   up_space  down_space\n",
       "785           0  0.800000  0.488889        1.0  46.484375    3.515625\n",
       "790           0  0.844444  0.533333        1.0  46.484375    3.515625"
      ]
     },
     "execution_count": 303,
     "metadata": {},
     "output_type": "execute_result"
    }
   ],
   "source": [
    "a = max(df[str])\n",
    "#df[max(df['up_duration'])]\n",
    "df[df[str]==a] "
   ]
  },
  {
   "cell_type": "code",
   "execution_count": 323,
   "id": "d1b1d264",
   "metadata": {},
   "outputs": [
    {
     "data": {
      "text/html": [
       "<div>\n",
       "<style scoped>\n",
       "    .dataframe tbody tr th:only-of-type {\n",
       "        vertical-align: middle;\n",
       "    }\n",
       "\n",
       "    .dataframe tbody tr th {\n",
       "        vertical-align: top;\n",
       "    }\n",
       "\n",
       "    .dataframe thead th {\n",
       "        text-align: right;\n",
       "    }\n",
       "</style>\n",
       "<table border=\"1\" class=\"dataframe\">\n",
       "  <thead>\n",
       "    <tr style=\"text-align: right;\">\n",
       "      <th></th>\n",
       "      <th>Unnamed: 0</th>\n",
       "      <th>I_e</th>\n",
       "      <th>I_i</th>\n",
       "      <th>dom_frequ</th>\n",
       "      <th>up_space</th>\n",
       "      <th>down_space</th>\n",
       "    </tr>\n",
       "  </thead>\n",
       "  <tbody>\n",
       "    <tr>\n",
       "      <th>636</th>\n",
       "      <td>0</td>\n",
       "      <td>0.311111</td>\n",
       "      <td>-0.088889</td>\n",
       "      <td>7.0</td>\n",
       "      <td>3.627232</td>\n",
       "      <td>3.515625</td>\n",
       "    </tr>\n",
       "    <tr>\n",
       "      <th>654</th>\n",
       "      <td>0</td>\n",
       "      <td>0.355556</td>\n",
       "      <td>-0.088889</td>\n",
       "      <td>7.0</td>\n",
       "      <td>3.794643</td>\n",
       "      <td>3.348214</td>\n",
       "    </tr>\n",
       "    <tr>\n",
       "      <th>671</th>\n",
       "      <td>0</td>\n",
       "      <td>0.400000</td>\n",
       "      <td>-0.088889</td>\n",
       "      <td>6.0</td>\n",
       "      <td>4.817708</td>\n",
       "      <td>3.515625</td>\n",
       "    </tr>\n",
       "    <tr>\n",
       "      <th>672</th>\n",
       "      <td>0</td>\n",
       "      <td>0.400000</td>\n",
       "      <td>-0.044444</td>\n",
       "      <td>7.0</td>\n",
       "      <td>3.850446</td>\n",
       "      <td>3.292411</td>\n",
       "    </tr>\n",
       "    <tr>\n",
       "      <th>685</th>\n",
       "      <td>0</td>\n",
       "      <td>0.444444</td>\n",
       "      <td>-0.088889</td>\n",
       "      <td>6.0</td>\n",
       "      <td>5.078125</td>\n",
       "      <td>3.255208</td>\n",
       "    </tr>\n",
       "    <tr>\n",
       "      <th>...</th>\n",
       "      <td>...</td>\n",
       "      <td>...</td>\n",
       "      <td>...</td>\n",
       "      <td>...</td>\n",
       "      <td>...</td>\n",
       "      <td>...</td>\n",
       "    </tr>\n",
       "    <tr>\n",
       "      <th>793</th>\n",
       "      <td>0</td>\n",
       "      <td>0.888889</td>\n",
       "      <td>0.444444</td>\n",
       "      <td>0.0</td>\n",
       "      <td>0.000000</td>\n",
       "      <td>inf</td>\n",
       "    </tr>\n",
       "    <tr>\n",
       "      <th>794</th>\n",
       "      <td>0</td>\n",
       "      <td>0.888889</td>\n",
       "      <td>0.488889</td>\n",
       "      <td>4.0</td>\n",
       "      <td>12.500000</td>\n",
       "      <td>0.000000</td>\n",
       "    </tr>\n",
       "    <tr>\n",
       "      <th>795</th>\n",
       "      <td>0</td>\n",
       "      <td>0.888889</td>\n",
       "      <td>0.533333</td>\n",
       "      <td>5.0</td>\n",
       "      <td>10.000000</td>\n",
       "      <td>0.000000</td>\n",
       "    </tr>\n",
       "    <tr>\n",
       "      <th>796</th>\n",
       "      <td>0</td>\n",
       "      <td>0.000000</td>\n",
       "      <td>0.000000</td>\n",
       "      <td>0.0</td>\n",
       "      <td>0.000000</td>\n",
       "      <td>0.000000</td>\n",
       "    </tr>\n",
       "    <tr>\n",
       "      <th>797</th>\n",
       "      <td>0</td>\n",
       "      <td>0.933333</td>\n",
       "      <td>0.622222</td>\n",
       "      <td>4.0</td>\n",
       "      <td>12.500000</td>\n",
       "      <td>0.000000</td>\n",
       "    </tr>\n",
       "  </tbody>\n",
       "</table>\n",
       "<p>81 rows × 6 columns</p>\n",
       "</div>"
      ],
      "text/plain": [
       "     Unnamed: 0       I_e       I_i  dom_frequ   up_space  down_space\n",
       "636           0  0.311111 -0.088889        7.0   3.627232    3.515625\n",
       "654           0  0.355556 -0.088889        7.0   3.794643    3.348214\n",
       "671           0  0.400000 -0.088889        6.0   4.817708    3.515625\n",
       "672           0  0.400000 -0.044444        7.0   3.850446    3.292411\n",
       "685           0  0.444444 -0.088889        6.0   5.078125    3.255208\n",
       "..          ...       ...       ...        ...        ...         ...\n",
       "793           0  0.888889  0.444444        0.0   0.000000         inf\n",
       "794           0  0.888889  0.488889        4.0  12.500000    0.000000\n",
       "795           0  0.888889  0.533333        5.0  10.000000    0.000000\n",
       "796           0  0.000000  0.000000        0.0   0.000000    0.000000\n",
       "797           0  0.933333  0.622222        4.0  12.500000    0.000000\n",
       "\n",
       "[81 rows x 6 columns]"
      ]
     },
     "execution_count": 323,
     "metadata": {},
     "output_type": "execute_result"
    }
   ],
   "source": [
    "df[df['I_i']>=-0.1]"
   ]
  },
  {
   "cell_type": "code",
   "execution_count": 29,
   "id": "ca4577ca",
   "metadata": {},
   "outputs": [],
   "source": [
    "df1 = pd.read_csv('csv/default.csv')\n",
    "df2 = pd.read_csv('csv/adap_b05_taua600.csv')\n",
    "df2 = df2[df2['I_i']>-1]"
   ]
  },
  {
   "cell_type": "code",
   "execution_count": 30,
   "id": "f986ad3b",
   "metadata": {},
   "outputs": [
    {
     "name": "stderr",
     "output_type": "stream",
     "text": [
      "/var/folders/8l/w8cdnkkj38bg2pscx__1vxth0000gn/T/ipykernel_4151/1635875877.py:1: UserWarning: Boolean Series key will be reindexed to match DataFrame index.\n",
      "  a = df2[df1['stability']==1]\n"
     ]
    },
    {
     "ename": "IndexingError",
     "evalue": "Unalignable boolean Series provided as indexer (index of the boolean Series and of the indexed object do not match).",
     "output_type": "error",
     "traceback": [
      "\u001b[0;31m---------------------------------------------------------------------------\u001b[0m",
      "\u001b[0;31mIndexingError\u001b[0m                             Traceback (most recent call last)",
      "Input \u001b[0;32mIn [30]\u001b[0m, in \u001b[0;36m<cell line: 1>\u001b[0;34m()\u001b[0m\n\u001b[0;32m----> 1\u001b[0m a \u001b[38;5;241m=\u001b[39m \u001b[43mdf2\u001b[49m\u001b[43m[\u001b[49m\u001b[43mdf1\u001b[49m\u001b[43m[\u001b[49m\u001b[38;5;124;43m'\u001b[39;49m\u001b[38;5;124;43mstability\u001b[39;49m\u001b[38;5;124;43m'\u001b[39;49m\u001b[43m]\u001b[49m\u001b[38;5;241;43m==\u001b[39;49m\u001b[38;5;241;43m1\u001b[39;49m\u001b[43m]\u001b[49m\n\u001b[1;32m      2\u001b[0m a[a[\u001b[38;5;124m'\u001b[39m\u001b[38;5;124mp_random\u001b[39m\u001b[38;5;124m'\u001b[39m]\u001b[38;5;241m==\u001b[39m\u001b[38;5;241m4\u001b[39m]\n",
      "File \u001b[0;32m~/opt/anaconda3/lib/python3.9/site-packages/pandas/core/frame.py:3496\u001b[0m, in \u001b[0;36mDataFrame.__getitem__\u001b[0;34m(self, key)\u001b[0m\n\u001b[1;32m   3494\u001b[0m \u001b[38;5;66;03m# Do we have a (boolean) 1d indexer?\u001b[39;00m\n\u001b[1;32m   3495\u001b[0m \u001b[38;5;28;01mif\u001b[39;00m com\u001b[38;5;241m.\u001b[39mis_bool_indexer(key):\n\u001b[0;32m-> 3496\u001b[0m     \u001b[38;5;28;01mreturn\u001b[39;00m \u001b[38;5;28;43mself\u001b[39;49m\u001b[38;5;241;43m.\u001b[39;49m\u001b[43m_getitem_bool_array\u001b[49m\u001b[43m(\u001b[49m\u001b[43mkey\u001b[49m\u001b[43m)\u001b[49m\n\u001b[1;32m   3498\u001b[0m \u001b[38;5;66;03m# We are left with two options: a single key, and a collection of keys,\u001b[39;00m\n\u001b[1;32m   3499\u001b[0m \u001b[38;5;66;03m# We interpret tuples as collections only for non-MultiIndex\u001b[39;00m\n\u001b[1;32m   3500\u001b[0m is_single_key \u001b[38;5;241m=\u001b[39m \u001b[38;5;28misinstance\u001b[39m(key, \u001b[38;5;28mtuple\u001b[39m) \u001b[38;5;129;01mor\u001b[39;00m \u001b[38;5;129;01mnot\u001b[39;00m is_list_like(key)\n",
      "File \u001b[0;32m~/opt/anaconda3/lib/python3.9/site-packages/pandas/core/frame.py:3549\u001b[0m, in \u001b[0;36mDataFrame._getitem_bool_array\u001b[0;34m(self, key)\u001b[0m\n\u001b[1;32m   3543\u001b[0m     \u001b[38;5;28;01mraise\u001b[39;00m \u001b[38;5;167;01mValueError\u001b[39;00m(\n\u001b[1;32m   3544\u001b[0m         \u001b[38;5;124mf\u001b[39m\u001b[38;5;124m\"\u001b[39m\u001b[38;5;124mItem wrong length \u001b[39m\u001b[38;5;132;01m{\u001b[39;00m\u001b[38;5;28mlen\u001b[39m(key)\u001b[38;5;132;01m}\u001b[39;00m\u001b[38;5;124m instead of \u001b[39m\u001b[38;5;132;01m{\u001b[39;00m\u001b[38;5;28mlen\u001b[39m(\u001b[38;5;28mself\u001b[39m\u001b[38;5;241m.\u001b[39mindex)\u001b[38;5;132;01m}\u001b[39;00m\u001b[38;5;124m.\u001b[39m\u001b[38;5;124m\"\u001b[39m\n\u001b[1;32m   3545\u001b[0m     )\n\u001b[1;32m   3547\u001b[0m \u001b[38;5;66;03m# check_bool_indexer will throw exception if Series key cannot\u001b[39;00m\n\u001b[1;32m   3548\u001b[0m \u001b[38;5;66;03m# be reindexed to match DataFrame rows\u001b[39;00m\n\u001b[0;32m-> 3549\u001b[0m key \u001b[38;5;241m=\u001b[39m \u001b[43mcheck_bool_indexer\u001b[49m\u001b[43m(\u001b[49m\u001b[38;5;28;43mself\u001b[39;49m\u001b[38;5;241;43m.\u001b[39;49m\u001b[43mindex\u001b[49m\u001b[43m,\u001b[49m\u001b[43m \u001b[49m\u001b[43mkey\u001b[49m\u001b[43m)\u001b[49m\n\u001b[1;32m   3550\u001b[0m indexer \u001b[38;5;241m=\u001b[39m key\u001b[38;5;241m.\u001b[39mnonzero()[\u001b[38;5;241m0\u001b[39m]\n\u001b[1;32m   3551\u001b[0m \u001b[38;5;28;01mreturn\u001b[39;00m \u001b[38;5;28mself\u001b[39m\u001b[38;5;241m.\u001b[39m_take_with_is_copy(indexer, axis\u001b[38;5;241m=\u001b[39m\u001b[38;5;241m0\u001b[39m)\n",
      "File \u001b[0;32m~/opt/anaconda3/lib/python3.9/site-packages/pandas/core/indexing.py:2383\u001b[0m, in \u001b[0;36mcheck_bool_indexer\u001b[0;34m(index, key)\u001b[0m\n\u001b[1;32m   2381\u001b[0m     mask \u001b[38;5;241m=\u001b[39m isna(result\u001b[38;5;241m.\u001b[39m_values)\n\u001b[1;32m   2382\u001b[0m     \u001b[38;5;28;01mif\u001b[39;00m mask\u001b[38;5;241m.\u001b[39many():\n\u001b[0;32m-> 2383\u001b[0m         \u001b[38;5;28;01mraise\u001b[39;00m IndexingError(\n\u001b[1;32m   2384\u001b[0m             \u001b[38;5;124m\"\u001b[39m\u001b[38;5;124mUnalignable boolean Series provided as \u001b[39m\u001b[38;5;124m\"\u001b[39m\n\u001b[1;32m   2385\u001b[0m             \u001b[38;5;124m\"\u001b[39m\u001b[38;5;124mindexer (index of the boolean Series and of \u001b[39m\u001b[38;5;124m\"\u001b[39m\n\u001b[1;32m   2386\u001b[0m             \u001b[38;5;124m\"\u001b[39m\u001b[38;5;124mthe indexed object do not match).\u001b[39m\u001b[38;5;124m\"\u001b[39m\n\u001b[1;32m   2387\u001b[0m         )\n\u001b[1;32m   2388\u001b[0m     \u001b[38;5;28;01mreturn\u001b[39;00m result\u001b[38;5;241m.\u001b[39mastype(\u001b[38;5;28mbool\u001b[39m)\u001b[38;5;241m.\u001b[39m_values\n\u001b[1;32m   2389\u001b[0m \u001b[38;5;28;01mif\u001b[39;00m is_object_dtype(key):\n\u001b[1;32m   2390\u001b[0m     \u001b[38;5;66;03m# key might be object-dtype bool, check_array_indexer needs bool array\u001b[39;00m\n",
      "\u001b[0;31mIndexingError\u001b[0m: Unalignable boolean Series provided as indexer (index of the boolean Series and of the indexed object do not match)."
     ]
    }
   ],
   "source": [
    "a = df2[df1['stability']==1]\n",
    "a[a['p_random']==4]#!=a['p_down']]"
   ]
  },
  {
   "cell_type": "code",
   "execution_count": 536,
   "id": "bdb10dd0",
   "metadata": {},
   "outputs": [
    {
     "data": {
      "text/html": [
       "<div>\n",
       "<style scoped>\n",
       "    .dataframe tbody tr th:only-of-type {\n",
       "        vertical-align: middle;\n",
       "    }\n",
       "\n",
       "    .dataframe tbody tr th {\n",
       "        vertical-align: top;\n",
       "    }\n",
       "\n",
       "    .dataframe thead th {\n",
       "        text-align: right;\n",
       "    }\n",
       "</style>\n",
       "<table border=\"1\" class=\"dataframe\">\n",
       "  <thead>\n",
       "    <tr style=\"text-align: right;\">\n",
       "      <th></th>\n",
       "      <th>Unnamed: 0</th>\n",
       "      <th>I_e</th>\n",
       "      <th>I_i</th>\n",
       "      <th>stability</th>\n",
       "      <th>turing</th>\n",
       "      <th>p_random</th>\n",
       "      <th>p_down</th>\n",
       "      <th>wavenumber</th>\n",
       "    </tr>\n",
       "  </thead>\n",
       "  <tbody>\n",
       "    <tr>\n",
       "      <th>3391</th>\n",
       "      <td>0</td>\n",
       "      <td>-0.355556</td>\n",
       "      <td>-0.933333</td>\n",
       "      <td>0</td>\n",
       "      <td>0</td>\n",
       "      <td>2</td>\n",
       "      <td>3</td>\n",
       "      <td>NaN</td>\n",
       "    </tr>\n",
       "    <tr>\n",
       "      <th>3482</th>\n",
       "      <td>0</td>\n",
       "      <td>-0.311111</td>\n",
       "      <td>-0.933333</td>\n",
       "      <td>0</td>\n",
       "      <td>0</td>\n",
       "      <td>2</td>\n",
       "      <td>3</td>\n",
       "      <td>NaN</td>\n",
       "    </tr>\n",
       "  </tbody>\n",
       "</table>\n",
       "</div>"
      ],
      "text/plain": [
       "      Unnamed: 0       I_e       I_i  stability  turing  p_random  p_down  \\\n",
       "3391           0 -0.355556 -0.933333          0       0         2       3   \n",
       "3482           0 -0.311111 -0.933333          0       0         2       3   \n",
       "\n",
       "      wavenumber  \n",
       "3391         NaN  \n",
       "3482         NaN  "
      ]
     },
     "execution_count": 536,
     "metadata": {},
     "output_type": "execute_result"
    }
   ],
   "source": [
    "b = df1[df1['I_e']>=-0.37]\n",
    "b = b[b['I_e']<=-0.3]\n",
    "b = b[b['I_i']>=-0.95]\n",
    "b = b[b['I_i']<=-0.9]\n",
    "b"
   ]
  },
  {
   "cell_type": "code",
   "execution_count": null,
   "id": "114b8af8",
   "metadata": {},
   "outputs": [],
   "source": []
  }
 ],
 "metadata": {
  "kernelspec": {
   "display_name": "Python 3 (ipykernel)",
   "language": "python",
   "name": "python3"
  },
  "language_info": {
   "codemirror_mode": {
    "name": "ipython",
    "version": 3
   },
   "file_extension": ".py",
   "mimetype": "text/x-python",
   "name": "python",
   "nbconvert_exporter": "python",
   "pygments_lexer": "ipython3",
   "version": "3.9.12"
  }
 },
 "nbformat": 4,
 "nbformat_minor": 5
}
