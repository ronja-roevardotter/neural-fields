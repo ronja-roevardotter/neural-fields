{
 "cells": [
  {
   "cell_type": "code",
   "execution_count": 10,
   "id": "937ea717-ffb3-4cc1-aeb6-6657d9669006",
   "metadata": {},
   "outputs": [],
   "source": [
    "import numpy as np\n",
    "import pandas as pd\n",
    "\n",
    "import matplotlib.ticker as ticker\n",
    "from matplotlib import cm\n",
    "\n",
    "import matplotlib.pyplot as plt\n",
    "\n",
    "# This will reload all imports as soon as the code changes\n",
    "%load_ext autoreload\n",
    "%autoreload 2"
   ]
  },
  {
   "cell_type": "code",
   "execution_count": 9,
   "id": "f4703063-aad6-4fd2-a9c6-67b220004d09",
   "metadata": {},
   "outputs": [
    {
     "name": "stdout",
     "output_type": "stream",
     "text": [
      "/Users/ronja/Documents/GitHub/neural-fields/bifs\n"
     ]
    }
   ],
   "source": [
    "import os\n",
    "path = os.getcwd() + '/bifs/'\n",
    "#path = os.path.dirname('bifs')\n",
    "print(path)"
   ]
  },
  {
   "cell_type": "code",
   "execution_count": 12,
   "id": "37a25df5-776d-4b13-a591-d880ef674e95",
   "metadata": {},
   "outputs": [
    {
     "data": {
      "text/plain": [
       "[]"
      ]
     },
     "execution_count": 12,
     "metadata": {},
     "output_type": "execute_result"
    }
   ],
   "source": [
    "import glob\n",
    "\n",
    "all_files = glob.glob(os.path.join(path , \"/*.csv\"))\n",
    "all_files\n",
    "\n",
    "\n",
    "#li = []\n",
    "\n",
    "#for filename in all_files:\n",
    "\n",
    "\n",
    "#df = pd.read_csv(filename, index_col=None, header=0)\n",
    "\n",
    "#li.append(df)\n",
    "\n",
    "#frame = pd.concat(li, axis=0, ignore_index=True)"
   ]
  },
  {
   "cell_type": "code",
   "execution_count": null,
   "id": "ca74cc66-389c-4f5d-b46b-537498e8b447",
   "metadata": {},
   "outputs": [],
   "source": []
  },
  {
   "cell_type": "code",
   "execution_count": null,
   "id": "fee6911e-c322-4692-9f17-41273105ac07",
   "metadata": {},
   "outputs": [],
   "source": []
  },
  {
   "cell_type": "code",
   "execution_count": null,
   "id": "37ac24d5-7175-4b5c-8a01-1e61c37a33bc",
   "metadata": {},
   "outputs": [],
   "source": []
  },
  {
   "cell_type": "code",
   "execution_count": null,
   "id": "e8784c3f-180f-43c6-8e95-f3795b98e363",
   "metadata": {},
   "outputs": [],
   "source": []
  }
 ],
 "metadata": {
  "kernelspec": {
   "display_name": "Python 3 (ipykernel)",
   "language": "python",
   "name": "python3"
  },
  "language_info": {
   "codemirror_mode": {
    "name": "ipython",
    "version": 3
   },
   "file_extension": ".py",
   "mimetype": "text/x-python",
   "name": "python",
   "nbconvert_exporter": "python",
   "pygments_lexer": "ipython3",
   "version": "3.9.12"
  }
 },
 "nbformat": 4,
 "nbformat_minor": 5
}
