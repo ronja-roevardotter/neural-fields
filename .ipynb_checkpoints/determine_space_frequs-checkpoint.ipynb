{
 "cells": [
  {
   "cell_type": "code",
   "execution_count": 1,
   "id": "88c6eb82",
   "metadata": {},
   "outputs": [],
   "source": [
    "import numpy as np\n",
    "import pandas as pd\n",
    "\n",
    "import matplotlib.pyplot as plt\n",
    "\n",
    "import py.continuum1d as continuum1d\n",
    "\n",
    "from py.analysis import computeFPs, checkFixPtsStability\n",
    "\n",
    "from py.funcs import getAvgPSD, getPSD\n",
    "from py.params import setParams\n",
    "\n",
    "# This will reload all imports as soon as the code changes\n",
    "%load_ext autoreload\n",
    "%autoreload 2\n"
   ]
  },
  {
   "cell_type": "code",
   "execution_count": 2,
   "id": "5a9e5260",
   "metadata": {},
   "outputs": [],
   "source": [
    "df = pd.read_csv('csv/adap_b05_taua1000.csv')\n",
    "\n",
    "df_compute = df[df['p_down']==3]"
   ]
  },
  {
   "cell_type": "code",
   "execution_count": 3,
   "id": "18f29e6d",
   "metadata": {},
   "outputs": [
    {
     "name": "stdout",
     "output_type": "stream",
     "text": [
      "1d Model initialised.\n"
     ]
    }
   ],
   "source": [
    "params=None\n",
    "c1d = continuum1d.continuum1d()"
   ]
  },
  {
   "cell_type": "code",
   "execution_count": 4,
   "id": "6a95d126",
   "metadata": {},
   "outputs": [
    {
     "name": "stdout",
     "output_type": "stream",
     "text": [
      "1\n",
      "0 0.4333333333333333 -0.1999999999999999\n"
     ]
    },
    {
     "name": "stderr",
     "output_type": "stream",
     "text": [
      "/Users/ronja/opt/anaconda3/lib/python3.9/site-packages/scipy/signal/spectral.py:1964: UserWarning: nperseg = 8192 is greater than input length  = 128, using nperseg = 128\n",
      "  warnings.warn('nperseg = {0:d} is greater than input length '\n",
      "/var/folders/8l/w8cdnkkj38bg2pscx__1vxth0000gn/T/ipykernel_3238/1289211264.py:63: RuntimeWarning: invalid value encountered in true_divide\n",
      "  nodes_per_down = down_nodes/dom_frequ\n",
      "/var/folders/8l/w8cdnkkj38bg2pscx__1vxth0000gn/T/ipykernel_3238/1289211264.py:64: RuntimeWarning: divide by zero encountered in true_divide\n",
      "  nodes_per_up = up_nodes/dom_frequ\n"
     ]
    },
    {
     "data": {
      "text/html": [
       "<div>\n",
       "<style scoped>\n",
       "    .dataframe tbody tr th:only-of-type {\n",
       "        vertical-align: middle;\n",
       "    }\n",
       "\n",
       "    .dataframe tbody tr th {\n",
       "        vertical-align: top;\n",
       "    }\n",
       "\n",
       "    .dataframe thead th {\n",
       "        text-align: right;\n",
       "    }\n",
       "</style>\n",
       "<table border=\"1\" class=\"dataframe\">\n",
       "  <thead>\n",
       "    <tr style=\"text-align: right;\">\n",
       "      <th></th>\n",
       "      <th>I_e</th>\n",
       "      <th>I_i</th>\n",
       "      <th>dom_frequ</th>\n",
       "      <th>up_space</th>\n",
       "      <th>down_space</th>\n",
       "    </tr>\n",
       "  </thead>\n",
       "  <tbody>\n",
       "    <tr>\n",
       "      <th>0</th>\n",
       "      <td>0.433333</td>\n",
       "      <td>-0.2</td>\n",
       "      <td>0.0</td>\n",
       "      <td>inf</td>\n",
       "      <td>NaN</td>\n",
       "    </tr>\n",
       "  </tbody>\n",
       "</table>\n",
       "</div>"
      ],
      "text/plain": [
       "        I_e  I_i dom_frequ up_space down_space\n",
       "0  0.433333 -0.2       0.0      inf        NaN"
      ]
     },
     "execution_count": 4,
     "metadata": {},
     "output_type": "execute_result"
    }
   ],
   "source": [
    "a = df_compute #df_show[df_show['p_down']==3]\n",
    "print(len(a))\n",
    "ext_values = np.zeros((len(a), 2))\n",
    "\n",
    "count = 0\n",
    "for index, row in a.iterrows():\n",
    "   # print(row)\n",
    "    ext_values[count][0] = row['I_e']\n",
    "    ext_values[count][1] = row['I_i']\n",
    "    count+=1\n",
    "\n",
    "ext_values\n",
    "\n",
    "df_columns=['I_e', 'I_i', 'dom_frequ', 'up_space', 'down_space']\n",
    "df_new = pd.DataFrame(columns=df_columns)\n",
    "\n",
    "count = 0\n",
    "for array in ext_values:\n",
    "    ee = array[0]\n",
    "    ii = array[1]\n",
    "    print(count, ee, ii)\n",
    "    count+=1\n",
    "    \n",
    "    params={'I_e': ee, 'I_i': ii, 'b': 0.5, 'tau_a': 1000, 'end_t': 10*1000}\n",
    "    ps = setParams(params)\n",
    "    \n",
    "    \n",
    "    fps = computeFPs(ps)\n",
    "    if not fps.size>0:\n",
    "        fp = np.array([0.0, 0.01])\n",
    "    else:\n",
    "        fp=fps[0]\n",
    "    stab = checkFixPtsStability(fps, ps)\n",
    "    \n",
    "    exc, inh = c1d.run(ps, itype='inte_fft', fp = fp)\n",
    "    \n",
    "    exc_test = exc.T[:,-10000]\n",
    "    \n",
    " #   print(exc_test)\n",
    "    \n",
    "    frequs, PSD = getPSD(exc_test, ps.n)\n",
    "\n",
    "    \n",
    "    dom_frequ = frequs[np.argmax(PSD)]    \n",
    "    \n",
    "    if count in [0,2,4,6,8]:\n",
    "        plt.figure(figsize=(3,3))\n",
    "        \n",
    "        plt.imshow(exc.T[:,-500:], vmin=0, vmax=1, aspect='auto')\n",
    "        plt.show()\n",
    "        \n",
    "        plt.figure(figsize=(3,3))\n",
    "        plt.plot(frequs, PSD)\n",
    "        plt.show()\n",
    "        print(dom_frequ)\n",
    "    \n",
    "    \n",
    "    e = exc_test\n",
    "    maxi = max(e)\n",
    "    up_nodes = sum(x>=0.4*maxi for x in e)\n",
    "    down_nodes = sum(x < 0.4*maxi for x in e)\n",
    "    up_nodes, down_nodes\n",
    "    nodes_per_down = down_nodes/dom_frequ\n",
    "    nodes_per_up = up_nodes/dom_frequ\n",
    "    space_per_down = ps.dx * nodes_per_down\n",
    "    space_per_up = ps.dx * nodes_per_up\n",
    "\n",
    "    values = [[ee, ii, dom_frequ, space_per_up, space_per_down]]\n",
    "    df_temp = pd.DataFrame(values, columns=df_columns)\n",
    "    df_new = pd.concat([df_new, df_temp])\n",
    "    \n",
    "    \n",
    "    \n",
    "df_new"
   ]
  },
  {
   "cell_type": "code",
   "execution_count": 5,
   "id": "4ea9857b",
   "metadata": {},
   "outputs": [],
   "source": [
    "df_new.to_csv('csv/adaps_space_frequs.csv')"
   ]
  },
  {
   "cell_type": "code",
   "execution_count": null,
   "id": "20a4a008",
   "metadata": {},
   "outputs": [],
   "source": []
  },
  {
   "cell_type": "code",
   "execution_count": null,
   "id": "aa18d89f",
   "metadata": {},
   "outputs": [],
   "source": []
  },
  {
   "cell_type": "code",
   "execution_count": null,
   "id": "1b810360",
   "metadata": {},
   "outputs": [],
   "source": []
  },
  {
   "cell_type": "code",
   "execution_count": null,
   "id": "16445cb6",
   "metadata": {},
   "outputs": [],
   "source": []
  }
 ],
 "metadata": {
  "kernelspec": {
   "display_name": "Python 3 (ipykernel)",
   "language": "python",
   "name": "python3"
  },
  "language_info": {
   "codemirror_mode": {
    "name": "ipython",
    "version": 3
   },
   "file_extension": ".py",
   "mimetype": "text/x-python",
   "name": "python",
   "nbconvert_exporter": "python",
   "pygments_lexer": "ipython3",
   "version": "3.9.12"
  }
 },
 "nbformat": 4,
 "nbformat_minor": 5
}
