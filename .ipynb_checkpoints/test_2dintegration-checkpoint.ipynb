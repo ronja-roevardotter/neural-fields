{
 "cells": [
  {
   "cell_type": "code",
   "execution_count": 1,
   "id": "e4fa2173-f2ed-4d2d-978a-b0ff99e805d9",
   "metadata": {},
   "outputs": [],
   "source": [
    "import numpy as np\n",
    "import matplotlib.pyplot as plt\n",
    "\n",
    "import py.twoD.continuum2d as continuum2d\n",
    "\n",
    "from py.twoD.params2d import setParams\n",
    "from py.twoD.analysis2d import computeFPs, checkFixPtsStability, a_jkValues, violationType\n",
    "\n",
    "# This will reload all imports as soon as the code changes\n",
    "%load_ext autoreload\n",
    "%autoreload 2 "
   ]
  },
  {
   "cell_type": "code",
   "execution_count": 2,
   "id": "40c120dd-d23c-4f32-8ea4-230498a43c7a",
   "metadata": {},
   "outputs": [
    {
     "name": "stdout",
     "output_type": "stream",
     "text": [
      "2d Model initialised.\n"
     ]
    }
   ],
   "source": [
    "params=None\n",
    "c2d = continuum2d.continuum2d()"
   ]
  },
  {
   "cell_type": "code",
   "execution_count": 3,
   "id": "4f3de30a-3665-4895-9f55-56e58d85789e",
   "metadata": {
    "tags": []
   },
   "outputs": [
    {
     "name": "stdout",
     "output_type": "stream",
     "text": [
      "fixed points [[0.13817208 0.55048807]\n",
      " [0.7606534  0.99978652]\n",
      " [0.99204644 0.9999953 ]] \n",
      "with (mass) stability [1, 0, 1]\n"
     ]
    },
    {
     "name": "stderr",
     "output_type": "stream",
     "text": [
      "/Users/ronja/Documents/GitHub/neural-fields/py/twoD/kernels2d.py:33: RuntimeWarning: overflow encountered in exp\n",
      "  return np.exp((-2.0) * (np.pi**2) * (sigma**2) * k )\n",
      "/Users/ronja/Documents/GitHub/neural-fields/py/twoD/analysis2d.py:402: RuntimeWarning: invalid value encountered in subtract\n",
      "  return (turing_A11(k, a_ee, params)*turing_A22(k, a_ii, params))-(turing_A12(k, a_ei, params)*turing_A21(k, a_ie, params))\n"
     ]
    },
    {
     "data": {
      "text/plain": [
       "1"
      ]
     },
     "execution_count": 3,
     "metadata": {},
     "output_type": "execute_result"
    }
   ],
   "source": [
    "ee = 0.64\n",
    "ii = 0.08\n",
    "params={'I_e': ee, 'I_i': ii, 'end_t': 4*1000, 'sigma_e': 1, 'sigma_i': 3, \n",
    "        'pic_nmb': 20, 'xlength': 45, 'ylength': 45, 'n': int(2**7), 'm': int(2**7), 'seed': True, 'seed_amp': 0.1e-3}\n",
    "\n",
    "params = setParams(params)\n",
    "fps = computeFPs(params)\n",
    "stab = checkFixPtsStability(fps, params)\n",
    "print('fixed points %s ' %str(fps))\n",
    "print('with (mass) stability %s'  %str(stab))\n",
    "\n",
    "l=101\n",
    "k = np.linspace(0,2,l)\n",
    "kk = [] #np.zeros(int((((N-1)*N)/2)+N))\n",
    "\n",
    "for idx1 in range(l):\n",
    "    for idx2 in range(idx1, l):\n",
    "        kk.append(k[idx1]**2+k[idx2]**2)\n",
    "kk.sort()\n",
    "kk = np.array(kk)\n",
    "a_ee, a_ei, a_ie, a_ii = a_jkValues(fps[list(stab).index(1)], params)\n",
    "violation, k0 = violationType(kk, a_ee, a_ei, a_ie, a_ii, params)\n",
    "violation"
   ]
  },
  {
   "cell_type": "code",
   "execution_count": 4,
   "id": "11c58a38",
   "metadata": {},
   "outputs": [
    {
     "name": "stdout",
     "output_type": "stream",
     "text": [
      "adaps shape=(256, 256), e-shae=(256, 256), inh-shape=(256, 256)\n",
      "Round t=2000 with ue-shape=(256, 256)\n",
      "Round t=4000 with ue-shape=(256, 256)\n",
      "Round t=6000 with ue-shape=(256, 256)\n",
      "Round t=8000 with ue-shape=(256, 256)\n",
      "Round t=10000 with ue-shape=(256, 256)\n",
      "Round t=12000 with ue-shape=(256, 256)\n",
      "Round t=14000 with ue-shape=(256, 256)\n",
      "Round t=16000 with ue-shape=(256, 256)\n",
      "Round t=18000 with ue-shape=(256, 256)\n",
      "Round t=20000 with ue-shape=(256, 256)\n",
      "Round t=22000 with ue-shape=(256, 256)\n",
      "Round t=24000 with ue-shape=(256, 256)\n",
      "Round t=26000 with ue-shape=(256, 256)\n",
      "Round t=28000 with ue-shape=(256, 256)\n",
      "Round t=30000 with ue-shape=(256, 256)\n",
      "Round t=32000 with ue-shape=(256, 256)\n",
      "Round t=34000 with ue-shape=(256, 256)\n",
      "Round t=36000 with ue-shape=(256, 256)\n",
      "Round t=38000 with ue-shape=(256, 256)\n",
      "Round t=40000 with ue-shape=(256, 256)\n"
     ]
    }
   ],
   "source": [
    "params['n'] = 256\n",
    "params['m'] = 256\n",
    "\n",
    "ue, ui = c2d.run(params, itype='inte_adaptation', fp=fps[0])\n",
    "title1='discretisation = %ix%i' %(params.n, params.m)"
   ]
  },
  {
   "cell_type": "code",
   "execution_count": null,
   "id": "bfb85f78",
   "metadata": {},
   "outputs": [
    {
     "name": "stdout",
     "output_type": "stream",
     "text": [
      "adaps shape=(257, 257), e-shae=(257, 257), inh-shape=(257, 257)\n",
      "Round t=2000 with ue-shape=(257, 257)\n",
      "Round t=4000 with ue-shape=(257, 257)\n"
     ]
    }
   ],
   "source": [
    "params['n'] = 257\n",
    "params['m'] = 257\n",
    "\n",
    "ue2, ui2 = c2d.run(params, itype='inte_adaptation', fp=fps[0])\n",
    "\n",
    "title2 = 'discretisation = %ix%i' %(params.n, params.m)"
   ]
  },
  {
   "cell_type": "code",
   "execution_count": null,
   "id": "7237b09c",
   "metadata": {},
   "outputs": [],
   "source": [
    "params['n'] = 258\n",
    "params['m'] = 258\n",
    "\n",
    "ue3, ui3 = c2d.run(params, itype='inte_adaptation', fp=fps[0])\n",
    "\n",
    "title3 = 'discretisation = %ix%i' %(params.n, params.m)"
   ]
  },
  {
   "cell_type": "code",
   "execution_count": null,
   "id": "23cfd4f1",
   "metadata": {},
   "outputs": [],
   "source": [
    "params['n'] = 259\n",
    "params['m'] = 259\n",
    "\n",
    "ue4, ui4 = c2d.run(params, itype='inte_adaptation', fp=fps[0])\n",
    "\n",
    "title4 = 'discretisation = %ix%i' %(params.n, params.m)"
   ]
  },
  {
   "cell_type": "code",
   "execution_count": null,
   "id": "b185c091",
   "metadata": {
    "scrolled": false
   },
   "outputs": [],
   "source": [
    "fig, axes = plt.subplots(params.pic_nmb, 4, figsize=(16, 4*params.pic_nmb))\n",
    "\n",
    "for i, ax in enumerate(axes[:,0]):\n",
    "    ax.imshow(ue[i].T, vmin=0, vmax=1, aspect='auto')\n",
    "axes[0,0].set_title(label=title1)\n",
    "    \n",
    "\n",
    "for i, ax in enumerate(axes[:,1]):\n",
    "    ax.imshow(ue2[i].T, vmin=0, vmax=1, aspect='auto')\n",
    "axes[0,1].set_title(label=title2)\n",
    "    \n",
    "\n",
    "for i, ax in enumerate(axes[:,2]):\n",
    "    ax.imshow(ue3[i].T, vmin=0, vmax=1, aspect='auto')\n",
    "axes[0,2].set_title(label=title3)\n",
    "\n",
    "for i, ax in enumerate(axes[:,3]):\n",
    "    ax.imshow(ue4[i].T, vmin=0, vmax=1, aspect='auto')\n",
    "axes[0,3].set_title(label=title4)"
   ]
  },
  {
   "cell_type": "code",
   "execution_count": null,
   "id": "35ce98ce",
   "metadata": {},
   "outputs": [],
   "source": [
    "np.sum(ue[0]), np.sum(ue2[0]), np.sum(ue3[0]), np.sum(ue4[0])"
   ]
  },
  {
   "cell_type": "code",
   "execution_count": null,
   "id": "1a02824d",
   "metadata": {},
   "outputs": [],
   "source": [
    "from py.twoD.eplo2d import collectPattern"
   ]
  },
  {
   "cell_type": "code",
   "execution_count": null,
   "id": "86864cf2",
   "metadata": {
    "scrolled": true
   },
   "outputs": [],
   "source": [
    "fig, axes = plt.subplots(params.pic_nmb, 3, figsize=(9, 3*params.pic_nmb))\n",
    "\n",
    "for i, ax in enumerate(axes[:,0]):\n",
    "    ax.imshow(ue[i].T, vmin=0, vmax=1, aspect='auto')\n",
    "axes[0,0].set_title(label=title1)\n",
    "    \n",
    "\n",
    "for i, ax in enumerate(axes[:,1]):\n",
    "    ax.imshow(ue2[i].T, vmin=0, vmax=1, aspect='auto')\n",
    "axes[0,1].set_title(label=title2)\n",
    "    \n",
    "\n",
    "for i, ax in enumerate(axes[:,2]):\n",
    "    ax.imshow(ue3[i].T, vmin=0, vmax=1, aspect='auto')\n",
    "axes[0,2].set_title(label=title3)"
   ]
  },
  {
   "cell_type": "code",
   "execution_count": null,
   "id": "093dcb87",
   "metadata": {},
   "outputs": [],
   "source": [
    "params['n'] = 128\n",
    "params['m'] = 128"
   ]
  },
  {
   "cell_type": "code",
   "execution_count": null,
   "id": "aacf0355",
   "metadata": {},
   "outputs": [],
   "source": [
    "p_rnd = collectPatterns([0.0, 0.01], params)\n",
    "p_rnd"
   ]
  },
  {
   "cell_type": "code",
   "execution_count": null,
   "id": "d663b2c6",
   "metadata": {},
   "outputs": [],
   "source": [
    "p_fp = collectPatterns(fps[0], params)\n",
    "p_fp"
   ]
  },
  {
   "cell_type": "code",
   "execution_count": null,
   "id": "c8a7d8ce",
   "metadata": {},
   "outputs": [],
   "source": []
  },
  {
   "cell_type": "code",
   "execution_count": null,
   "id": "f44eb1da",
   "metadata": {},
   "outputs": [],
   "source": []
  },
  {
   "cell_type": "code",
   "execution_count": null,
   "id": "346367a4",
   "metadata": {},
   "outputs": [],
   "source": []
  },
  {
   "cell_type": "code",
   "execution_count": null,
   "id": "4540877f",
   "metadata": {},
   "outputs": [],
   "source": []
  },
  {
   "cell_type": "code",
   "execution_count": null,
   "id": "8ffc2370",
   "metadata": {},
   "outputs": [],
   "source": []
  },
  {
   "cell_type": "code",
   "execution_count": null,
   "id": "eb18494a",
   "metadata": {},
   "outputs": [],
   "source": []
  },
  {
   "cell_type": "code",
   "execution_count": 26,
   "id": "0444d85a",
   "metadata": {},
   "outputs": [
    {
     "ename": "FileNotFoundError",
     "evalue": "[Errno 2] No such file or directory: 'output_video.mp4v'",
     "output_type": "error",
     "traceback": [
      "\u001b[0;31m---------------------------------------------------------------------------\u001b[0m",
      "\u001b[0;31mFileNotFoundError\u001b[0m                         Traceback (most recent call last)",
      "Input \u001b[0;32mIn [26]\u001b[0m, in \u001b[0;36m<cell line: 32>\u001b[0;34m()\u001b[0m\n\u001b[1;32m     38\u001b[0m frames \u001b[38;5;241m=\u001b[39m [np\u001b[38;5;241m.\u001b[39marray(frame) \u001b[38;5;28;01mfor\u001b[39;00m frame \u001b[38;5;129;01min\u001b[39;00m frames]\n\u001b[1;32m     40\u001b[0m \u001b[38;5;66;03m# Call the function to create the video\u001b[39;00m\n\u001b[0;32m---> 41\u001b[0m \u001b[43mcreate_video\u001b[49m\u001b[43m(\u001b[49m\u001b[43mframes\u001b[49m\u001b[43m,\u001b[49m\u001b[43m \u001b[49m\u001b[43mfps\u001b[49m\u001b[38;5;241;43m=\u001b[39;49m\u001b[38;5;28;43mlen\u001b[39;49m\u001b[43m(\u001b[49m\u001b[43mframes\u001b[49m\u001b[43m)\u001b[49m\u001b[43m)\u001b[49m\n",
      "Input \u001b[0;32mIn [26]\u001b[0m, in \u001b[0;36mcreate_video\u001b[0;34m(frames, output_path, fps)\u001b[0m\n\u001b[1;32m     24\u001b[0m \u001b[38;5;66;03m#display video in Jupyter notebook\u001b[39;00m\n\u001b[1;32m     25\u001b[0m video_path \u001b[38;5;241m=\u001b[39m output_path\n\u001b[0;32m---> 26\u001b[0m video_file \u001b[38;5;241m=\u001b[39m \u001b[43mio\u001b[49m\u001b[38;5;241;43m.\u001b[39;49m\u001b[43mopen\u001b[49m\u001b[43m(\u001b[49m\u001b[43mvideo_path\u001b[49m\u001b[43m,\u001b[49m\u001b[43m \u001b[49m\u001b[38;5;124;43m'\u001b[39;49m\u001b[38;5;124;43mr+b\u001b[39;49m\u001b[38;5;124;43m'\u001b[39;49m\u001b[43m)\u001b[49m\u001b[38;5;241m.\u001b[39mread()\n\u001b[1;32m     27\u001b[0m encoded_video \u001b[38;5;241m=\u001b[39m base64\u001b[38;5;241m.\u001b[39mb64encode(video_file)\n\u001b[1;32m     28\u001b[0m display(HTML(data\u001b[38;5;241m=\u001b[39m\u001b[38;5;124m'''\u001b[39m\u001b[38;5;124m<video alt=\u001b[39m\u001b[38;5;124m\"\u001b[39m\u001b[38;5;124mtest\u001b[39m\u001b[38;5;124m\"\u001b[39m\u001b[38;5;124m autoplay controls style=\u001b[39m\u001b[38;5;124m\"\u001b[39m\u001b[38;5;124mheight: 400px;\u001b[39m\u001b[38;5;124m\"\u001b[39m\u001b[38;5;124m>\u001b[39m\n\u001b[1;32m     29\u001b[0m \u001b[38;5;124m                <source src=\u001b[39m\u001b[38;5;124m\"\u001b[39m\u001b[38;5;124mdata:video/mp4;base64,\u001b[39m\u001b[38;5;132;01m{0}\u001b[39;00m\u001b[38;5;124m\"\u001b[39m\u001b[38;5;124m type=\u001b[39m\u001b[38;5;124m\"\u001b[39m\u001b[38;5;124mvideo/mp4\u001b[39m\u001b[38;5;124m\"\u001b[39m\u001b[38;5;124m />\u001b[39m\n\u001b[1;32m     30\u001b[0m \u001b[38;5;124m             </video>\u001b[39m\u001b[38;5;124m'''\u001b[39m\u001b[38;5;241m.\u001b[39mformat(encoded_video\u001b[38;5;241m.\u001b[39mdecode(\u001b[38;5;124m'\u001b[39m\u001b[38;5;124mascii\u001b[39m\u001b[38;5;124m'\u001b[39m))))\n",
      "\u001b[0;31mFileNotFoundError\u001b[0m: [Errno 2] No such file or directory: 'output_video.mp4v'"
     ]
    }
   ],
   "source": [
    "import cv2\n",
    "import numpy as np\n",
    "\n",
    "from IPython.display import display, HTML\n",
    "import io\n",
    "import base64\n",
    "\n",
    "def create_video(frames, output_path='output_video.mp4v', fps=30):\n",
    "    # Define the codec and create a VideoWriter object\n",
    "    fourcc = cv2.VideoWriter_fourcc(*'mp4v')\n",
    "    height, width = frames[0].shape[:2]\n",
    "    video_writer = cv2.VideoWriter(output_path, fourcc, fps, (width, height))\n",
    "\n",
    "   # Convert frames to 8-bit unsigned integers\n",
    "    frames = [frame.astype(np.uint8) for frame in frames]\n",
    "\n",
    "    # Write each frame to the video\n",
    "    for frame in frames:\n",
    "        video_writer.write(frame)\n",
    "\n",
    "    # Release the VideoWriter object\n",
    "    video_writer.release()\n",
    "    \n",
    "    #display video in Jupyter notebook\n",
    "    video_path = output_path\n",
    "    video_file = io.open(video_path, 'r+b').read()\n",
    "    encoded_video = base64.b64encode(video_file)\n",
    "    display(HTML(data='''<video alt=\"test\" autoplay controls style=\"height: 400px;\">\n",
    "                    <source src=\"data:video/mp4;base64,{0}\" type=\"video/mp4\" />\n",
    "                 </video>'''.format(encoded_video.decode('ascii'))))\n",
    "\n",
    "if __name__ == \"__main__\":\n",
    "    # Example usage:\n",
    "    # Replace 'frames' with your array of arrays, where each inner array is a frame\n",
    "    frames = ue  # Replace with your actual frames\n",
    "\n",
    "    # Convert the frames to NumPy arrays\n",
    "    frames = [np.array(frame) for frame in frames]\n",
    "\n",
    "    # Call the function to create the video\n",
    "    create_video(frames, fps=len(frames))\n"
   ]
  },
  {
   "cell_type": "code",
   "execution_count": null,
   "id": "e9198411",
   "metadata": {},
   "outputs": [],
   "source": [
    "import cv2\n",
    "import numpy as np\n",
    "\n",
    "def create_video(frames, output_path='output_video.mp4', fps=30):\n",
    "    # Define the codec and create a VideoWriter object\n",
    "    fourcc = cv2.VideoWriter_fourcc(*'mp4v')\n",
    "    height, width = frames[0].shape[:2]\n",
    "    video_writer = cv2.VideoWriter(output_path, fourcc, fps, (width, height))\n",
    "\n",
    "    # Convert frames to 8-bit unsigned integers\n",
    "    frames = [frame.astype(np.uint8) for frame in frames]\n",
    "\n",
    "    # Write each frame to the video\n",
    "    for frame in frames:\n",
    "        video_writer.write(frame)\n",
    "\n",
    "    # Release the VideoWriter object\n",
    "    video_writer.release()\n",
    "\n",
    "if __name__ == \"__main__\":\n",
    "    # Example usage:\n",
    "    # Replace 'frames' with your array of arrays, where each inner array is a frame\n",
    "    frames = []  # Replace with your actual frames\n",
    "\n",
    "    # Convert the frames to NumPy arrays\n",
    "    frames = [np.array(frame) for frame in frames]\n",
    "\n",
    "    # Call the function to create the video\n",
    "    create_video(frames)\n"
   ]
  },
  {
   "cell_type": "code",
   "execution_count": 11,
   "id": "b2995d24-7ed0-494a-bdcb-b4a6900124df",
   "metadata": {},
   "outputs": [
    {
     "data": {
      "image/png": "[encoded data removed]",
      "text/plain": [
       "<Figure size 576x576 with 2 Axes>"
      ]
     },
     "metadata": {
      "needs_background": "light"
     },
     "output_type": "display_data"
    }
   ],
   "source": [
    "from matplotlib import cm\n",
    "from matplotlib.ticker import LinearLocator\n",
    "\n",
    "X = params.xcoords\n",
    "Y = params.ycoords\n",
    "Z = params.w_ee*params.ke - params.w_ei*params.ki\n",
    "\n",
    "fig, ax = plt.subplots(subplot_kw={\"projection\": \"3d\"}, figsize=(8,8))\n",
    "# Plot the surface.\n",
    "surf = ax.plot_surface(X, Y, Z, cmap=cm.coolwarm,\n",
    "                       linewidth=0, antialiased=False)\n",
    "\n",
    "# Customize the z axis.\n",
    "#ax.set_zlim(-.01, 0.01)\n",
    "ax.zaxis.set_major_locator(LinearLocator(10))\n",
    "# A StrMethodFormatter is used automatically\n",
    "ax.zaxis.set_major_formatter('{x:.02f}')\n",
    "\n",
    "# Add a color bar which maps values to colors.\n",
    "fig.colorbar(surf, shrink=0.5, aspect=5)\n",
    "\n",
    "plt.show()"
   ]
  },
  {
   "cell_type": "code",
   "execution_count": null,
   "id": "09f4b23b",
   "metadata": {},
   "outputs": [],
   "source": []
  },
  {
   "cell_type": "code",
   "execution_count": 5,
   "id": "5a217057-0fc8-4e96-8250-dbfad95c3252",
   "metadata": {},
   "outputs": [],
   "source": [
    "fp = fps[0]"
   ]
  },
  {
   "cell_type": "code",
   "execution_count": 6,
   "id": "7ea2b64d-6577-447a-bfb8-f51fb440d91a",
   "metadata": {
    "scrolled": false,
    "tags": []
   },
   "outputs": [],
   "source": [
    "ue, ui = c2d.run(ps, fp=fp)"
   ]
  },
  {
   "cell_type": "code",
   "execution_count": null,
   "id": "7459816a-cfbc-4dc3-a94e-82666066d223",
   "metadata": {
    "jupyter": {
     "outputs_hidden": true
    },
    "tags": []
   },
   "outputs": [],
   "source": []
  },
  {
   "cell_type": "code",
   "execution_count": 16,
   "id": "847f9cb0",
   "metadata": {
    "scrolled": false
   },
   "outputs": [
    {
     "name": "stderr",
     "output_type": "stream",
     "text": [
      "/var/folders/8l/w8cdnkkj38bg2pscx__1vxth0000gn/T/ipykernel_1575/405550202.py:4: RuntimeWarning: divide by zero encountered in log\n",
      "  plt.imshow(np.log(abs(dark_image_grey_fourier)), cmap='gray')\n"
     ]
    },
    {
     "data": {
      "text/plain": [
       "<matplotlib.image.AxesImage at 0x7fdca94112e0>"
      ]
     },
     "execution_count": 16,
     "metadata": {},
     "output_type": "execute_result"
    },
    {
     "data": {
      "image/png": "[encoded data removed]",
      "text/plain": [
       "<Figure size 640x480 with 1 Axes>"
      ]
     },
     "metadata": {
      "needs_background": "light"
     },
     "output_type": "display_data"
    }
   ],
   "source": [
    "dark_image_grey_fourier = np.fft.fftshift(np.fft.fft2(ue[-1]))\n",
    "plt.figure(num=None, figsize=(8, 6), dpi=80)\n",
    "#np.log(abs(dark_image_grey_fourier))\n",
    "plt.imshow(np.log(abs(dark_image_grey_fourier)), cmap='gray')"
   ]
  },
  {
   "cell_type": "code",
   "execution_count": 13,
   "id": "c1554ddd",
   "metadata": {},
   "outputs": [
    {
     "data": {
      "text/plain": [
       "<matplotlib.image.AxesImage at 0x7fdcb9a487c0>"
      ]
     },
     "execution_count": 13,
     "metadata": {},
     "output_type": "execute_result"
    },
    {
     "data": {
      "image/png": "[encoded data removed]",
      "text/plain": [
       "<Figure size 432x288 with 1 Axes>"
      ]
     },
     "metadata": {
      "needs_background": "light"
     },
     "output_type": "display_data"
    }
   ],
   "source": [
    "plt.imshow(dark_image_grey_fourier.real, cmap='gray')"
   ]
  },
  {
   "cell_type": "code",
   "execution_count": 14,
   "id": "8d714581",
   "metadata": {},
   "outputs": [
    {
     "data": {
      "text/plain": [
       "<matplotlib.image.AxesImage at 0x7fdcb96c9040>"
      ]
     },
     "execution_count": 14,
     "metadata": {},
     "output_type": "execute_result"
    },
    {
     "data": {
      "image/png": "[encoded data removed]",
      "text/plain": [
       "<Figure size 432x288 with 1 Axes>"
      ]
     },
     "metadata": {
      "needs_background": "light"
     },
     "output_type": "display_data"
    }
   ],
   "source": [
    "plt.imshow(dark_image_grey_fourier.imag, cmap='gray')"
   ]
  },
  {
   "cell_type": "code",
   "execution_count": 15,
   "id": "c57875b9",
   "metadata": {},
   "outputs": [
    {
     "name": "stderr",
     "output_type": "stream",
     "text": [
      "/var/folders/8l/w8cdnkkj38bg2pscx__1vxth0000gn/T/ipykernel_1575/946822697.py:1: RuntimeWarning: divide by zero encountered in log\n",
      "  a = np.log(abs(dark_image_grey_fourier))\n"
     ]
    }
   ],
   "source": [
    "a = np.log(abs(dark_image_grey_fourier))"
   ]
  },
  {
   "cell_type": "code",
   "execution_count": 166,
   "id": "a257dc31",
   "metadata": {},
   "outputs": [],
   "source": [
    "import math as mt\n",
    "a[np.argwhere(np.isinf(a))] = 0#.astype(int)\n",
    "#a[np.argwhere(b==1).flatten()]"
   ]
  },
  {
   "cell_type": "code",
   "execution_count": 167,
   "id": "40056dc3",
   "metadata": {},
   "outputs": [
    {
     "data": {
      "text/plain": [
       "(-38.63912677234193, 8.127159466482414)"
      ]
     },
     "execution_count": 167,
     "metadata": {},
     "output_type": "execute_result"
    }
   ],
   "source": [
    "np.min(a), np.max(a)"
   ]
  },
  {
   "cell_type": "code",
   "execution_count": 168,
   "id": "21586052",
   "metadata": {},
   "outputs": [
    {
     "data": {
      "text/plain": [
       "array([False, False, False, ..., False, False, False])"
      ]
     },
     "execution_count": 168,
     "metadata": {},
     "output_type": "execute_result"
    }
   ],
   "source": [
    "np.isinf(a.flatten())"
   ]
  },
  {
   "cell_type": "code",
   "execution_count": 169,
   "id": "d47f669c",
   "metadata": {},
   "outputs": [
    {
     "data": {
      "text/plain": [
       "46.76628623882435"
      ]
     },
     "execution_count": 169,
     "metadata": {},
     "output_type": "execute_result"
    }
   ],
   "source": [
    "np.max(a)-np.min(a)"
   ]
  },
  {
   "cell_type": "code",
   "execution_count": 90,
   "id": "266ca6d0-3366-4c91-a156-9565f50483be",
   "metadata": {},
   "outputs": [
    {
     "data": {
      "text/plain": [
       "<matplotlib.image.AxesImage at 0x7fc782bdf370>"
      ]
     },
     "execution_count": 90,
     "metadata": {},
     "output_type": "execute_result"
    },
    {
     "data": {
      "image/png": "[encoded data removed]",
      "text/plain": [
       "<Figure size 432x288 with 1 Axes>"
      ]
     },
     "metadata": {
      "needs_background": "light"
     },
     "output_type": "display_data"
    }
   ],
   "source": [
    "plt.imshow(ps.ke)"
   ]
  },
  {
   "cell_type": "code",
   "execution_count": 91,
   "id": "e16db1da-a8dd-455c-8051-0f3b31e7463d",
   "metadata": {},
   "outputs": [
    {
     "data": {
      "text/plain": [
       "Text(0, 0.5, '#pixels y-axis')"
      ]
     },
     "execution_count": 91,
     "metadata": {},
     "output_type": "execute_result"
    },
    {
     "data": {
      "image/png": "[encoded data removed]",
      "text/plain": [
       "<Figure size 432x288 with 1 Axes>"
      ]
     },
     "metadata": {
      "needs_background": "light"
     },
     "output_type": "display_data"
    }
   ],
   "source": [
    "plt.imshow(ps.ki)\n",
    "\n",
    "plt.xlabel('#pixels x-axis')\n",
    "plt.ylabel('#pixels y-axis')"
   ]
  },
  {
   "cell_type": "code",
   "execution_count": 92,
   "id": "b643cef0-e6b3-4b8b-9b32-83d6ff0dae61",
   "metadata": {},
   "outputs": [
    {
     "data": {
      "text/plain": [
       "<matplotlib.image.AxesImage at 0x7fc7d425bac0>"
      ]
     },
     "execution_count": 92,
     "metadata": {},
     "output_type": "execute_result"
    },
    {
     "data": {
      "image/png": "[encoded data removed]",
      "text/plain": [
       "<Figure size 432x288 with 1 Axes>"
      ]
     },
     "metadata": {
      "needs_background": "light"
     },
     "output_type": "display_data"
    }
   ],
   "source": [
    "plt.imshow(ps.ke_fft.real[:12, :12])"
   ]
  },
  {
   "cell_type": "code",
   "execution_count": 93,
   "id": "15091f51-cb5a-4efa-97c4-acd06df603a7",
   "metadata": {},
   "outputs": [
    {
     "data": {
      "text/plain": [
       "<matplotlib.image.AxesImage at 0x7fc780556ac0>"
      ]
     },
     "execution_count": 93,
     "metadata": {},
     "output_type": "execute_result"
    },
    {
     "data": {
      "image/png": "[encoded data removed]",
      "text/plain": [
       "<Figure size 432x288 with 1 Axes>"
      ]
     },
     "metadata": {
      "needs_background": "light"
     },
     "output_type": "display_data"
    }
   ],
   "source": [
    "plt.imshow(ps.ki_fft.real[:12, :12])"
   ]
  },
  {
   "cell_type": "code",
   "execution_count": 65,
   "id": "1e8dc966-2bbe-4e15-9ac3-7a26aa12d2e5",
   "metadata": {},
   "outputs": [
    {
     "data": {
      "text/plain": [
       "<matplotlib.image.AxesImage at 0x7fdb590a0610>"
      ]
     },
     "execution_count": 65,
     "metadata": {},
     "output_type": "execute_result"
    },
    {
     "data": {
      "image/png": "[encoded data removed]",
      "text/plain": [
       "<Figure size 432x288 with 1 Axes>"
      ]
     },
     "metadata": {
      "needs_background": "light"
     },
     "output_type": "display_data"
    }
   ],
   "source": [
    "a = ps.w_ee*ps.ke_fft - ps.w_ei*ps.ki_fft\n",
    "plt.imshow(a.real[:12, :12])"
   ]
  },
  {
   "cell_type": "code",
   "execution_count": 94,
   "id": "916b3c47-0f60-4410-9385-ceb988276444",
   "metadata": {},
   "outputs": [
    {
     "data": {
      "text/plain": [
       "array([[ 1.        +0.j, -0.96891079+0.j,  0.88132314+0.j, ...,\n",
       "        -0.75258254+0.j,  0.88132314+0.j, -0.96891079+0.j],\n",
       "       [-0.96891079+0.j,  0.93878812+0.j, -0.8539235 +0.j, ...,\n",
       "         0.72918534+0.j, -0.8539235 +0.j,  0.93878812+0.j],\n",
       "       [ 0.88132314+0.j, -0.8539235 +0.j,  0.77673047+0.j, ...,\n",
       "        -0.6632684 +0.j,  0.77673047+0.j, -0.8539235 +0.j],\n",
       "       ...,\n",
       "       [-0.75258254+0.j,  0.72918534+0.j, -0.6632684 +0.j, ...,\n",
       "         0.56638047+0.j, -0.6632684 +0.j,  0.72918534+0.j],\n",
       "       [ 0.88132314+0.j, -0.8539235 +0.j,  0.77673047+0.j, ...,\n",
       "        -0.6632684 +0.j,  0.77673047+0.j, -0.8539235 +0.j],\n",
       "       [-0.96891079+0.j,  0.93878812+0.j, -0.8539235 +0.j, ...,\n",
       "         0.72918534+0.j, -0.8539235 +0.j,  0.93878812+0.j]])"
      ]
     },
     "execution_count": 94,
     "metadata": {},
     "output_type": "execute_result"
    }
   ],
   "source": [
    "ps.ke_fft"
   ]
  },
  {
   "cell_type": "code",
   "execution_count": 95,
   "id": "71ef3ae1-fc8a-46f0-9eb0-3843f76613c0",
   "metadata": {},
   "outputs": [
    {
     "name": "stdout",
     "output_type": "stream",
     "text": [
      "ue_init=[[0.2602823 0.2602823 0.2602823 ... 0.2602823 0.2602823 0.2602823]\n",
      " [0.2602823 0.2602823 0.2602823 ... 0.2602823 0.2602823 0.2602823]\n",
      " [0.2602823 0.2602823 0.2602823 ... 0.2602823 0.2602823 0.2602823]\n",
      " ...\n",
      " [0.2602823 0.2602823 0.2602823 ... 0.2602823 0.2602823 0.2602823]\n",
      " [0.2602823 0.2602823 0.2602823 ... 0.2602823 0.2602823 0.2602823]\n",
      " [0.2602823 0.2602823 0.2602823 ... 0.2602823 0.2602823 0.2602823]]\n",
      "Round t=1200\n",
      "Round t=2400\n",
      "Round t=3600\n",
      "Round t=4800\n",
      "Round t=6000\n",
      "Round t=7200\n",
      "Round t=8400\n",
      "Round t=9600\n",
      "Round t=10800\n",
      "Round t=12000\n"
     ]
    }
   ],
   "source": [
    "ueff, uiff = c2d.run(params, itype='inte_fft', fp=fp)"
   ]
  },
  {
   "cell_type": "code",
   "execution_count": 64,
   "id": "93337e45-d987-49ee-8cd2-dbd645b04b64",
   "metadata": {},
   "outputs": [
    {
     "ename": "AttributeError",
     "evalue": "'list' object has no attribute 'T'",
     "output_type": "error",
     "traceback": [
      "\u001b[0;31m---------------------------------------------------------------------------\u001b[0m",
      "\u001b[0;31mAttributeError\u001b[0m                            Traceback (most recent call last)",
      "Input \u001b[0;32mIn [64]\u001b[0m, in \u001b[0;36m<cell line: 3>\u001b[0;34m()\u001b[0m\n\u001b[1;32m      1\u001b[0m fix, (ax0, ax1) \u001b[38;5;241m=\u001b[39m plt\u001b[38;5;241m.\u001b[39msubplots(\u001b[38;5;241m1\u001b[39m, \u001b[38;5;241m2\u001b[39m, figsize\u001b[38;5;241m=\u001b[39m(\u001b[38;5;241m16\u001b[39m,\u001b[38;5;241m8\u001b[39m))\n\u001b[0;32m----> 3\u001b[0m ax0\u001b[38;5;241m.\u001b[39mimshow(\u001b[43mue\u001b[49m\u001b[38;5;241;43m.\u001b[39;49m\u001b[43mT\u001b[49m, vmin\u001b[38;5;241m=\u001b[39m\u001b[38;5;241m0\u001b[39m, vmax\u001b[38;5;241m=\u001b[39m\u001b[38;5;241m1\u001b[39m, aspect\u001b[38;5;241m=\u001b[39m\u001b[38;5;124m'\u001b[39m\u001b[38;5;124mauto\u001b[39m\u001b[38;5;124m'\u001b[39m)\n\u001b[1;32m      4\u001b[0m ax1\u001b[38;5;241m.\u001b[39mimshow(ueff\u001b[38;5;241m.\u001b[39mT[:,\u001b[38;5;241m-\u001b[39m\u001b[38;5;241m8000\u001b[39m:], vmin\u001b[38;5;241m=\u001b[39m\u001b[38;5;241m0\u001b[39m, vmax\u001b[38;5;241m=\u001b[39m\u001b[38;5;241m1\u001b[39m, aspect\u001b[38;5;241m=\u001b[39m\u001b[38;5;124m'\u001b[39m\u001b[38;5;124mauto\u001b[39m\u001b[38;5;124m'\u001b[39m)\n\u001b[1;32m      6\u001b[0m ax0\u001b[38;5;241m.\u001b[39mset_title(label\u001b[38;5;241m=\u001b[39m\u001b[38;5;124m'\u001b[39m\u001b[38;5;124mintegration by approximation\u001b[39m\u001b[38;5;124m'\u001b[39m)\n",
      "\u001b[0;31mAttributeError\u001b[0m: 'list' object has no attribute 'T'"
     ]
    },
    {
     "data": {
      "image/png": "[encoded data removed]",
      "text/plain": [
       "<Figure size 1152x576 with 2 Axes>"
      ]
     },
     "metadata": {
      "needs_background": "light"
     },
     "output_type": "display_data"
    }
   ],
   "source": [
    "fix, (ax0, ax1) = plt.subplots(1, 2, figsize=(16,8))\n",
    "\n",
    "ax0.imshow(ue.T, vmin=0, vmax=1, aspect='auto')\n",
    "ax1.imshow(ueff.T[:,-8000:], vmin=0, vmax=1, aspect='auto')\n",
    "\n",
    "ax0.set_title(label='integration by approximation')\n",
    "ax1.set_title(label='integration by fft')"
   ]
  },
  {
   "cell_type": "code",
   "execution_count": null,
   "id": "052a6b75-4014-404a-9ec7-137894297cc3",
   "metadata": {},
   "outputs": [],
   "source": [
    "ueff"
   ]
  },
  {
   "cell_type": "code",
   "execution_count": null,
   "id": "39333dce-1f99-43fa-8e05-eafdb6ca8049",
   "metadata": {},
   "outputs": [],
   "source": [
    "plt.figure(figsize=(10,10))\n",
    "together_e = ps.w_ee*ps.ke - ps.w_ei*ps.ki\n",
    "together_i = ps.w_ie*ps.ke - ps.w_ii*ps.ki\n",
    "zero_line = np.zeros(ps.n)\n",
    "plt.plot(ps.x, ps.ke, ps.x, ps.ki)\n",
    "plt.plot(ps.x, together_e)\n",
    "plt.plot(ps.x, together_i)\n",
    "plt.plot(ps.x, zero_line, linestyle='dashed', c='black')"
   ]
  },
  {
   "cell_type": "markdown",
   "id": "9fd9f71a-8878-4885-86e5-e0198ccb0aa9",
   "metadata": {},
   "source": [
    "# Same setting, different length"
   ]
  },
  {
   "cell_type": "code",
   "execution_count": 35,
   "id": "06792c2a-459e-43f1-b4fe-3c91e4d06a03",
   "metadata": {
    "tags": []
   },
   "outputs": [
    {
     "name": "stdout",
     "output_type": "stream",
     "text": [
      "fixed points [[1. 1.]] \n",
      "with (mass) stability [1]\n"
     ]
    }
   ],
   "source": [
    "params1 = {'I_e': 5.2 , 'I_i': 3.7, 'n': 350, 'length': 20, 'end_t': 500} \n",
    "ps1 = setParams(params1)\n",
    "fps1 = computeFPs(ps1)\n",
    "stab1 = checkFixPtsStability(fps1, ps1)\n",
    "print('fixed points %s ' %str(fps1))\n",
    "print('with (mass) stability %s'  %str(stab1))"
   ]
  },
  {
   "cell_type": "code",
   "execution_count": 36,
   "id": "c24ddb93-466c-401a-a6a4-55411c518d75",
   "metadata": {},
   "outputs": [],
   "source": [
    "fp1 = fps1[0]"
   ]
  },
  {
   "cell_type": "code",
   "execution_count": 70,
   "id": "03224590-2159-44f4-9995-5e3e1ebd3577",
   "metadata": {
    "tags": []
   },
   "outputs": [
    {
     "name": "stdout",
     "output_type": "stream",
     "text": [
      "Summe von ke, bereits normalisiert, also sollte 1 sein 1.0\n",
      "Summe von ki, bereits normalisiert, also sollte 1 sein 0.9991415684838499\n"
     ]
    }
   ],
   "source": [
    "ue1, ui1 = c1d.run(params1, itype='inte_approxi', fp=fp1)"
   ]
  },
  {
   "cell_type": "code",
   "execution_count": 71,
   "id": "5f3745dd-fea0-4bba-b656-07d82bc65921",
   "metadata": {},
   "outputs": [
    {
     "name": "stdout",
     "output_type": "stream",
     "text": [
      "Summe von ke, bereits normalisiert, also sollte 1 sein 1.0\n",
      "Summe von ki, bereits normalisiert, also sollte 1 sein 0.9991415684838499\n"
     ]
    }
   ],
   "source": [
    "ueff1, uiff1 = c1d.run(params1, itype='inte_fft', fp=fp1)"
   ]
  },
  {
   "cell_type": "code",
   "execution_count": 72,
   "id": "c571e09d-a635-41cc-b1d5-a79f103fa5bf",
   "metadata": {},
   "outputs": [
    {
     "data": {
      "text/plain": [
       "Text(0.5, 1.0, 'integration by fft')"
      ]
     },
     "execution_count": 72,
     "metadata": {},
     "output_type": "execute_result"
    },
    {
     "data": {
      "image/png": "[encoded data removed]",
      "text/plain": [
       "<Figure size 1152x576 with 2 Axes>"
      ]
     },
     "metadata": {
      "needs_background": "light"
     },
     "output_type": "display_data"
    }
   ],
   "source": [
    "fix, (ax0, ax1) = plt.subplots(1, 2, figsize=(16,8))\n",
    "\n",
    "ax0.imshow(ue1.T, vmin=0, vmax=1, aspect='auto')\n",
    "ax1.imshow(ueff1.T, vmin=0, vmax=1, aspect='auto')\n",
    "\n",
    "ax0.set_title(label='integration by approximation')\n",
    "ax1.set_title(label='integration by fft')"
   ]
  },
  {
   "cell_type": "code",
   "execution_count": 14,
   "id": "951b6956-d5a7-43fd-bb69-0b6a5a6ee5e1",
   "metadata": {},
   "outputs": [
    {
     "data": {
      "text/plain": [
       "(array([0.95772056, 0.96679761, 0.97374202, 0.97906705, 0.98316525]),\n",
       " array([0.99875221, 0.99875361, 0.99875242, 0.99874861, 0.99874208]))"
      ]
     },
     "execution_count": 14,
     "metadata": {},
     "output_type": "execute_result"
    }
   ],
   "source": [
    "ue1[-10][0:5], ueff1[-10][0:5]"
   ]
  },
  {
   "cell_type": "markdown",
   "id": "89a3e988-3d51-4d16-8db1-dd68bdcbb0db",
   "metadata": {},
   "source": [
    "# Other setting (unstable)"
   ]
  },
  {
   "cell_type": "code",
   "execution_count": 15,
   "id": "8dd8dece-ed9a-47fe-a9d9-ecad195ec474",
   "metadata": {
    "tags": []
   },
   "outputs": [
    {
     "name": "stdout",
     "output_type": "stream",
     "text": [
      "Summe von ke, bereits normalisiert, also sollte 1 sein 0.9999994219826178\n",
      "Summe von ki, bereits normalisiert, also sollte 1 sein 0.9044075964493608\n",
      "Summe von ke, bereits normalisiert, also sollte 1 sein 0.9999994219826178\n",
      "Summe von ki, bereits normalisiert, also sollte 1 sein 0.9044075964493608\n",
      "fixed points [array([0.19052787, 0.16625248])] \n",
      "with (mass) stability [0]\n"
     ]
    }
   ],
   "source": [
    "params2 = {'I_e': 2.5, 'I_i': 1.6, 'n': 162, 'length': 10} \n",
    "ps2 = setParams(params2)\n",
    "fps2 = computeFPs(ps2)\n",
    "stab2 = checkFixPtsStability(fps2, ps2)\n",
    "print('fixed points %s ' %str(fps2))\n",
    "print('with (mass) stability %s'  %str(stab2))"
   ]
  },
  {
   "cell_type": "code",
   "execution_count": 16,
   "id": "f23b3ea4-d5bb-4d7a-bb40-66b1d5046e85",
   "metadata": {},
   "outputs": [],
   "source": [
    "fp2 = fps2[0]"
   ]
  },
  {
   "cell_type": "code",
   "execution_count": 17,
   "id": "a2c0e6d9-7e95-4419-bdee-753c174087c9",
   "metadata": {},
   "outputs": [
    {
     "name": "stdout",
     "output_type": "stream",
     "text": [
      "Summe von ke, bereits normalisiert, also sollte 1 sein 0.9999994219826178\n",
      "Summe von ki, bereits normalisiert, also sollte 1 sein 0.9044075964493608\n"
     ]
    }
   ],
   "source": [
    "ue2, ui2 = c1d.run(params2, itype='inte_approxi')#, fp=fp2)"
   ]
  },
  {
   "cell_type": "code",
   "execution_count": 18,
   "id": "7df3555b-475c-4284-93e8-884dcc11a456",
   "metadata": {},
   "outputs": [
    {
     "name": "stdout",
     "output_type": "stream",
     "text": [
      "Summe von ke, bereits normalisiert, also sollte 1 sein 0.9999994219826178\n",
      "Summe von ki, bereits normalisiert, also sollte 1 sein 0.9044075964493608\n"
     ]
    }
   ],
   "source": [
    "ueff2, uiff2 = c1d.run(params2, itype='inte_fft')#, fp=fp2)"
   ]
  },
  {
   "cell_type": "code",
   "execution_count": 19,
   "id": "c11d19d9-9c62-438c-9352-122e166adb38",
   "metadata": {},
   "outputs": [
    {
     "data": {
      "text/plain": [
       "Text(0.5, 1.0, 'integration by fft')"
      ]
     },
     "execution_count": 19,
     "metadata": {},
     "output_type": "execute_result"
    },
    {
     "data": {
      "image/png": "[encoded data removed]",
      "text/plain": [
       "<Figure size 1152x576 with 2 Axes>"
      ]
     },
     "metadata": {
      "needs_background": "light"
     },
     "output_type": "display_data"
    }
   ],
   "source": [
    "fix, (ax0, ax1) = plt.subplots(1, 2, figsize=(16,8))\n",
    "\n",
    "ax0.imshow(ue2.T, vmin=0, vmax=1, aspect='auto')\n",
    "ax1.imshow(ueff2.T, vmin=0, vmax=1, aspect='auto')\n",
    "\n",
    "ax0.set_title(label='integration by approximation')\n",
    "ax1.set_title(label='integration by fft')"
   ]
  },
  {
   "cell_type": "code",
   "execution_count": 20,
   "id": "178ef6d1-dbbd-4c71-b0a9-8bee394affa4",
   "metadata": {},
   "outputs": [
    {
     "data": {
      "text/plain": [
       "array([[0.00165198, 0.00351664, 0.00557534, ..., 0.00930578, 0.00682943,\n",
       "        0.00304218],\n",
       "       [0.00471953, 0.00650946, 0.00848557, ..., 0.01206705, 0.00968989,\n",
       "        0.00605419],\n",
       "       [0.00777636, 0.00949454, 0.01139136, ..., 0.01482983, 0.0125479 ,\n",
       "        0.00905768],\n",
       "       ...,\n",
       "       [0.90915046, 0.90915046, 0.90915046, ..., 0.90915046, 0.90915046,\n",
       "        0.90915046],\n",
       "       [0.90681107, 0.90681107, 0.90681107, ..., 0.90681107, 0.90681107,\n",
       "        0.90681107],\n",
       "       [0.90430707, 0.90430707, 0.90430707, ..., 0.90430707, 0.90430707,\n",
       "        0.90430707]])"
      ]
     },
     "execution_count": 20,
     "metadata": {},
     "output_type": "execute_result"
    }
   ],
   "source": [
    "ue2"
   ]
  },
  {
   "cell_type": "markdown",
   "id": "970b88b6-4f38-4932-a614-8955ad9b9788",
   "metadata": {},
   "source": [
    "# Harris PhD Setting (as close as possible at least)"
   ]
  },
  {
   "cell_type": "code",
   "execution_count": 115,
   "id": "58a85508-f0ab-4636-9d54-8c0ded5ee117",
   "metadata": {},
   "outputs": [],
   "source": [
    "params_h={'tau_e': 1, 'tau_i': 0.1,\n",
    "        'w_ee': 1, 'w_ei': 1.5, 'w_ie': 1, 'w_ii': 0.25,\n",
    "        'sigma_e': 1, 'sigma_i': 3, 'kernel': 'gaussian', \n",
    "        'mu_e': 0, 'mu_i': 0, 'beta_e': 50, 'beta_i': 50,\n",
    "        'I_e': -0.1, 'I_i': -0.4,\n",
    "        'dt': 0.1, 'start_t': 0, 'end_t': 500, \n",
    "        'n': 812, 'length': 60}"
   ]
  },
  {
   "cell_type": "code",
   "execution_count": 116,
   "id": "da40d2b9-14f4-4fcc-9b66-bd77ce0bf9f6",
   "metadata": {},
   "outputs": [
    {
     "name": "stdout",
     "output_type": "stream",
     "text": [
      "fixed points [[1.23241817e-02 3.81703853e-09]\n",
      " [3.14558007e-02 9.93427119e-09]\n",
      " [4.31367027e-01 2.24595030e-01]] \n",
      "with (mass) stability [1, 0, 1]\n"
     ]
    }
   ],
   "source": [
    "ps_h = setParams(params_h)\n",
    "fps_h = computeFPs(ps_h)\n",
    "stab_h = checkFixPtsStability(fps_h, ps)\n",
    "print('fixed points %s ' %str(fps_h))\n",
    "print('with (mass) stability %s'  %str(stab_h))"
   ]
  },
  {
   "cell_type": "code",
   "execution_count": 117,
   "id": "391b3be0-717e-4c5d-9253-942151766ecc",
   "metadata": {},
   "outputs": [],
   "source": [
    "fp_h = fps_h[2]"
   ]
  },
  {
   "cell_type": "code",
   "execution_count": 118,
   "id": "c573571d-24f4-4a86-81e0-05445cc8bb8f",
   "metadata": {
    "tags": []
   },
   "outputs": [],
   "source": [
    "ue_harris, ui_harris = c1d.run(params_h, itype='inte_approxi', fp=fp_h)"
   ]
  },
  {
   "cell_type": "code",
   "execution_count": 119,
   "id": "81178df3-0acb-4b99-80a5-ac6df8899984",
   "metadata": {},
   "outputs": [],
   "source": [
    "ueff_harris, uiff_harris = c1d.run(params_h, itype='inte_fft', fp=fp_h)"
   ]
  },
  {
   "cell_type": "code",
   "execution_count": 121,
   "id": "a90f01a1-4250-47c6-87e8-1a68bd0fb35b",
   "metadata": {},
   "outputs": [
    {
     "data": {
      "text/plain": [
       "Text(0.5, 1.0, 'harris: integration by fft')"
      ]
     },
     "execution_count": 121,
     "metadata": {},
     "output_type": "execute_result"
    },
    {
     "data": {
      "image/png": "[encoded data removed]",
      "text/plain": [
       "<Figure size 1152x576 with 2 Axes>"
      ]
     },
     "metadata": {
      "needs_background": "light"
     },
     "output_type": "display_data"
    }
   ],
   "source": [
    "fix, (ax0, ax1) = plt.subplots(1, 2, figsize=(16,8))\n",
    "\n",
    "ax0.imshow(ue_harris.T, vmin=0, vmax=1, aspect='auto')\n",
    "ax1.imshow(ueff_harris.T, vmin=0, vmax=1, aspect='auto')\n",
    "\n",
    "ax0.set_title(label='harris: integration by approximation')\n",
    "ax1.set_title(label='harris: integration by fft')"
   ]
  },
  {
   "cell_type": "code",
   "execution_count": 113,
   "id": "d562d476-68e9-4e1d-8b7a-02849e6850f2",
   "metadata": {},
   "outputs": [
    {
     "data": {
      "text/plain": [
       "array([0.43136703, 0.43136703, 0.43136703, ..., 0.52631578, 0.47368421,\n",
       "       0.52631578])"
      ]
     },
     "execution_count": 113,
     "metadata": {},
     "output_type": "execute_result"
    }
   ],
   "source": [
    "ue_harris.T[10]"
   ]
  },
  {
   "cell_type": "code",
   "execution_count": null,
   "id": "bbcf5b79-8b6e-492a-b926-ba40459de428",
   "metadata": {},
   "outputs": [],
   "source": []
  },
  {
   "cell_type": "code",
   "execution_count": null,
   "id": "a6b5bdfc-3a8f-401d-90f9-d2323587968d",
   "metadata": {},
   "outputs": [],
   "source": []
  },
  {
   "cell_type": "code",
   "execution_count": null,
   "id": "47169e51-71fc-4ba3-8bff-3c2b8cd1e060",
   "metadata": {},
   "outputs": [],
   "source": []
  },
  {
   "cell_type": "code",
   "execution_count": null,
   "id": "893552ed-4ddf-4941-9b2c-c2db27169eb0",
   "metadata": {},
   "outputs": [],
   "source": []
  },
  {
   "cell_type": "code",
   "execution_count": null,
   "id": "398bc27b-d9ec-44f9-b8d5-b6bde6d3bab4",
   "metadata": {},
   "outputs": [],
   "source": []
  }
 ],
 "metadata": {
  "kernelspec": {
   "display_name": "Python 3 (ipykernel)",
   "language": "python",
   "name": "python3"
  },
  "language_info": {
   "codemirror_mode": {
    "name": "ipython",
    "version": 3
   },
   "file_extension": ".py",
   "mimetype": "text/x-python",
   "name": "python",
   "nbconvert_exporter": "python",
   "pygments_lexer": "ipython3",
   "version": "3.9.12"
  }
 },
 "nbformat": 4,
 "nbformat_minor": 5
}
