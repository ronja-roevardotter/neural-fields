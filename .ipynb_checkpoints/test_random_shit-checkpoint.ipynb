{
 "cells": [
  {
   "cell_type": "code",
   "execution_count": 2,
   "id": "535ca8ef-bc6f-4022-a704-8028568f866a",
   "metadata": {},
   "outputs": [],
   "source": [
    "import numpy as np"
   ]
  },
  {
   "cell_type": "code",
   "execution_count": 3,
   "id": "b719f5fe-69ad-48e2-ad64-d07b4d3338ea",
   "metadata": {},
   "outputs": [
    {
     "data": {
      "text/plain": [
       "array([2. , 0.5, 0. , 0.4])"
      ]
     },
     "execution_count": 3,
     "metadata": {},
     "output_type": "execute_result"
    }
   ],
   "source": [
    "ke = np.array([2,1,0,1])\n",
    "ue = np.array([1,0.5,0.6,0.4])\n",
    "\n",
    "ke*ue\n"
   ]
  },
  {
   "cell_type": "code",
   "execution_count": 4,
   "id": "c7056c94-f182-4900-988f-ade1b7eefeca",
   "metadata": {},
   "outputs": [],
   "source": [
    "def integral_approxi(ke, ue):\n",
    "    n=len(ue)\n",
    "    ke_mtx = np.zeros((n,n))\n",
    "    \n",
    "    for j in range(n):\n",
    "        ke_mtx[j] = np.roll(ke, j)\n",
    "    \n",
    "    le = np.zeros(n)\n",
    "    \n",
    "    for j in range(n):\n",
    "        le[j] = ke_mtx[j]@ue\n",
    "    \n",
    "    return le"
   ]
  },
  {
   "cell_type": "code",
   "execution_count": 5,
   "id": "1fb8bea5-c78a-4cf0-b16e-d932f518b698",
   "metadata": {},
   "outputs": [],
   "source": [
    "def integral_fft(ke, ue):\n",
    "    ke_fft = np.fft.fft(ke)\n",
    "    ue_fft = np.fft.fft(ue)\n",
    "    \n",
    "    mix = ke_fft*ue_fft\n",
    "    \n",
    "    mix_real = np.fft.ifft(mix).real\n",
    "    \n",
    "    return mix_real\n"
   ]
  },
  {
   "cell_type": "code",
   "execution_count": 6,
   "id": "88901d8e-1038-40a4-b43c-a4ea9f503801",
   "metadata": {},
   "outputs": [],
   "source": [
    "params={'n': 12, 'length': 10}"
   ]
  },
  {
   "cell_type": "code",
   "execution_count": 7,
   "id": "e3bce79e-1fbc-45b6-93c8-5fd10c9216e0",
   "metadata": {},
   "outputs": [],
   "source": [
    "from py.params import setParams\n",
    "\n",
    "ps = setParams(params)\n",
    "u = np.random.uniform(0.1, 0.2, ps.n)"
   ]
  },
  {
   "cell_type": "code",
   "execution_count": 8,
   "id": "442a7daa-5a9e-45da-bec0-d2f1ec4793be",
   "metadata": {},
   "outputs": [
    {
     "data": {
      "text/plain": [
       "array([5.89117030e-01, 1.97906377e-01, 7.50299090e-03, 3.21015108e-05,\n",
       "       1.55000445e-08, 8.44611207e-13, 5.19394271e-18, 8.44611207e-13,\n",
       "       1.55000445e-08, 3.21015108e-05, 7.50299090e-03, 1.97906377e-01])"
      ]
     },
     "execution_count": 8,
     "metadata": {},
     "output_type": "execute_result"
    }
   ],
   "source": [
    "ps.ke"
   ]
  },
  {
   "cell_type": "code",
   "execution_count": 9,
   "id": "0cef04a9-3582-493b-892e-68c4435a96eb",
   "metadata": {},
   "outputs": [
    {
     "data": {
      "text/plain": [
       "array([1.        +0.j, 0.93940391+0.j, 0.7794562 +0.j, 0.57411108+0.j,\n",
       "       0.38377185+0.j, 0.25383611+0.j, 0.20824609+0.j, 0.25383611+0.j,\n",
       "       0.38377185+0.j, 0.57411108+0.j, 0.7794562 +0.j, 0.93940391+0.j])"
      ]
     },
     "execution_count": 9,
     "metadata": {},
     "output_type": "execute_result"
    }
   ],
   "source": [
    "ps.ke_fft"
   ]
  },
  {
   "cell_type": "code",
   "execution_count": 10,
   "id": "9314d185-4cc1-44d5-ba42-01ad7417aba8",
   "metadata": {},
   "outputs": [
    {
     "data": {
      "text/plain": [
       "array([1.        +0.j, 0.93940391+0.j, 0.7794562 +0.j, 0.57411108+0.j,\n",
       "       0.38377185+0.j, 0.25383611+0.j, 0.20824609+0.j, 0.25383611+0.j,\n",
       "       0.38377185+0.j, 0.57411108+0.j, 0.7794562 +0.j, 0.93940391+0.j])"
      ]
     },
     "execution_count": 10,
     "metadata": {},
     "output_type": "execute_result"
    }
   ],
   "source": [
    "own = np.fft.fft(ps.ke)\n",
    "own"
   ]
  },
  {
   "cell_type": "code",
   "execution_count": 11,
   "id": "f0de145b-eb6b-4726-9700-69e78ed8834f",
   "metadata": {},
   "outputs": [
    {
     "data": {
      "text/plain": [
       "array([0.17840728, 0.11978485, 0.15109262, 0.10856883, 0.19627516,\n",
       "       0.17557569, 0.11722996, 0.18400847, 0.14841119, 0.12816705,\n",
       "       0.11068376, 0.15290263])"
      ]
     },
     "execution_count": 11,
     "metadata": {},
     "output_type": "execute_result"
    }
   ],
   "source": [
    "u"
   ]
  },
  {
   "cell_type": "code",
   "execution_count": 12,
   "id": "0c2bf8ee-dad1-496d-a012-2dd21e8613f7",
   "metadata": {},
   "outputs": [
    {
     "name": "stdout",
     "output_type": "stream",
     "text": [
      "kernel matrix:  [[5.89117030e-01 1.97906377e-01 7.50299090e-03 3.21015108e-05\n",
      "  1.55000445e-08 8.44611207e-13 5.19394271e-18 8.44611207e-13\n",
      "  1.55000445e-08 3.21015108e-05 7.50299090e-03 1.97906377e-01]\n",
      " [1.97906377e-01 5.89117030e-01 1.97906377e-01 7.50299090e-03\n",
      "  3.21015108e-05 1.55000445e-08 8.44611207e-13 5.19394271e-18\n",
      "  8.44611207e-13 1.55000445e-08 3.21015108e-05 7.50299090e-03]\n",
      " [7.50299090e-03 1.97906377e-01 5.89117030e-01 1.97906377e-01\n",
      "  7.50299090e-03 3.21015108e-05 1.55000445e-08 8.44611207e-13\n",
      "  5.19394271e-18 8.44611207e-13 1.55000445e-08 3.21015108e-05]\n",
      " [3.21015108e-05 7.50299090e-03 1.97906377e-01 5.89117030e-01\n",
      "  1.97906377e-01 7.50299090e-03 3.21015108e-05 1.55000445e-08\n",
      "  8.44611207e-13 5.19394271e-18 8.44611207e-13 1.55000445e-08]\n",
      " [1.55000445e-08 3.21015108e-05 7.50299090e-03 1.97906377e-01\n",
      "  5.89117030e-01 1.97906377e-01 7.50299090e-03 3.21015108e-05\n",
      "  1.55000445e-08 8.44611207e-13 5.19394271e-18 8.44611207e-13]\n",
      " [8.44611207e-13 1.55000445e-08 3.21015108e-05 7.50299090e-03\n",
      "  1.97906377e-01 5.89117030e-01 1.97906377e-01 7.50299090e-03\n",
      "  3.21015108e-05 1.55000445e-08 8.44611207e-13 5.19394271e-18]\n",
      " [5.19394271e-18 8.44611207e-13 1.55000445e-08 3.21015108e-05\n",
      "  7.50299090e-03 1.97906377e-01 5.89117030e-01 1.97906377e-01\n",
      "  7.50299090e-03 3.21015108e-05 1.55000445e-08 8.44611207e-13]\n",
      " [8.44611207e-13 5.19394271e-18 8.44611207e-13 1.55000445e-08\n",
      "  3.21015108e-05 7.50299090e-03 1.97906377e-01 5.89117030e-01\n",
      "  1.97906377e-01 7.50299090e-03 3.21015108e-05 1.55000445e-08]\n",
      " [1.55000445e-08 8.44611207e-13 5.19394271e-18 8.44611207e-13\n",
      "  1.55000445e-08 3.21015108e-05 7.50299090e-03 1.97906377e-01\n",
      "  5.89117030e-01 1.97906377e-01 7.50299090e-03 3.21015108e-05]\n",
      " [3.21015108e-05 1.55000445e-08 8.44611207e-13 5.19394271e-18\n",
      "  8.44611207e-13 1.55000445e-08 3.21015108e-05 7.50299090e-03\n",
      "  1.97906377e-01 5.89117030e-01 1.97906377e-01 7.50299090e-03]\n",
      " [7.50299090e-03 3.21015108e-05 1.55000445e-08 8.44611207e-13\n",
      "  5.19394271e-18 8.44611207e-13 1.55000445e-08 3.21015108e-05\n",
      "  7.50299090e-03 1.97906377e-01 5.89117030e-01 1.97906377e-01]\n",
      " [1.97906377e-01 7.50299090e-03 3.21015108e-05 1.55000445e-08\n",
      "  8.44611207e-13 5.19394271e-18 8.44611207e-13 1.55000445e-08\n",
      "  3.21015108e-05 7.50299090e-03 1.97906377e-01 5.89117030e-01]]\n"
     ]
    }
   ],
   "source": [
    "uf = np.fft.fft(u)\n",
    "given_fft = ps.ke_fft*uf\n",
    "given_fft = np.fft.ifft(given_fft).real\n",
    "own_fft = integral_fft(ps.ke, u)\n",
    "approxi = integral_approxi(ps.ke, u)\n",
    "\n"
   ]
  },
  {
   "cell_type": "code",
   "execution_count": 13,
   "id": "04c77c1e-cdae-4367-8de0-742997336470",
   "metadata": {},
   "outputs": [
    {
     "data": {
      "text/plain": [
       "array([0.16104107, 0.1377491 , 0.13702567, 0.13493163, 0.17388603,\n",
       "       0.16768412, 0.14281995, 0.16326344, 0.15093367, 0.12931927,\n",
       "       0.12329304, 0.1491605 ])"
      ]
     },
     "execution_count": 13,
     "metadata": {},
     "output_type": "execute_result"
    }
   ],
   "source": [
    "given_fft"
   ]
  },
  {
   "cell_type": "code",
   "execution_count": 14,
   "id": "422d1aba-dcb3-449e-ba5c-99744a76a77f",
   "metadata": {},
   "outputs": [
    {
     "data": {
      "text/plain": [
       "array([0.16104107, 0.1377491 , 0.13702567, 0.13493163, 0.17388603,\n",
       "       0.16768412, 0.14281995, 0.16326344, 0.15093367, 0.12931927,\n",
       "       0.12329304, 0.1491605 ])"
      ]
     },
     "execution_count": 14,
     "metadata": {},
     "output_type": "execute_result"
    }
   ],
   "source": [
    "own_fft"
   ]
  },
  {
   "cell_type": "code",
   "execution_count": 15,
   "id": "9564a20c-f02b-4822-8ef3-7945dc97cd88",
   "metadata": {},
   "outputs": [
    {
     "data": {
      "text/plain": [
       "array([0.16104107, 0.1377491 , 0.13702567, 0.13493163, 0.17388603,\n",
       "       0.16768412, 0.14281995, 0.16326344, 0.15093367, 0.12931927,\n",
       "       0.12329304, 0.1491605 ])"
      ]
     },
     "execution_count": 15,
     "metadata": {},
     "output_type": "execute_result"
    }
   ],
   "source": [
    "approxi"
   ]
  },
  {
   "cell_type": "code",
   "execution_count": 16,
   "id": "67b140e3-7f8b-4aab-b389-61adc1ebd58e",
   "metadata": {},
   "outputs": [
    {
     "data": {
      "text/plain": [
       "array([1, 1, 2, 3, 4, 5, 6, 5, 4, 3, 2, 1])"
      ]
     },
     "execution_count": 16,
     "metadata": {},
     "output_type": "execute_result"
    }
   ],
   "source": [
    "ps.delay"
   ]
  },
  {
   "cell_type": "code",
   "execution_count": null,
   "id": "c96040a9-aecb-4ca2-89c7-d8c78828a035",
   "metadata": {},
   "outputs": [],
   "source": [
    "ups = np.ones((n,n))\n",
    "ups = np.array([1,2,3,4,5,6])"
   ]
  }
 ],
 "metadata": {
  "kernelspec": {
   "display_name": "Python 3 (ipykernel)",
   "language": "python",
   "name": "python3"
  },
  "language_info": {
   "codemirror_mode": {
    "name": "ipython",
    "version": 3
   },
   "file_extension": ".py",
   "mimetype": "text/x-python",
   "name": "python",
   "nbconvert_exporter": "python",
   "pygments_lexer": "ipython3",
   "version": "3.9.12"
  }
 },
 "nbformat": 4,
 "nbformat_minor": 5
}
