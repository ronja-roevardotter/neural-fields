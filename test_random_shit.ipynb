{
 "cells": [
  {
   "cell_type": "code",
   "execution_count": 1,
   "id": "535ca8ef-bc6f-4022-a704-8028568f866a",
   "metadata": {},
   "outputs": [],
   "source": [
    "import numpy as np\n",
    "import matplotlib.pyplot as plt"
   ]
  },
  {
   "cell_type": "code",
   "execution_count": 2,
   "id": "eebc1592",
   "metadata": {},
   "outputs": [],
   "source": [
    "import pandas as pd"
   ]
  },
  {
   "cell_type": "code",
   "execution_count": 4,
   "id": "3b9cc38f",
   "metadata": {},
   "outputs": [],
   "source": [
    "default = pd.read_csv('csv/high-default.csv')\n",
    "adap = pd.read_csv('csv/adaps-explo/high-adaps.csv')"
   ]
  },
  {
   "cell_type": "code",
   "execution_count": 5,
   "id": "81de2114",
   "metadata": {},
   "outputs": [],
   "source": [
    "temp = adap[default['stability']==2]\n",
    "temp2 = temp[temp['p_down']==4]"
   ]
  },
  {
   "cell_type": "code",
   "execution_count": 15,
   "id": "56f81003",
   "metadata": {},
   "outputs": [
    {
     "name": "stderr",
     "output_type": "stream",
     "text": [
      "/var/folders/8l/w8cdnkkj38bg2pscx__1vxth0000gn/T/ipykernel_4151/729691330.py:3: UserWarning: Boolean Series key will be reindexed to match DataFrame index.\n",
      "  temp3[temp2['dynamic']==1]\n"
     ]
    },
    {
     "data": {
      "text/html": [
       "<div>\n",
       "<style scoped>\n",
       "    .dataframe tbody tr th:only-of-type {\n",
       "        vertical-align: middle;\n",
       "    }\n",
       "\n",
       "    .dataframe tbody tr th {\n",
       "        vertical-align: top;\n",
       "    }\n",
       "\n",
       "    .dataframe thead th {\n",
       "        text-align: right;\n",
       "    }\n",
       "</style>\n",
       "<table border=\"1\" class=\"dataframe\">\n",
       "  <thead>\n",
       "    <tr style=\"text-align: right;\">\n",
       "      <th></th>\n",
       "      <th>Unnamed: 0</th>\n",
       "      <th>I_e</th>\n",
       "      <th>I_i</th>\n",
       "      <th>stability</th>\n",
       "      <th>static</th>\n",
       "      <th>dynamic</th>\n",
       "      <th>double</th>\n",
       "      <th>p_random</th>\n",
       "      <th>p_down</th>\n",
       "    </tr>\n",
       "  </thead>\n",
       "  <tbody>\n",
       "    <tr>\n",
       "      <th>17225</th>\n",
       "      <td>0</td>\n",
       "      <td>0.40</td>\n",
       "      <td>-0.15</td>\n",
       "      <td>2.0</td>\n",
       "      <td>1</td>\n",
       "      <td>1</td>\n",
       "      <td>0</td>\n",
       "      <td>1</td>\n",
       "      <td>4</td>\n",
       "    </tr>\n",
       "    <tr>\n",
       "      <th>17426</th>\n",
       "      <td>0</td>\n",
       "      <td>0.40</td>\n",
       "      <td>-0.14</td>\n",
       "      <td>2.0</td>\n",
       "      <td>1</td>\n",
       "      <td>1</td>\n",
       "      <td>0</td>\n",
       "      <td>1</td>\n",
       "      <td>4</td>\n",
       "    </tr>\n",
       "    <tr>\n",
       "      <th>17427</th>\n",
       "      <td>0</td>\n",
       "      <td>0.41</td>\n",
       "      <td>-0.14</td>\n",
       "      <td>2.0</td>\n",
       "      <td>1</td>\n",
       "      <td>1</td>\n",
       "      <td>0</td>\n",
       "      <td>1</td>\n",
       "      <td>4</td>\n",
       "    </tr>\n",
       "    <tr>\n",
       "      <th>17627</th>\n",
       "      <td>0</td>\n",
       "      <td>0.40</td>\n",
       "      <td>-0.13</td>\n",
       "      <td>2.0</td>\n",
       "      <td>1</td>\n",
       "      <td>1</td>\n",
       "      <td>0</td>\n",
       "      <td>1</td>\n",
       "      <td>4</td>\n",
       "    </tr>\n",
       "    <tr>\n",
       "      <th>17628</th>\n",
       "      <td>0</td>\n",
       "      <td>0.41</td>\n",
       "      <td>-0.13</td>\n",
       "      <td>2.0</td>\n",
       "      <td>1</td>\n",
       "      <td>1</td>\n",
       "      <td>0</td>\n",
       "      <td>1</td>\n",
       "      <td>4</td>\n",
       "    </tr>\n",
       "    <tr>\n",
       "      <th>...</th>\n",
       "      <td>...</td>\n",
       "      <td>...</td>\n",
       "      <td>...</td>\n",
       "      <td>...</td>\n",
       "      <td>...</td>\n",
       "      <td>...</td>\n",
       "      <td>...</td>\n",
       "      <td>...</td>\n",
       "      <td>...</td>\n",
       "    </tr>\n",
       "    <tr>\n",
       "      <th>25712</th>\n",
       "      <td>0</td>\n",
       "      <td>0.85</td>\n",
       "      <td>0.27</td>\n",
       "      <td>2.0</td>\n",
       "      <td>1</td>\n",
       "      <td>1</td>\n",
       "      <td>0</td>\n",
       "      <td>1</td>\n",
       "      <td>4</td>\n",
       "    </tr>\n",
       "    <tr>\n",
       "      <th>25713</th>\n",
       "      <td>0</td>\n",
       "      <td>0.86</td>\n",
       "      <td>0.27</td>\n",
       "      <td>2.0</td>\n",
       "      <td>1</td>\n",
       "      <td>1</td>\n",
       "      <td>0</td>\n",
       "      <td>1</td>\n",
       "      <td>4</td>\n",
       "    </tr>\n",
       "    <tr>\n",
       "      <th>25714</th>\n",
       "      <td>0</td>\n",
       "      <td>0.87</td>\n",
       "      <td>0.27</td>\n",
       "      <td>2.0</td>\n",
       "      <td>1</td>\n",
       "      <td>1</td>\n",
       "      <td>0</td>\n",
       "      <td>1</td>\n",
       "      <td>4</td>\n",
       "    </tr>\n",
       "    <tr>\n",
       "      <th>25914</th>\n",
       "      <td>0</td>\n",
       "      <td>0.86</td>\n",
       "      <td>0.28</td>\n",
       "      <td>2.0</td>\n",
       "      <td>1</td>\n",
       "      <td>1</td>\n",
       "      <td>0</td>\n",
       "      <td>1</td>\n",
       "      <td>4</td>\n",
       "    </tr>\n",
       "    <tr>\n",
       "      <th>25915</th>\n",
       "      <td>0</td>\n",
       "      <td>0.87</td>\n",
       "      <td>0.28</td>\n",
       "      <td>2.0</td>\n",
       "      <td>1</td>\n",
       "      <td>1</td>\n",
       "      <td>0</td>\n",
       "      <td>1</td>\n",
       "      <td>4</td>\n",
       "    </tr>\n",
       "  </tbody>\n",
       "</table>\n",
       "<p>573 rows × 9 columns</p>\n",
       "</div>"
      ],
      "text/plain": [
       "       Unnamed: 0   I_e   I_i  stability  static  dynamic  double  p_random  \\\n",
       "17225           0  0.40 -0.15        2.0       1        1       0         1   \n",
       "17426           0  0.40 -0.14        2.0       1        1       0         1   \n",
       "17427           0  0.41 -0.14        2.0       1        1       0         1   \n",
       "17627           0  0.40 -0.13        2.0       1        1       0         1   \n",
       "17628           0  0.41 -0.13        2.0       1        1       0         1   \n",
       "...           ...   ...   ...        ...     ...      ...     ...       ...   \n",
       "25712           0  0.85  0.27        2.0       1        1       0         1   \n",
       "25713           0  0.86  0.27        2.0       1        1       0         1   \n",
       "25714           0  0.87  0.27        2.0       1        1       0         1   \n",
       "25914           0  0.86  0.28        2.0       1        1       0         1   \n",
       "25915           0  0.87  0.28        2.0       1        1       0         1   \n",
       "\n",
       "       p_down  \n",
       "17225       4  \n",
       "17426       4  \n",
       "17427       4  \n",
       "17627       4  \n",
       "17628       4  \n",
       "...       ...  \n",
       "25712       4  \n",
       "25713       4  \n",
       "25714       4  \n",
       "25914       4  \n",
       "25915       4  \n",
       "\n",
       "[573 rows x 9 columns]"
      ]
     },
     "execution_count": 15,
     "metadata": {},
     "output_type": "execute_result"
    }
   ],
   "source": [
    "temp3 = temp2[temp2['stability']==2]\n",
    "#temp3 = temp3[temp3['static']==1]\n",
    "temp3[temp2['dynamic']==1]"
   ]
  },
  {
   "cell_type": "code",
   "execution_count": 19,
   "id": "4705aeaf",
   "metadata": {},
   "outputs": [
    {
     "name": "stderr",
     "output_type": "stream",
     "text": [
      "/var/folders/8l/w8cdnkkj38bg2pscx__1vxth0000gn/T/ipykernel_4151/2280361937.py:3: UserWarning: Boolean Series key will be reindexed to match DataFrame index.\n",
      "  temp4[temp2['dynamic']==1]\n"
     ]
    },
    {
     "data": {
      "text/html": [
       "<div>\n",
       "<style scoped>\n",
       "    .dataframe tbody tr th:only-of-type {\n",
       "        vertical-align: middle;\n",
       "    }\n",
       "\n",
       "    .dataframe tbody tr th {\n",
       "        vertical-align: top;\n",
       "    }\n",
       "\n",
       "    .dataframe thead th {\n",
       "        text-align: right;\n",
       "    }\n",
       "</style>\n",
       "<table border=\"1\" class=\"dataframe\">\n",
       "  <thead>\n",
       "    <tr style=\"text-align: right;\">\n",
       "      <th></th>\n",
       "      <th>Unnamed: 0</th>\n",
       "      <th>I_e</th>\n",
       "      <th>I_i</th>\n",
       "      <th>stability</th>\n",
       "      <th>static</th>\n",
       "      <th>dynamic</th>\n",
       "      <th>double</th>\n",
       "      <th>p_random</th>\n",
       "      <th>p_down</th>\n",
       "    </tr>\n",
       "  </thead>\n",
       "  <tbody>\n",
       "    <tr>\n",
       "      <th>13783</th>\n",
       "      <td>0</td>\n",
       "      <td>0.15</td>\n",
       "      <td>-0.32</td>\n",
       "      <td>1.0</td>\n",
       "      <td>1</td>\n",
       "      <td>1</td>\n",
       "      <td>0</td>\n",
       "      <td>4</td>\n",
       "      <td>4</td>\n",
       "    </tr>\n",
       "    <tr>\n",
       "      <th>13784</th>\n",
       "      <td>0</td>\n",
       "      <td>0.16</td>\n",
       "      <td>-0.32</td>\n",
       "      <td>1.0</td>\n",
       "      <td>1</td>\n",
       "      <td>1</td>\n",
       "      <td>0</td>\n",
       "      <td>4</td>\n",
       "      <td>4</td>\n",
       "    </tr>\n",
       "    <tr>\n",
       "      <th>13984</th>\n",
       "      <td>0</td>\n",
       "      <td>0.15</td>\n",
       "      <td>-0.31</td>\n",
       "      <td>1.0</td>\n",
       "      <td>1</td>\n",
       "      <td>1</td>\n",
       "      <td>0</td>\n",
       "      <td>4</td>\n",
       "      <td>4</td>\n",
       "    </tr>\n",
       "    <tr>\n",
       "      <th>13985</th>\n",
       "      <td>0</td>\n",
       "      <td>0.16</td>\n",
       "      <td>-0.31</td>\n",
       "      <td>1.0</td>\n",
       "      <td>1</td>\n",
       "      <td>1</td>\n",
       "      <td>0</td>\n",
       "      <td>4</td>\n",
       "      <td>4</td>\n",
       "    </tr>\n",
       "    <tr>\n",
       "      <th>13986</th>\n",
       "      <td>0</td>\n",
       "      <td>0.17</td>\n",
       "      <td>-0.31</td>\n",
       "      <td>1.0</td>\n",
       "      <td>1</td>\n",
       "      <td>1</td>\n",
       "      <td>0</td>\n",
       "      <td>4</td>\n",
       "      <td>4</td>\n",
       "    </tr>\n",
       "    <tr>\n",
       "      <th>...</th>\n",
       "      <td>...</td>\n",
       "      <td>...</td>\n",
       "      <td>...</td>\n",
       "      <td>...</td>\n",
       "      <td>...</td>\n",
       "      <td>...</td>\n",
       "      <td>...</td>\n",
       "      <td>...</td>\n",
       "      <td>...</td>\n",
       "    </tr>\n",
       "    <tr>\n",
       "      <th>19232</th>\n",
       "      <td>0</td>\n",
       "      <td>0.37</td>\n",
       "      <td>-0.05</td>\n",
       "      <td>1.0</td>\n",
       "      <td>1</td>\n",
       "      <td>1</td>\n",
       "      <td>0</td>\n",
       "      <td>4</td>\n",
       "      <td>4</td>\n",
       "    </tr>\n",
       "    <tr>\n",
       "      <th>19233</th>\n",
       "      <td>0</td>\n",
       "      <td>0.38</td>\n",
       "      <td>-0.05</td>\n",
       "      <td>1.0</td>\n",
       "      <td>1</td>\n",
       "      <td>1</td>\n",
       "      <td>0</td>\n",
       "      <td>4</td>\n",
       "      <td>4</td>\n",
       "    </tr>\n",
       "    <tr>\n",
       "      <th>19234</th>\n",
       "      <td>0</td>\n",
       "      <td>0.39</td>\n",
       "      <td>-0.05</td>\n",
       "      <td>1.0</td>\n",
       "      <td>1</td>\n",
       "      <td>1</td>\n",
       "      <td>0</td>\n",
       "      <td>1</td>\n",
       "      <td>4</td>\n",
       "    </tr>\n",
       "    <tr>\n",
       "      <th>19435</th>\n",
       "      <td>0</td>\n",
       "      <td>0.39</td>\n",
       "      <td>-0.04</td>\n",
       "      <td>1.0</td>\n",
       "      <td>1</td>\n",
       "      <td>1</td>\n",
       "      <td>0</td>\n",
       "      <td>1</td>\n",
       "      <td>4</td>\n",
       "    </tr>\n",
       "    <tr>\n",
       "      <th>19636</th>\n",
       "      <td>0</td>\n",
       "      <td>0.39</td>\n",
       "      <td>-0.03</td>\n",
       "      <td>1.0</td>\n",
       "      <td>1</td>\n",
       "      <td>1</td>\n",
       "      <td>0</td>\n",
       "      <td>1</td>\n",
       "      <td>4</td>\n",
       "    </tr>\n",
       "  </tbody>\n",
       "</table>\n",
       "<p>346 rows × 9 columns</p>\n",
       "</div>"
      ],
      "text/plain": [
       "       Unnamed: 0   I_e   I_i  stability  static  dynamic  double  p_random  \\\n",
       "13783           0  0.15 -0.32        1.0       1        1       0         4   \n",
       "13784           0  0.16 -0.32        1.0       1        1       0         4   \n",
       "13984           0  0.15 -0.31        1.0       1        1       0         4   \n",
       "13985           0  0.16 -0.31        1.0       1        1       0         4   \n",
       "13986           0  0.17 -0.31        1.0       1        1       0         4   \n",
       "...           ...   ...   ...        ...     ...      ...     ...       ...   \n",
       "19232           0  0.37 -0.05        1.0       1        1       0         4   \n",
       "19233           0  0.38 -0.05        1.0       1        1       0         4   \n",
       "19234           0  0.39 -0.05        1.0       1        1       0         1   \n",
       "19435           0  0.39 -0.04        1.0       1        1       0         1   \n",
       "19636           0  0.39 -0.03        1.0       1        1       0         1   \n",
       "\n",
       "       p_down  \n",
       "13783       4  \n",
       "13784       4  \n",
       "13984       4  \n",
       "13985       4  \n",
       "13986       4  \n",
       "...       ...  \n",
       "19232       4  \n",
       "19233       4  \n",
       "19234       4  \n",
       "19435       4  \n",
       "19636       4  \n",
       "\n",
       "[346 rows x 9 columns]"
      ]
     },
     "execution_count": 19,
     "metadata": {},
     "output_type": "execute_result"
    }
   ],
   "source": [
    "temp4 = temp2[temp2['stability']==1]\n",
    "temp4 = temp4[temp4['static']==1]\n",
    "temp4[temp2['dynamic']==1]"
   ]
  },
  {
   "cell_type": "code",
   "execution_count": 8,
   "id": "b5359b3f",
   "metadata": {},
   "outputs": [
    {
     "data": {
      "text/html": [
       "<div>\n",
       "<style scoped>\n",
       "    .dataframe tbody tr th:only-of-type {\n",
       "        vertical-align: middle;\n",
       "    }\n",
       "\n",
       "    .dataframe tbody tr th {\n",
       "        vertical-align: top;\n",
       "    }\n",
       "\n",
       "    .dataframe thead th {\n",
       "        text-align: right;\n",
       "    }\n",
       "</style>\n",
       "<table border=\"1\" class=\"dataframe\">\n",
       "  <thead>\n",
       "    <tr style=\"text-align: right;\">\n",
       "      <th></th>\n",
       "      <th>Unnamed: 0</th>\n",
       "      <th>I_e</th>\n",
       "      <th>I_i</th>\n",
       "      <th>stability</th>\n",
       "      <th>static</th>\n",
       "      <th>dynamic</th>\n",
       "      <th>double</th>\n",
       "      <th>p_random</th>\n",
       "      <th>p_down</th>\n",
       "    </tr>\n",
       "  </thead>\n",
       "  <tbody>\n",
       "    <tr>\n",
       "      <th>13783</th>\n",
       "      <td>0</td>\n",
       "      <td>0.15</td>\n",
       "      <td>-0.32</td>\n",
       "      <td>1.0</td>\n",
       "      <td>1</td>\n",
       "      <td>1</td>\n",
       "      <td>0</td>\n",
       "      <td>4</td>\n",
       "      <td>4</td>\n",
       "    </tr>\n",
       "    <tr>\n",
       "      <th>13784</th>\n",
       "      <td>0</td>\n",
       "      <td>0.16</td>\n",
       "      <td>-0.32</td>\n",
       "      <td>1.0</td>\n",
       "      <td>1</td>\n",
       "      <td>1</td>\n",
       "      <td>0</td>\n",
       "      <td>4</td>\n",
       "      <td>4</td>\n",
       "    </tr>\n",
       "    <tr>\n",
       "      <th>13984</th>\n",
       "      <td>0</td>\n",
       "      <td>0.15</td>\n",
       "      <td>-0.31</td>\n",
       "      <td>1.0</td>\n",
       "      <td>1</td>\n",
       "      <td>1</td>\n",
       "      <td>0</td>\n",
       "      <td>4</td>\n",
       "      <td>4</td>\n",
       "    </tr>\n",
       "    <tr>\n",
       "      <th>13985</th>\n",
       "      <td>0</td>\n",
       "      <td>0.16</td>\n",
       "      <td>-0.31</td>\n",
       "      <td>1.0</td>\n",
       "      <td>1</td>\n",
       "      <td>1</td>\n",
       "      <td>0</td>\n",
       "      <td>4</td>\n",
       "      <td>4</td>\n",
       "    </tr>\n",
       "    <tr>\n",
       "      <th>13986</th>\n",
       "      <td>0</td>\n",
       "      <td>0.17</td>\n",
       "      <td>-0.31</td>\n",
       "      <td>1.0</td>\n",
       "      <td>1</td>\n",
       "      <td>1</td>\n",
       "      <td>0</td>\n",
       "      <td>4</td>\n",
       "      <td>4</td>\n",
       "    </tr>\n",
       "    <tr>\n",
       "      <th>...</th>\n",
       "      <td>...</td>\n",
       "      <td>...</td>\n",
       "      <td>...</td>\n",
       "      <td>...</td>\n",
       "      <td>...</td>\n",
       "      <td>...</td>\n",
       "      <td>...</td>\n",
       "      <td>...</td>\n",
       "      <td>...</td>\n",
       "    </tr>\n",
       "    <tr>\n",
       "      <th>25712</th>\n",
       "      <td>0</td>\n",
       "      <td>0.85</td>\n",
       "      <td>0.27</td>\n",
       "      <td>2.0</td>\n",
       "      <td>1</td>\n",
       "      <td>1</td>\n",
       "      <td>0</td>\n",
       "      <td>1</td>\n",
       "      <td>4</td>\n",
       "    </tr>\n",
       "    <tr>\n",
       "      <th>25713</th>\n",
       "      <td>0</td>\n",
       "      <td>0.86</td>\n",
       "      <td>0.27</td>\n",
       "      <td>2.0</td>\n",
       "      <td>1</td>\n",
       "      <td>1</td>\n",
       "      <td>0</td>\n",
       "      <td>1</td>\n",
       "      <td>4</td>\n",
       "    </tr>\n",
       "    <tr>\n",
       "      <th>25714</th>\n",
       "      <td>0</td>\n",
       "      <td>0.87</td>\n",
       "      <td>0.27</td>\n",
       "      <td>2.0</td>\n",
       "      <td>1</td>\n",
       "      <td>1</td>\n",
       "      <td>0</td>\n",
       "      <td>1</td>\n",
       "      <td>4</td>\n",
       "    </tr>\n",
       "    <tr>\n",
       "      <th>25914</th>\n",
       "      <td>0</td>\n",
       "      <td>0.86</td>\n",
       "      <td>0.28</td>\n",
       "      <td>2.0</td>\n",
       "      <td>1</td>\n",
       "      <td>1</td>\n",
       "      <td>0</td>\n",
       "      <td>1</td>\n",
       "      <td>4</td>\n",
       "    </tr>\n",
       "    <tr>\n",
       "      <th>25915</th>\n",
       "      <td>0</td>\n",
       "      <td>0.87</td>\n",
       "      <td>0.28</td>\n",
       "      <td>2.0</td>\n",
       "      <td>1</td>\n",
       "      <td>1</td>\n",
       "      <td>0</td>\n",
       "      <td>1</td>\n",
       "      <td>4</td>\n",
       "    </tr>\n",
       "  </tbody>\n",
       "</table>\n",
       "<p>919 rows × 9 columns</p>\n",
       "</div>"
      ],
      "text/plain": [
       "       Unnamed: 0   I_e   I_i  stability  static  dynamic  double  p_random  \\\n",
       "13783           0  0.15 -0.32        1.0       1        1       0         4   \n",
       "13784           0  0.16 -0.32        1.0       1        1       0         4   \n",
       "13984           0  0.15 -0.31        1.0       1        1       0         4   \n",
       "13985           0  0.16 -0.31        1.0       1        1       0         4   \n",
       "13986           0  0.17 -0.31        1.0       1        1       0         4   \n",
       "...           ...   ...   ...        ...     ...      ...     ...       ...   \n",
       "25712           0  0.85  0.27        2.0       1        1       0         1   \n",
       "25713           0  0.86  0.27        2.0       1        1       0         1   \n",
       "25714           0  0.87  0.27        2.0       1        1       0         1   \n",
       "25914           0  0.86  0.28        2.0       1        1       0         1   \n",
       "25915           0  0.87  0.28        2.0       1        1       0         1   \n",
       "\n",
       "       p_down  \n",
       "13783       4  \n",
       "13784       4  \n",
       "13984       4  \n",
       "13985       4  \n",
       "13986       4  \n",
       "...       ...  \n",
       "25712       4  \n",
       "25713       4  \n",
       "25714       4  \n",
       "25914       4  \n",
       "25915       4  \n",
       "\n",
       "[919 rows x 9 columns]"
      ]
     },
     "execution_count": 8,
     "metadata": {},
     "output_type": "execute_result"
    }
   ],
   "source": [
    "temp2[temp2['dynamic']==1]"
   ]
  },
  {
   "cell_type": "code",
   "execution_count": null,
   "id": "38e6c029",
   "metadata": {},
   "outputs": [],
   "source": []
  },
  {
   "cell_type": "code",
   "execution_count": null,
   "id": "38aaf706",
   "metadata": {},
   "outputs": [],
   "source": []
  },
  {
   "cell_type": "code",
   "execution_count": null,
   "id": "686baa04",
   "metadata": {},
   "outputs": [],
   "source": []
  },
  {
   "cell_type": "code",
   "execution_count": 2,
   "id": "7dd9a7ad",
   "metadata": {},
   "outputs": [
    {
     "data": {
      "text/plain": [
       "(array([0, 0, 0, 0, 1, 1, 1, 0, 0, 1, 0, 0, 0, 1, 1, 0]),\n",
       " array([ 4,  5,  6,  9, 13, 14]))"
      ]
     },
     "execution_count": 2,
     "metadata": {},
     "output_type": "execute_result"
    }
   ],
   "source": [
    "from py.funcs import getSwitchIndex, getSwitchArray\n",
    "\n",
    "array = np.array([5,6,1,8,0,-1,3,2,1,-8,-7,-6,-5,0,4,3])\n",
    "\n",
    "a = getSwitchArray(array)\n",
    "b = getSwitchIndex(array)\n",
    "a,b"
   ]
  },
  {
   "cell_type": "code",
   "execution_count": 3,
   "id": "36e3355b",
   "metadata": {},
   "outputs": [
    {
     "data": {
      "text/plain": [
       "True"
      ]
     },
     "execution_count": 3,
     "metadata": {},
     "output_type": "execute_result"
    }
   ],
   "source": [
    "a = np.array([0,1,2,3])\n",
    "b = np.array([4,1,5,1,4])\n",
    "def common_member(a, b):\n",
    "    a_set = set(a)\n",
    "    b_set = set(b)\n",
    "    if (a_set & b_set):\n",
    "        return True\n",
    "    else:\n",
    "        return False\n",
    "common_member(a,b)  "
   ]
  },
  {
   "cell_type": "code",
   "execution_count": null,
   "id": "3c5edbfe",
   "metadata": {},
   "outputs": [],
   "source": []
  },
  {
   "cell_type": "code",
   "execution_count": null,
   "id": "60a14e9f",
   "metadata": {},
   "outputs": [],
   "source": []
  },
  {
   "cell_type": "code",
   "execution_count": null,
   "id": "d0766179",
   "metadata": {},
   "outputs": [],
   "source": []
  },
  {
   "cell_type": "code",
   "execution_count": null,
   "id": "6cf34498",
   "metadata": {},
   "outputs": [],
   "source": []
  },
  {
   "cell_type": "code",
   "execution_count": 23,
   "id": "472a888f",
   "metadata": {},
   "outputs": [],
   "source": [
    "from scipy.optimize import root\n",
    "\n",
    "x = np.linspace(-2,2,801)\n",
    "zero_line = np.linspace(0,0,len(x))\n",
    "\n",
    "def p(x, c2, c1, c0):\n",
    "    return x**3 + c2*x**2 + c1*x + c0\n",
    "\n",
    "\n",
    "def deriv_p(x, c2, c1, c0):\n",
    "    return 3*x**2 + 2*c2*x + c1"
   ]
  },
  {
   "cell_type": "code",
   "execution_count": 32,
   "id": "206e581f",
   "metadata": {},
   "outputs": [
    {
     "name": "stdout",
     "output_type": "stream",
     "text": [
      "root is 0.00000\n"
     ]
    },
    {
     "data": {
      "text/plain": [
       "(array([-4., -2.,  0.,  2.,  4.,  6.,  8., 10.]),\n",
       " [Text(0, 0, ''),\n",
       "  Text(0, 0, ''),\n",
       "  Text(0, 0, ''),\n",
       "  Text(0, 0, ''),\n",
       "  Text(0, 0, ''),\n",
       "  Text(0, 0, ''),\n",
       "  Text(0, 0, ''),\n",
       "  Text(0, 0, '')])"
      ]
     },
     "execution_count": 32,
     "metadata": {},
     "output_type": "execute_result"
    },
    {
     "data": {
      "image/png": "[encoded data removed]",
      "text/plain": [
       "<Figure size 432x432 with 1 Axes>"
      ]
     },
     "metadata": {
      "needs_background": "light"
     },
     "output_type": "display_data"
    }
   ],
   "source": [
    "#use property c0=0 ('has zero-eigenvalue' - Curtu & Ermentrout 2004)\n",
    "c2 = 3/4\n",
    "c1 = -6/4\n",
    "c0 = 0\n",
    "\n",
    "zero_sol = root(p, 0, args=(c2, c1, c0), jac=deriv_p, method='hybr')\n",
    "\n",
    "print('root is %.5f' %zero_sol.x)\n",
    "\n",
    "zero_poly = p(x, c2, c1, c0)\n",
    "plt.figure(figsize=(6,6))\n",
    "plt.plot(x, zero_poly)\n",
    "plt.plot(x, zero_line, c='black', lw=1, ls = 'dashed')\n",
    "plt.plot(zero_line, np.linspace(min(zero_poly), max(zero_poly), len(x)), c='black', lw=1, ls='dashed')\n",
    "plt.xlabel(r'$\\lambda$', fontsize=14)\n",
    "plt.ylabel(r'$P(\\lambda)$', fontsize=14)\n",
    "plt.xticks(fontsize=12)\n",
    "plt.yticks(fontsize=12)"
   ]
  },
  {
   "cell_type": "code",
   "execution_count": 41,
   "id": "20a08573",
   "metadata": {},
   "outputs": [
    {
     "name": "stdout",
     "output_type": "stream",
     "text": [
      "root is  [0.]\n"
     ]
    },
    {
     "data": {
      "text/plain": [
       "0.0"
      ]
     },
     "execution_count": 41,
     "metadata": {},
     "output_type": "execute_result"
    },
    {
     "data": {
      "image/png": "[encoded data removed]",
      "text/plain": [
       "<Figure size 432x432 with 1 Axes>"
      ]
     },
     "metadata": {
      "needs_background": "light"
     },
     "output_type": "display_data"
    }
   ],
   "source": [
    "#use property c1c2-c0=0 ('has imaginary-eigenvalue' - Curtu & Ermentrout 2004)\n",
    "c2 = 3/4\n",
    "c1 = 3/4\n",
    "c0 = 0\n",
    "\n",
    "imag_sol = root(p, 0, args=(c2, c1, c0), jac=deriv_p, method='hybr')\n",
    "\n",
    "print('root is ', imag_sol.x)\n",
    "\n",
    "imag_poly = p(x, c2, c1, c0)\n",
    "plt.figure(figsize=(6,6))\n",
    "plt.plot(x, imag_poly)\n",
    "plt.plot(x, zero_line, c='black', lw=1, ls='dashed')\n",
    "\n",
    "plt.plot(zero_line, np.linspace(min(imag_poly), max(imag_poly), len(x)), c='black', lw=1, ls='dashed')\n",
    "plt.xlabel(r'$\\lambda$', fontsize=14)\n",
    "plt.ylabel(r'$P(\\lambda)$', fontsize=14)\n",
    "plt.xticks(fontsize=12)\n",
    "plt.yticks(fontsize=12)\n",
    "\n",
    "p(imag_sol.x[0], c2, c1, c0)"
   ]
  },
  {
   "cell_type": "code",
   "execution_count": 42,
   "id": "e57d0a0e",
   "metadata": {},
   "outputs": [
    {
     "name": "stdout",
     "output_type": "stream",
     "text": [
      "root is  [0.]\n"
     ]
    },
    {
     "data": {
      "text/plain": [
       "0.0"
      ]
     },
     "execution_count": 42,
     "metadata": {},
     "output_type": "execute_result"
    },
    {
     "data": {
      "image/png": "[encoded data removed]",
      "text/plain": [
       "<Figure size 432x432 with 1 Axes>"
      ]
     },
     "metadata": {
      "needs_background": "light"
     },
     "output_type": "display_data"
    }
   ],
   "source": [
    "#use property c1=0 and c0=0 ('has double-zero-eigenvalue' - Curtu & Ermentrout 2004)\n",
    "c2 = 1/2\n",
    "c1 = 0\n",
    "c0 = 0\n",
    "\n",
    "imag_sol = root(p, 0, args=(c2, c1, c0), jac=deriv_p, method='hybr')\n",
    "\n",
    "print('root is ', imag_sol.x)\n",
    "\n",
    "imag_poly = p(x, c2, c1, c0)\n",
    "plt.figure(figsize=(6,6))\n",
    "plt.plot(x, imag_poly)\n",
    "plt.plot(x, zero_line, c='black', lw=1, ls='dashed')\n",
    "\n",
    "plt.plot(zero_line, np.linspace(min(imag_poly), max(imag_poly), len(x)), c='black', lw=1, ls='dashed')\n",
    "plt.xlabel(r'$\\lambda$', fontsize=14)\n",
    "plt.ylabel(r'$P(\\lambda)$', fontsize=14)\n",
    "plt.xticks(fontsize=12)\n",
    "plt.yticks(fontsize=12)\n",
    "\n",
    "p(imag_sol.x[0], c2, c1, c0)"
   ]
  },
  {
   "cell_type": "code",
   "execution_count": 44,
   "id": "fafb0471",
   "metadata": {},
   "outputs": [
    {
     "ename": "NameError",
     "evalue": "name 'fp' is not defined",
     "output_type": "error",
     "traceback": [
      "\u001b[0;31m---------------------------------------------------------------------------\u001b[0m",
      "\u001b[0;31mNameError\u001b[0m                                 Traceback (most recent call last)",
      "Input \u001b[0;32mIn [44]\u001b[0m, in \u001b[0;36m<cell line: 2>\u001b[0;34m()\u001b[0m\n\u001b[1;32m      1\u001b[0m \u001b[38;5;28;01mfrom\u001b[39;00m \u001b[38;5;21;01mpy\u001b[39;00m\u001b[38;5;21;01m.\u001b[39;00m\u001b[38;5;21;01mturings\u001b[39;00m \u001b[38;5;28;01mimport\u001b[39;00m c0, c1, c2\n\u001b[0;32m----> 2\u001b[0m c1(np\u001b[38;5;241m.\u001b[39marray([\u001b[38;5;28mint\u001b[39m(\u001b[38;5;241m10\u001b[39m\u001b[38;5;241m-\u001b[39m\u001b[38;5;241m1\u001b[39m),\u001b[38;5;241m10\u001b[39m]), \u001b[43mfp\u001b[49m, params)\n",
      "\u001b[0;31mNameError\u001b[0m: name 'fp' is not defined"
     ]
    }
   ],
   "source": [
    "from py.turings import c0, c1, c2\n",
    "c1(np.array([int(10-1),10]), fp, params)"
   ]
  },
  {
   "cell_type": "code",
   "execution_count": null,
   "id": "be26de4a",
   "metadata": {},
   "outputs": [],
   "source": []
  },
  {
   "cell_type": "code",
   "execution_count": null,
   "id": "e4c0191c",
   "metadata": {},
   "outputs": [],
   "source": []
  },
  {
   "cell_type": "code",
   "execution_count": null,
   "id": "75fa7e5b",
   "metadata": {},
   "outputs": [],
   "source": []
  },
  {
   "cell_type": "code",
   "execution_count": 8,
   "id": "72562ca2",
   "metadata": {},
   "outputs": [
    {
     "data": {
      "text/plain": [
       "(array([-1.        , -0.33333333,  0.33333333,  1.        , -1.        ,\n",
       "        -0.33333333,  0.33333333,  1.        , -1.        , -0.33333333,\n",
       "         0.33333333,  1.        , -1.        , -0.33333333,  0.33333333,\n",
       "         1.        ]),\n",
       " array([-1.        , -1.        , -1.        , -1.        , -0.33333333,\n",
       "        -0.33333333, -0.33333333, -0.33333333,  0.33333333,  0.33333333,\n",
       "         0.33333333,  0.33333333,  1.        ,  1.        ,  1.        ,\n",
       "         1.        ]))"
      ]
     },
     "execution_count": 8,
     "metadata": {},
     "output_type": "execute_result"
    }
   ],
   "source": [
    "x = np.linspace(-1,1,4)\n",
    "y = np.linspace(-1,1,4)\n",
    "\n",
    "xx, yy = np.meshgrid(x, y)\n",
    "a = zip(x, y)\n",
    "xx.flatten(), yy.flatten()"
   ]
  },
  {
   "cell_type": "code",
   "execution_count": 9,
   "id": "3ea09004-daa0-4bb1-a057-e4c618287356",
   "metadata": {},
   "outputs": [],
   "source": [
    "from py.kernels import gaussian"
   ]
  },
  {
   "cell_type": "code",
   "execution_count": null,
   "id": "dd92ca9d-af1f-4d76-b649-2861a2d522a1",
   "metadata": {},
   "outputs": [],
   "source": []
  },
  {
   "cell_type": "code",
   "execution_count": null,
   "id": "41e2b3df-2019-4114-891c-b95f4032bf8b",
   "metadata": {},
   "outputs": [],
   "source": []
  },
  {
   "cell_type": "code",
   "execution_count": 12,
   "id": "0fb84460-d9cf-41be-984b-fed5093cf1cb",
   "metadata": {},
   "outputs": [
    {
     "name": "stdout",
     "output_type": "stream",
     "text": [
      "for -0.5 the integral approxi (sum*dx) is 0.143288\n",
      "for -1.0 the integral approxi (sum*dx) is 0.282018\n",
      "for -500.0 the integral approxi (sum*dx) is 1.000000\n",
      "for 0.0 the integral approxi (sum*dx) is 0.130711\n"
     ]
    },
    {
     "data": {
      "image/png": "[encoded data removed]",
      "text/plain": [
       "<Figure size 432x288 with 1 Axes>"
      ]
     },
     "metadata": {
      "needs_background": "light"
     },
     "output_type": "display_data"
    }
   ],
   "source": [
    "x1, dx1 = np.linspace(-0.5,0.5,13, retstep=True)\n",
    "x2, dx2 =np.linspace(-1,1,13, retstep=True)\n",
    "x3, dx3 =np.linspace(-500,500,2051, retstep=True)\n",
    "\n",
    "x4, dx4 =np.linspace(0,1,851, retstep=True)\n",
    "\n",
    "x=[x1,x2,x3, x4]\n",
    "dx=[dx1,dx2,dx3, dx4]\n",
    "\n",
    "for i in range(4):\n",
    "    print('for %s the integral approxi (sum*dx) is %f' %(str(x[i][0]), np.sum(gaussian(3, x[i])*dx[i])))\n",
    "    plt.plot(x[i], gaussian(3, x[i]))"
   ]
  },
  {
   "cell_type": "code",
   "execution_count": 2,
   "id": "b719f5fe-69ad-48e2-ad64-d07b4d3338ea",
   "metadata": {},
   "outputs": [
    {
     "data": {
      "text/plain": [
       "array([2. , 0.5, 0. , 0.4])"
      ]
     },
     "execution_count": 2,
     "metadata": {},
     "output_type": "execute_result"
    }
   ],
   "source": [
    "ke = np.array([2,1,0,1])\n",
    "ue = np.array([1,0.5,0.6,0.4])\n",
    "\n",
    "ke*ue\n"
   ]
  },
  {
   "cell_type": "code",
   "execution_count": 3,
   "id": "c7056c94-f182-4900-988f-ade1b7eefeca",
   "metadata": {},
   "outputs": [],
   "source": [
    "def integral_approxi(ke, ue):\n",
    "    n=len(ue)\n",
    "    ke_mtx = np.zeros((n,n))\n",
    "    \n",
    "    for j in range(n):\n",
    "        ke_mtx[j] = np.roll(ke, j)\n",
    "    \n",
    "    le = np.zeros(n)\n",
    "    \n",
    "    for j in range(n):\n",
    "        le[j] = ke_mtx[j]@ue\n",
    "    \n",
    "    return le"
   ]
  },
  {
   "cell_type": "code",
   "execution_count": 4,
   "id": "1fb8bea5-c78a-4cf0-b16e-d932f518b698",
   "metadata": {},
   "outputs": [],
   "source": [
    "def integral_fft(ke, ue):\n",
    "    ke_fft = np.fft.fft(ke)\n",
    "    ue_fft = np.fft.fft(ue)\n",
    "    \n",
    "    mix = ke_fft*ue_fft\n",
    "    \n",
    "    mix_real = np.fft.ifft(mix).real\n",
    "    \n",
    "    return mix_real\n"
   ]
  },
  {
   "cell_type": "code",
   "execution_count": 43,
   "id": "88901d8e-1038-40a4-b43c-a4ea9f503801",
   "metadata": {},
   "outputs": [],
   "source": [
    "params={'n': 8, 'length': 5}"
   ]
  },
  {
   "cell_type": "code",
   "execution_count": 44,
   "id": "e3bce79e-1fbc-45b6-93c8-5fd10c9216e0",
   "metadata": {},
   "outputs": [
    {
     "name": "stdout",
     "output_type": "stream",
     "text": [
      "sigma_i=3.00 was initialised too large 3.00>=2.50==length/2 -> reset to sigma_i/(length/2)=1.20.\n"
     ]
    }
   ],
   "source": [
    "from py.params import setParams\n",
    "\n",
    "ps = setParams(params)\n",
    "u = np.random.uniform(0.1, 0.2, ps.n)"
   ]
  },
  {
   "cell_type": "code",
   "execution_count": 45,
   "id": "442a7daa-5a9e-45da-bec0-d2f1ec4793be",
   "metadata": {
    "tags": []
   },
   "outputs": [
    {
     "data": {
      "text/plain": [
       "[<matplotlib.lines.Line2D at 0x7ff14a321ca0>]"
      ]
     },
     "execution_count": 45,
     "metadata": {},
     "output_type": "execute_result"
    },
    {
     "data": {
      "image/png": "[encoded data removed]",
      "text/plain": [
       "<Figure size 432x288 with 1 Axes>"
      ]
     },
     "metadata": {
      "needs_background": "light"
     },
     "output_type": "display_data"
    }
   ],
   "source": [
    "plt.plot(ps.ke)"
   ]
  },
  {
   "cell_type": "code",
   "execution_count": 50,
   "id": "0cef04a9-3582-493b-892e-68c4435a96eb",
   "metadata": {
    "tags": []
   },
   "outputs": [
    {
     "ename": "AttributeError",
     "evalue": "module 'matplotlib.pyplot' has no attribute 'subfigure'",
     "output_type": "error",
     "traceback": [
      "\u001b[0;31m---------------------------------------------------------------------------\u001b[0m",
      "\u001b[0;31mAttributeError\u001b[0m                            Traceback (most recent call last)",
      "Input \u001b[0;32mIn [50]\u001b[0m, in \u001b[0;36m<cell line: 1>\u001b[0;34m()\u001b[0m\n\u001b[0;32m----> 1\u001b[0m fig, (ax1, ax2) \u001b[38;5;241m=\u001b[39m \u001b[43mplt\u001b[49m\u001b[38;5;241;43m.\u001b[39;49m\u001b[43msubfigure\u001b[49m((\u001b[38;5;241m1\u001b[39m,\u001b[38;5;241m2\u001b[39m), figsize\u001b[38;5;241m=\u001b[39m(\u001b[38;5;241m10\u001b[39m,\u001b[38;5;241m6\u001b[39m))\n\u001b[1;32m      2\u001b[0m ax1\u001b[38;5;241m.\u001b[39mplot(ps\u001b[38;5;241m.\u001b[39mke_fft)\n\u001b[1;32m      3\u001b[0m own \u001b[38;5;241m=\u001b[39m np\u001b[38;5;241m.\u001b[39mfft\u001b[38;5;241m.\u001b[39mfft(ps\u001b[38;5;241m.\u001b[39mke)\n",
      "\u001b[0;31mAttributeError\u001b[0m: module 'matplotlib.pyplot' has no attribute 'subfigure'"
     ]
    }
   ],
   "source": [
    "fig, (ax1, ax2) = plt.subfigure((1,2), figsize=(10,6))\n",
    "ax1.plot(ps.ke_fft)\n",
    "own = np.fft.fft(ps.ke)\n",
    "ax2.plot(own)"
   ]
  },
  {
   "cell_type": "code",
   "execution_count": 31,
   "id": "f0de145b-eb6b-4726-9700-69e78ed8834f",
   "metadata": {},
   "outputs": [
    {
     "data": {
      "image/png": "[encoded data removed]",
      "text/plain": [
       "<Figure size 432x288 with 1 Axes>"
      ]
     },
     "metadata": {
      "needs_background": "light"
     },
     "output_type": "display_data"
    }
   ],
   "source": [
    "ax = plt.plot(u)\n",
    "#ax.set_ylim(bottom=0, top=1)#"
   ]
  },
  {
   "cell_type": "code",
   "execution_count": 54,
   "id": "0c2bf8ee-dad1-496d-a012-2dd21e8613f7",
   "metadata": {},
   "outputs": [
    {
     "name": "stdout",
     "output_type": "stream",
     "text": [
      "YES, THEY ARE THE SAME!!!!\n"
     ]
    }
   ],
   "source": [
    "uf = np.fft.fft(u)\n",
    "given_fft = ps.ke_fft*uf\n",
    "given_fft = np.fft.ifft(given_fft).real\n",
    "own_fft = integral_fft(ps.ke, u)\n",
    "approxi = integral_approxi(ps.ke, u)\n",
    "\n",
    "if all(given_fft==own_fft):\n",
    "    print('YES, THEY ARE THE SAME!!!!')"
   ]
  },
  {
   "cell_type": "code",
   "execution_count": 55,
   "id": "04c77c1e-cdae-4367-8de0-742997336470",
   "metadata": {},
   "outputs": [
    {
     "data": {
      "text/plain": [
       "[<matplotlib.lines.Line2D at 0x7ff1698770a0>]"
      ]
     },
     "execution_count": 55,
     "metadata": {},
     "output_type": "execute_result"
    },
    {
     "data": {
      "image/png": "[encoded data removed]",
      "text/plain": [
       "<Figure size 432x288 with 1 Axes>"
      ]
     },
     "metadata": {
      "needs_background": "light"
     },
     "output_type": "display_data"
    }
   ],
   "source": [
    "plt.plot(given_fft)"
   ]
  },
  {
   "cell_type": "code",
   "execution_count": 56,
   "id": "422d1aba-dcb3-449e-ba5c-99744a76a77f",
   "metadata": {},
   "outputs": [
    {
     "data": {
      "text/plain": [
       "[<matplotlib.lines.Line2D at 0x7ff1589c3850>]"
      ]
     },
     "execution_count": 56,
     "metadata": {},
     "output_type": "execute_result"
    },
    {
     "data": {
      "image/png": "[encoded data removed]",
      "text/plain": [
       "<Figure size 432x288 with 1 Axes>"
      ]
     },
     "metadata": {
      "needs_background": "light"
     },
     "output_type": "display_data"
    }
   ],
   "source": [
    "plt.plot(own_fft)"
   ]
  },
  {
   "cell_type": "code",
   "execution_count": 57,
   "id": "9564a20c-f02b-4822-8ef3-7945dc97cd88",
   "metadata": {},
   "outputs": [
    {
     "data": {
      "text/plain": [
       "[<matplotlib.lines.Line2D at 0x7ff169c92550>]"
      ]
     },
     "execution_count": 57,
     "metadata": {},
     "output_type": "execute_result"
    },
    {
     "data": {
      "image/png": "[encoded data removed]",
      "text/plain": [
       "<Figure size 432x288 with 1 Axes>"
      ]
     },
     "metadata": {
      "needs_background": "light"
     },
     "output_type": "display_data"
    }
   ],
   "source": [
    "plt.plot(approxi)"
   ]
  },
  {
   "cell_type": "code",
   "execution_count": 1,
   "id": "10c390c0-a263-4e6a-bbc6-5790e29c3722",
   "metadata": {},
   "outputs": [],
   "source": [
    "def sigmoidal(x, b, mu):\n",
    "    return (1/(1+np.exp(-b*(x-mu))))"
   ]
  },
  {
   "cell_type": "code",
   "execution_count": 5,
   "id": "0fa48f98-061b-4b3a-b5ae-33209dae4f58",
   "metadata": {},
   "outputs": [
    {
     "name": "stderr",
     "output_type": "stream",
     "text": [
      "/var/folders/8l/w8cdnkkj38bg2pscx__1vxth0000gn/T/ipykernel_2441/142489649.py:2: RuntimeWarning: overflow encountered in exp\n",
      "  return (1/(1+np.exp(-b*(x-mu))))\n",
      "/var/folders/8l/w8cdnkkj38bg2pscx__1vxth0000gn/T/ipykernel_2441/142489649.py:2: RuntimeWarning: overflow encountered in exp\n",
      "  return (1/(1+np.exp(-b*(x-mu))))\n"
     ]
    },
    {
     "data": {
      "image/png": "[encoded data removed]",
      "text/plain": [
       "<Figure size 432x288 with 1 Axes>"
      ]
     },
     "metadata": {
      "needs_background": "light"
     },
     "output_type": "display_data"
    }
   ],
   "source": [
    "x=np.linspace(-1,1,101)\n",
    "bs = [1,10,1000]\n",
    "for b in bs:\n",
    "    plt.plot(x,sigmoidal(x,b,0))\n",
    "    plt.plot(sigmoidal(x,b,0),x)"
   ]
  },
  {
   "cell_type": "code",
   "execution_count": 19,
   "id": "646d0897-4290-49eb-bafd-9828f36715cb",
   "metadata": {},
   "outputs": [
    {
     "name": "stdout",
     "output_type": "stream",
     "text": [
      "The autoreload extension is already loaded. To reload it, use:\n",
      "  %reload_ext autoreload\n"
     ]
    }
   ],
   "source": [
    "import numpy as np\n",
    "import matplotlib.pyplot as plt\n",
    "import pandas as pd\n",
    "\n",
    "from py.twoD.kernels2d import gaussian\n",
    "\n",
    "# This will reload all imports as soon as the code changes\n",
    "%load_ext autoreload\n",
    "%autoreload 2\n",
    "\n",
    "import logging\n",
    "logger = logging.getLogger()\n",
    "logger.setLevel(logging.CRITICAL)"
   ]
  },
  {
   "cell_type": "code",
   "execution_count": 20,
   "id": "d2a18bc5-8931-4737-88da-36097cdfd97f",
   "metadata": {},
   "outputs": [],
   "source": [
    "from py.twoD.params2d import setParams"
   ]
  },
  {
   "cell_type": "code",
   "execution_count": 21,
   "id": "925beeba-a978-4d29-9694-f9b2878dcd15",
   "metadata": {},
   "outputs": [],
   "source": [
    "params={'xlength': 1, 'ylength': 1, 'n': 2, 'm': 2}\n",
    "ps = setParams(params)"
   ]
  },
  {
   "cell_type": "code",
   "execution_count": 22,
   "id": "9921ddc8-e1aa-4779-b882-c71f290b97e8",
   "metadata": {},
   "outputs": [
    {
     "data": {
      "text/plain": [
       "array([    0,  2000,  4000,  6000,  8000, 10000, 12000, 14000, 16000,\n",
       "       18000, 20000])"
      ]
     },
     "execution_count": 22,
     "metadata": {},
     "output_type": "execute_result"
    }
   ],
   "source": [
    "ps.time_stamps"
   ]
  },
  {
   "cell_type": "code",
   "execution_count": 23,
   "id": "5c58f203-d3d7-498c-b570-5ea67a0295a6",
   "metadata": {},
   "outputs": [
    {
     "data": {
      "text/plain": [
       "20001"
      ]
     },
     "execution_count": 23,
     "metadata": {},
     "output_type": "execute_result"
    }
   ],
   "source": [
    "len(ps.time)"
   ]
  },
  {
   "cell_type": "code",
   "execution_count": 24,
   "id": "c7cda5e6-4a24-461f-951f-8358fbe59843",
   "metadata": {},
   "outputs": [
    {
     "data": {
      "text/plain": [
       "(array([[-0.5,  0. ],\n",
       "        [-0.5,  0. ]]),\n",
       " array([[-0.5, -0.5],\n",
       "        [ 0. ,  0. ]]))"
      ]
     },
     "execution_count": 24,
     "metadata": {},
     "output_type": "execute_result"
    }
   ],
   "source": [
    "ps.xcoords, ps.ycoords"
   ]
  },
  {
   "cell_type": "code",
   "execution_count": 17,
   "id": "8187593d-bfda-40d1-bfee-f76d22fd060e",
   "metadata": {},
   "outputs": [
    {
     "data": {
      "text/plain": [
       "(array([[0.0309875 , 0.03511344],\n",
       "        [0.03511344, 0.03978874]]),\n",
       " array([[0.00429986, 0.00435999],\n",
       "        [0.00435999, 0.00442097]]))"
      ]
     },
     "execution_count": 17,
     "metadata": {},
     "output_type": "execute_result"
    }
   ],
   "source": [
    "ps.ke, ps.ki"
   ]
  },
  {
   "cell_type": "code",
   "execution_count": 18,
   "id": "1059da16-42d4-4370-bafc-f9fc77773d44",
   "metadata": {},
   "outputs": [
    {
     "data": {
      "text/plain": [
       "(array([[0.14100311+0.j, 0.00880124+0.j],\n",
       "        [0.00880124+0.j, 0.00054936+0.j]]),\n",
       " array([[1.74408119e-02+0.j, 1.21114802e-04+0.j],\n",
       "        [1.21114802e-04+0.j, 8.41061496e-07+0.j]]))"
      ]
     },
     "execution_count": 18,
     "metadata": {},
     "output_type": "execute_result"
    }
   ],
   "source": [
    "ps.ke_fft, ps.ki_fft"
   ]
  },
  {
   "cell_type": "code",
   "execution_count": 25,
   "id": "527a4446-736c-47f3-badc-54ac0c57fcb2",
   "metadata": {},
   "outputs": [
    {
     "data": {
      "text/plain": [
       "(array([[ 0.14100311+0.j, -0.00880124+0.j],\n",
       "        [-0.00880124+0.j,  0.00054936+0.j]]),\n",
       " array([[ 1.74408119e-02+0.j, -1.21114802e-04+0.j],\n",
       "        [-1.21114802e-04+0.j,  8.41061496e-07+0.j]]))"
      ]
     },
     "execution_count": 25,
     "metadata": {},
     "output_type": "execute_result"
    }
   ],
   "source": [
    "ps.ke_fft, ps.ki_fft"
   ]
  },
  {
   "cell_type": "code",
   "execution_count": 26,
   "id": "601078aa-b7a1-4a03-8b04-82caef41718a",
   "metadata": {},
   "outputs": [
    {
     "data": {
      "text/plain": [
       "array([ 0.14100311+0.j, -0.00880124+0.j])"
      ]
     },
     "execution_count": 26,
     "metadata": {},
     "output_type": "execute_result"
    }
   ],
   "source": [
    "ps.ke_fft[:,0]"
   ]
  },
  {
   "cell_type": "code",
   "execution_count": 27,
   "id": "5d04c461-eaa4-4ba8-8dcd-a769fb2ec78b",
   "metadata": {},
   "outputs": [
    {
     "data": {
      "text/plain": [
       "array([ 0.14100311+0.j, -0.00880124+0.j])"
      ]
     },
     "execution_count": 27,
     "metadata": {},
     "output_type": "execute_result"
    }
   ],
   "source": [
    "ps.ke_fft[0,:]"
   ]
  },
  {
   "cell_type": "code",
   "execution_count": null,
   "id": "ceeadf93-d89c-4a54-bce1-1032e2dc62af",
   "metadata": {},
   "outputs": [],
   "source": [
    "plt.plot()"
   ]
  }
 ],
 "metadata": {
  "kernelspec": {
   "display_name": "Python 3 (ipykernel)",
   "language": "python",
   "name": "python3"
  },
  "language_info": {
   "codemirror_mode": {
    "name": "ipython",
    "version": 3
   },
   "file_extension": ".py",
   "mimetype": "text/x-python",
   "name": "python",
   "nbconvert_exporter": "python",
   "pygments_lexer": "ipython3",
   "version": "3.9.12"
  }
 },
 "nbformat": 4,
 "nbformat_minor": 5
}
