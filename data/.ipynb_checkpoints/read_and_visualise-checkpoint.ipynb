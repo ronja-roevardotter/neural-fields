{
 "cells": [
  {
   "cell_type": "code",
   "execution_count": null,
   "metadata": {},
   "outputs": [],
   "source": [
    "#recording come in edf (European Data Format) format. Use mne.io.read_raw_edf()\n",
    "#information comes in xlsx format: convert to csv using xlsx2csv package - read with pandas"
   ]
  },
  {
   "cell_type": "code",
   "execution_count": null,
   "metadata": {},
   "outputs": [],
   "source": [
    "files = ['EPIstim_001_NPS_stim_02.edf', \n",
    "         'EPIstim_001_Probeschlaf_EOG_EMG_4h.edf', 'EPIstim_001_Shamnacht.edf', \n",
    "         'EPIstim_001_StimNacht.edf', 'EPIstim_001_StimNacht_Backup.edf']\n",
    "fxlsx = 'ElektrodenInfo.xlsx'\n",
    "file = files[-2]"
   ]
  },
  {
   "cell_type": "code",
   "execution_count": null,
   "metadata": {},
   "outputs": [],
   "source": [
    "path = '/mnt/raid/data/GreifswaldData/iEEG/' #/EPI_1001/EEG'\n",
    "subject = 'EPI_1001/'\n",
    "folder = 'EEG/'"
   ]
  },
  {
   "cell_type": "code",
   "execution_count": null,
   "metadata": {},
   "outputs": [],
   "source": [
    "full_path = path + subject + folder"
   ]
  },
  {
   "cell_type": "code",
   "execution_count": null,
   "metadata": {},
   "outputs": [],
   "source": [
    "#import necessary packages\n",
    "#for processing 'brain-data'\n",
    "import mne\n",
    "\n",
    "#for data handling\n",
    "import pandas as pd\n",
    "\n",
    "#for functionalities\n",
    "import numpy as np"
   ]
  },
  {
   "cell_type": "code",
   "execution_count": null,
   "metadata": {},
   "outputs": [],
   "source": [
    "#read xlsx information file to collect necessary information to read the raw edf-files\n",
    "#o.e. what is the eog, what the misc, what to excude, ...\n",
    "\n",
    "df = pd.read_excel(full_path+fxlsx, sheet_name='subject01', header=0)\n",
    "df\n",
    "\n",
    "#identify eog (Electrooculography = technique for measuring the corneo-retinal standing potential \n",
    "#that exists between the front and the back of the human eye) \n",
    "eogs = #todo\n",
    "\n",
    "#identify all channels to exclude in read (i.e. channels that are not used, empty, or not of interest)\n",
    "exclude = []"
   ]
  },
  {
   "cell_type": "code",
   "execution_count": null,
   "metadata": {},
   "outputs": [],
   "source": [
    "raw = mne.io.read_raw_edf(full_path+file, eog=[])"
   ]
  },
  {
   "cell_type": "code",
   "execution_count": null,
   "metadata": {},
   "outputs": [],
   "source": [
    "print(raw)\n",
    "print(raw.info)"
   ]
  },
  {
   "cell_type": "code",
   "execution_count": null,
   "metadata": {},
   "outputs": [],
   "source": [
    "#do he very simple things like Power Spectral Densities or Visualisation of Channels\n",
    "raw.compute_psd(method='welch', \n",
    "                fmin=0, fmax=50, #fmin, fmax: lower- and upper-bound on frequs of interest\n",
    "                tmin = 2, tmax=17, #tmin, tmax: first & last times to include in seconds\n",
    "                picks = [], exclude = [] #picks, exclude: channels to in-/exclude\n",
    "               ) #n_jobs: number of jobs to run in parallel\n",
    "raw.plot(duration=2, #duration: time window(s) to plot\n",
    "         n_channels=8 #n_channels: number of channels to plot at once, defaults to 20\n",
    "        ) #events=array/None: events to show with vertical bars"
   ]
  },
  {
   "cell_type": "code",
   "execution_count": null,
   "metadata": {},
   "outputs": [],
   "source": [
    "#components that best capture artifacts can be identified using ICA\n",
    "#ica = mne.preprocessing.ICA(n_components=20, random_state=97, max_iter=800)\n",
    "#ica.fit(raw)\n",
    "#ica.exclude = [1,2]\n",
    "#ica.plot_properties(raw, picks=ica.exclude)"
   ]
  },
  {
   "cell_type": "code",
   "execution_count": null,
   "metadata": {},
   "outputs": [],
   "source": [
    "#sure what components to remove, pass them as 'exclude' param (then again apply ICA)\n",
    "\n",
    "#excludes = [list of strings which channels to exclude]"
   ]
  },
  {
   "cell_type": "code",
   "execution_count": null,
   "metadata": {},
   "outputs": [],
   "source": []
  },
  {
   "cell_type": "code",
   "execution_count": null,
   "metadata": {},
   "outputs": [],
   "source": [
    "#detection of experimental events\n",
    "#options are: 1/2 (auditory, left/right ear), 3/4 (visual, left/right), \n",
    "#5 (smiley face), 32 (subject button press)\n",
    "events = mne.find_events(raw, stim_channel='the channel that was the stimulation recording')\n",
    "#output: np.array([sample_number, ignore, integer_event_ID])\n",
    "\n",
    "#plot the whole thing \n",
    "fig = mne.viz.plot_events(\n",
    "    events, event_id=event_dict, sfreq=raw.info[\"sfreq\"], first_samp=raw.first_samp\n",
    ")"
   ]
  },
  {
   "cell_type": "markdown",
   "metadata": {},
   "source": [
    "# Epoching"
   ]
  },
  {
   "cell_type": "markdown",
   "metadata": {},
   "source": [
    "## Rejection Dictionary\n",
    "$\\texttt{reject=reject_criteria}$:\n",
    "Reject epochs based on maximum peak-to-peak signal amplitude (PTP), i.e. the absolute difference between the lowest and the highest signal value. In each individual epoch, the PTP is calculated for every channel. If the PTP of any one channel exceeds the rejection threshold, the respective epoch will be dropped."
   ]
  },
  {
   "cell_type": "code",
   "execution_count": null,
   "metadata": {},
   "outputs": [],
   "source": [
    "#specify data quality constraints in a dict\n",
    "reject_criteria = dict(\n",
    "    mag=4000e-15,  # 4000 fT\n",
    "    grad=4000e-13,  # 4000 fT/cm\n",
    "    eeg=150e-6,  # 150 µV\n",
    "    eog=250e-6,\n",
    ")  # 250 µV"
   ]
  },
  {
   "cell_type": "code",
   "execution_count": null,
   "metadata": {},
   "outputs": [],
   "source": [
    "#create epochs object\n",
    "#pass event_id as event dict parameter\n",
    "epochs = mne.Epochs(\n",
    "    raw,\n",
    "    events,\n",
    "    event_id=event_dict,\n",
    "    tmin=-0.2,\n",
    "    tmax=0.5,\n",
    "    reject=reject_criteria,\n",
    "    preload=True,\n",
    ") #out:"
   ]
  },
  {
   "cell_type": "code",
   "execution_count": null,
   "metadata": {},
   "outputs": [],
   "source": [
    "#one can pool across stimuli presentations etc. \n",
    "#but more interestingly is that you can plot epochs channel-wise:\n",
    "epochs.plot_image(picks=[\"MEG 1332\", \"EEG 021\"])"
   ]
  },
  {
   "cell_type": "markdown",
   "metadata": {},
   "source": [
    "# Time-Frequency Analysis"
   ]
  },
  {
   "cell_type": "code",
   "execution_count": null,
   "metadata": {},
   "outputs": [],
   "source": [
    "#package mne.time_frequency includes several tools for time-frequs-computations\n",
    "#among others: method to identify power of different frequs using Morlet wavelets:\n",
    "frequencies = np.arange(7, 30, 3)\n",
    "power = mne.time_frequency.tfr_morlet(\n",
    "    epochs, n_cycles=2, return_itc=False, freqs=frequencies, decim=3\n",
    ")\n",
    "power.plot(['channel_name'])"
   ]
  },
  {
   "cell_type": "code",
   "execution_count": null,
   "metadata": {},
   "outputs": [],
   "source": []
  },
  {
   "cell_type": "code",
   "execution_count": null,
   "metadata": {},
   "outputs": [],
   "source": []
  }
 ],
 "metadata": {
  "kernelspec": {
   "display_name": "Python 3 (ipykernel)",
   "language": "python",
   "name": "python3"
  },
  "language_info": {
   "codemirror_mode": {
    "name": "ipython",
    "version": 3
   },
   "file_extension": ".py",
   "mimetype": "text/x-python",
   "name": "python",
   "nbconvert_exporter": "python",
   "pygments_lexer": "ipython3",
   "version": "3.9.12"
  }
 },
 "nbformat": 4,
 "nbformat_minor": 4
}
