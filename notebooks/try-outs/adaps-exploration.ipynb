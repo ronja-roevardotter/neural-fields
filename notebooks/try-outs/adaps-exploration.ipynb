{
 "cells": [
  {
   "cell_type": "markdown",
   "id": "1b82f24c",
   "metadata": {},
   "source": [
    "I want to use this notebook how $b$ and $\\tau_a$ change the traveling waves to identify, which ranges make the most sense. I do this for two different adaptation-dataframes: Once with $\\mu_a=0=\\mu_{e,i},\\ \\beta_a=5=\\beta_{e,i}$. I start with $b=0.25,\\ \\tau_a=600$. For these, I identify parameterizations for which we have bistability without adaptation and \n",
    "\n",
    "(i) Bistability with adaptation, static Turing-instability in down with p_random=1, p_down=4 $\\\\ $\n",
    "(ii) Bistability with adaptation, no Turing-instability with p_random=1, p_down=4 $\\to$ \"boundary effect\"? $\\\\ $\n",
    "(iii) Monostability with adaptation, p_random=p_down=4 $\\\\ $\n",
    "(iv) Multistability with adaptation, p_random=1, p_down=4 $\\\\ $"
   ]
  },
  {
   "cell_type": "code",
   "execution_count": 1,
   "id": "7e5a18bf",
   "metadata": {},
   "outputs": [],
   "source": [
    "import numpy as np\n",
    "import pandas as pd\n",
    "\n",
    "import matplotlib.pyplot as plt\n",
    "import matplotlib.ticker as ticker\n",
    "from matplotlib import cm\n",
    "\n",
    "import py.continuum1d as continuum1d\n",
    "\n",
    "from py.analysis import computeFPs, checkFixPtsStability\n",
    "\n",
    "from py.funcs import getAvgPSD, getPSD\n",
    "from py.params import setParams"
   ]
  },
  {
   "cell_type": "code",
   "execution_count": 2,
   "id": "3140a350",
   "metadata": {},
   "outputs": [
    {
     "data": {
      "text/html": [
       "<div>\n",
       "<style scoped>\n",
       "    .dataframe tbody tr th:only-of-type {\n",
       "        vertical-align: middle;\n",
       "    }\n",
       "\n",
       "    .dataframe tbody tr th {\n",
       "        vertical-align: top;\n",
       "    }\n",
       "\n",
       "    .dataframe thead th {\n",
       "        text-align: right;\n",
       "    }\n",
       "</style>\n",
       "<table border=\"1\" class=\"dataframe\">\n",
       "  <thead>\n",
       "    <tr style=\"text-align: right;\">\n",
       "      <th></th>\n",
       "      <th>(i)</th>\n",
       "      <th>(ii)</th>\n",
       "      <th>(iii)</th>\n",
       "      <th>(iv)</th>\n",
       "    </tr>\n",
       "  </thead>\n",
       "  <tbody>\n",
       "    <tr>\n",
       "      <th>0</th>\n",
       "      <td>[0.42, -0.1]</td>\n",
       "      <td>[0.4, -0.08]</td>\n",
       "      <td>[0.24, -0.22]</td>\n",
       "      <td>[0.26, -0.2]</td>\n",
       "    </tr>\n",
       "    <tr>\n",
       "      <th>1</th>\n",
       "      <td>[0.88, 0.22]</td>\n",
       "      <td>[0.86, 0.22]</td>\n",
       "      <td>[0.18, -0.26]</td>\n",
       "      <td>[0.36, -0.12]</td>\n",
       "    </tr>\n",
       "  </tbody>\n",
       "</table>\n",
       "</div>"
      ],
      "text/plain": [
       "            (i)          (ii)          (iii)           (iv)\n",
       "0  [0.42, -0.1]  [0.4, -0.08]  [0.24, -0.22]   [0.26, -0.2]\n",
       "1  [0.88, 0.22]  [0.86, 0.22]  [0.18, -0.26]  [0.36, -0.12]"
      ]
     },
     "execution_count": 2,
     "metadata": {},
     "output_type": "execute_result"
    }
   ],
   "source": [
    "#these settings are for resolution: 101x101; csv: high_default, adaps_101x101; \\mu_a=0, \\beta_a=5.\n",
    "dic = {'(i)': [[0.42, -0.1], [0.88, 0.22]], \n",
    "       '(ii)': [[0.4, -0.08], [0.86, 0.22]], \n",
    "       '(iii)': [[0.24, -0.22], [0.18, -0.26]], \n",
    "       '(iv)': [[0.26, -0.2], [0.36, -0.12]]}\n",
    "cases = pd.DataFrame(data=dic)\n",
    "cases"
   ]
  },
  {
   "cell_type": "code",
   "execution_count": 2,
   "id": "f3daaf4b",
   "metadata": {},
   "outputs": [
    {
     "data": {
      "text/html": [
       "<div>\n",
       "<style scoped>\n",
       "    .dataframe tbody tr th:only-of-type {\n",
       "        vertical-align: middle;\n",
       "    }\n",
       "\n",
       "    .dataframe tbody tr th {\n",
       "        vertical-align: top;\n",
       "    }\n",
       "\n",
       "    .dataframe thead th {\n",
       "        text-align: right;\n",
       "    }\n",
       "</style>\n",
       "<table border=\"1\" class=\"dataframe\">\n",
       "  <thead>\n",
       "    <tr style=\"text-align: right;\">\n",
       "      <th></th>\n",
       "      <th>(i)</th>\n",
       "      <th>(ii)</th>\n",
       "      <th>(iii)</th>\n",
       "      <th>(iv)</th>\n",
       "    </tr>\n",
       "  </thead>\n",
       "  <tbody>\n",
       "    <tr>\n",
       "      <th>0</th>\n",
       "      <td>[0.47, 0.01]</td>\n",
       "      <td>[0.4, -0.14]</td>\n",
       "      <td>[0.2, -0.25]</td>\n",
       "      <td>[0.39, -0.04]</td>\n",
       "    </tr>\n",
       "    <tr>\n",
       "      <th>1</th>\n",
       "      <td>[0.72, 0.16]</td>\n",
       "      <td>[0.86, 0.27]</td>\n",
       "      <td>[0.38, -0.04]</td>\n",
       "      <td>[None, None]</td>\n",
       "    </tr>\n",
       "  </tbody>\n",
       "</table>\n",
       "</div>"
      ],
      "text/plain": [
       "            (i)          (ii)          (iii)           (iv)\n",
       "0  [0.47, 0.01]  [0.4, -0.14]   [0.2, -0.25]  [0.39, -0.04]\n",
       "1  [0.72, 0.16]  [0.86, 0.27]  [0.38, -0.04]   [None, None]"
      ]
     },
     "execution_count": 2,
     "metadata": {},
     "output_type": "execute_result"
    }
   ],
   "source": [
    "#these settings are for resolution: 201x201; csv: high_default, high-adaps; \\mu_a=0.4, \\beta_a=10.\n",
    "dic = {'(i)': [[0.47, 0.01], [0.72, 0.16]], \n",
    "       '(ii)': [[0.4, -0.14], [0.86, 0.27]], \n",
    "       '(iii)': [[0.2, -0.25], [0.38, -0.04]], \n",
    "       '(iv)': [[0.39, -0.04], [None, None]]}\n",
    "cases = pd.DataFrame(data=dic)\n",
    "cases"
   ]
  },
  {
   "cell_type": "code",
   "execution_count": 3,
   "id": "1027d385",
   "metadata": {},
   "outputs": [
    {
     "name": "stdout",
     "output_type": "stream",
     "text": [
      "1d Model initialised.\n"
     ]
    }
   ],
   "source": [
    "c1d = continuum1d.continuum1d()"
   ]
  },
  {
   "cell_type": "code",
   "execution_count": 80,
   "id": "c5f36a29",
   "metadata": {},
   "outputs": [
    {
     "data": {
      "text/plain": [
       "(0.26, -0.2)"
      ]
     },
     "execution_count": 80,
     "metadata": {},
     "output_type": "execute_result"
    }
   ],
   "source": [
    "ee, ii = np.array(cases.values[0,3])[0], np.array(cases.values[0,3])[1]\n",
    "ee, ii"
   ]
  },
  {
   "cell_type": "code",
   "execution_count": 81,
   "id": "22de653d",
   "metadata": {},
   "outputs": [
    {
     "data": {
      "text/plain": [
       "array([  10.,  300.,  600.,  900., 1200., 1500., 1800., 2100., 2400.,\n",
       "       2700., 3000., 3300., 3600., 3900., 4200., 4500., 4800., 5100.,\n",
       "       5400., 5700., 6000.])"
      ]
     },
     "execution_count": 81,
     "metadata": {},
     "output_type": "execute_result"
    }
   ],
   "source": [
    "tauas = np.linspace(0, 6000,21)\n",
    "tau_zeros = np.zeros(len(tauas))"
   ]
  },
  {
   "cell_type": "code",
   "execution_count": 4,
   "id": "666883e4",
   "metadata": {},
   "outputs": [],
   "source": [
    "def runCollection(item, item_str, ee, ii):\n",
    "    \n",
    "    params = {'I_e': ee, 'I_i': ii, 'end_t': 60*1000, 'mu_a': 0.4, 'beta_a': 10, 'b': 0.25, 'tau_a': 600}\n",
    "    \n",
    "    params = setParams(params)\n",
    "    \n",
    "    params[item_str] = item\n",
    "    \n",
    "    fps = computeFPs(params)\n",
    "    stab = checkFixPtsStability(fps, params)\n",
    "    \n",
    "    exc, inh = c1d.run(params, itype='inte_adaptation', fp = fps[0])\n",
    "    \n",
    "    duration = 20\n",
    "    \n",
    "    exc_test = exc.T[60,-int(duration*1000*(1/params.dt)):]\n",
    "    \n",
    "    frequs, PSD = getPSD(exc_test, int(1000*(1/params.dt)), nperseg=duration)\n",
    "\n",
    "    dom_frequ = frequs[np.argmax(PSD)] \n",
    "    \n",
    "    e = exc_test\n",
    "    up_steps = sum(x>=0.4 for x in e)\n",
    "    down_steps = sum(x<0.4 for x in e)\n",
    "    if dom_frequ==0:\n",
    "        avg_steps_in_down = 0\n",
    "        avg_steps_in_up = 0\n",
    "    else:\n",
    "        avg_steps_in_down = down_steps/(duration*dom_frequ)\n",
    "        avg_steps_in_up = up_steps/(duration*dom_frequ)\n",
    "    \n",
    "    avg_up = avg_steps_in_up*params.dt*(1/1000) #in [s]\n",
    "    avg_down = avg_steps_in_down*params.dt*(1/1000)\n",
    "    \n",
    "    return dom_frequ, avg_up, avg_down"
   ]
  },
  {
   "cell_type": "code",
   "execution_count": 7,
   "id": "44071152",
   "metadata": {},
   "outputs": [],
   "source": [
    "names = ['i', 'ii', 'iii', 'iv']\n",
    "\n",
    "tauas = np.linspace(0, 6000,21)\n",
    "tauas[0] = 10\n",
    "tau_zeros = np.zeros(len(tauas))\n",
    "\n",
    "for l in range(4):\n",
    "    ee, ii = np.array(cases.values[0,l])[0], np.array(cases.values[0,l])[1]\n",
    "\n",
    "    d = {'tau_a': tauas, 'dom_frequ': tau_zeros, 'down_duration': tau_zeros, 'up_duration': tau_zeros}\n",
    "    tau_df = pd.DataFrame(data=d)\n",
    "    item_str = 'tau_a'\n",
    "\n",
    "    for idx, item in enumerate(tauas):\n",
    "        tau_df.values[idx, 1], tau_df.values[idx, 2], tau_df.values[idx, 3] = runCollection(item, item_str, ee, ii)\n",
    "        \n",
    "    tau_df.to_csv('csv/%s_tau_a_df.csv' %names[l])"
   ]
  },
  {
   "cell_type": "code",
   "execution_count": 8,
   "id": "b236d4eb",
   "metadata": {},
   "outputs": [
    {
     "name": "stderr",
     "output_type": "stream",
     "text": [
      "/Users/ronja/Documents/GitHub/neural-fields/py/analysis.py:29: RuntimeWarning: overflow encountered in exp\n",
      "  return 1/(1+np.exp(-params.beta_i*(x-params.mu_i)))\n",
      "/Users/ronja/Documents/GitHub/neural-fields/py/analysis.py:25: RuntimeWarning: overflow encountered in exp\n",
      "  return 1/(1+np.exp(-params.beta_e*(x-params.mu_e)))\n",
      "/Users/ronja/Documents/GitHub/neural-fields/py/analysis.py:32: RuntimeWarning: overflow encountered in exp\n",
      "  return 1/(1+np.exp(-params.beta_a*(x-params.mu_a)))\n"
     ]
    }
   ],
   "source": [
    "names = ['i', 'ii', 'iii', 'iv']\n",
    "\n",
    "bs = np.linspace(0, 0.5, 21)\n",
    "b_zeros = np.zeros(len(bs))\n",
    "\n",
    "for l in range(4):\n",
    "    ee, ii = np.array(cases.values[0,l])[0], np.array(cases.values[0,l])[1]\n",
    "\n",
    "    d = {'b': bs, 'dom_frequ': b_zeros, 'down_duration': b_zeros, 'up_duration': b_zeros}\n",
    "    b_df = pd.DataFrame(data=d)\n",
    "    item_str = 'b'\n",
    "\n",
    "    for idx, item in enumerate(bs):\n",
    "        b_df.values[idx, 1], b_df.values[idx, 2], b_df.values[idx, 3] = runCollection(item, item_str, ee, ii)\n",
    "        \n",
    "    b_df.to_csv('csv/%s_b_df.csv' %names[l])"
   ]
  },
  {
   "cell_type": "code",
   "execution_count": null,
   "id": "609fdf3a",
   "metadata": {
    "scrolled": true
   },
   "outputs": [],
   "source": [
    "#collect dominant frequency, up-, and down-state duration for increasing tau_a\n",
    "\n",
    "d = {'tau_a': tauas, 'dom_frequ': tau_zeros, 'down_duration': tau_zeros, 'up_duration': tau_zeros}\n",
    "tau_df = pd.DataFrame(data=d)\n",
    "\n",
    "for idx, tau_a in enumerate(tauas):\n",
    "    \n",
    "    params = {'I_e': ee, 'I_i': ii, 'end_t': 60*1000, 'mu_a': 0, 'beta_a': 5, 'b': 0.25, 'tau_a': tau_a}\n",
    "    \n",
    "    params = setParams(params)\n",
    "    \n",
    "    fps = computeFPs(params)\n",
    "    stab = checkFixPtsStability(fps, params)\n",
    "    \n",
    "    exc, inh = c1d.run(params, itype='inte_adaptation', fp = fps[0])\n",
    "    \n",
    "    duration = 20\n",
    "    \n",
    "    exc_test = exc.T[60,-int(duration*1000*(1/params.dt)):]\n",
    "    \n",
    "    frequs, PSD = getPSD(exc_test, int(1000*(1/params.dt)), nperseg=duration)\n",
    "\n",
    "    dom_frequ = frequs[np.argmax(PSD)] \n",
    "    \n",
    "#    plt.figure(figsize=(12,4))\n",
    "    \n",
    "#    plt.plot(np.linspace(0,1,10000), exc.T[60,-10000:])#, vmin=0, vmax=1, aspect='auto')\n",
    "#    plt.title('tau_a=%i' %int(tau_a))\n",
    "#    plt.show()\n",
    "      \n",
    "#    plt.figure(figsize=(3,3))\n",
    "#    plt.plot(frequs, PSD)\n",
    "#    plt.show()\n",
    "    \n",
    "    e = exc_test\n",
    "    up_steps = sum(x>=0.4 for x in e)\n",
    "    down_steps = sum(x<0.4 for x in e)\n",
    "    if dom_frequ==0:\n",
    "        avg_steps_in_down = 0\n",
    "        avg_steps_in_up = 0\n",
    "    else:\n",
    "        avg_steps_in_down = down_steps/(duration*dom_frequ)\n",
    "        avg_steps_in_up = up_steps/(duration*dom_frequ)\n",
    "    \n",
    "    avg_up = avg_steps_in_up*params.dt*(1/1000) #in [s]\n",
    "    avg_down = avg_steps_in_down*params.dt*(1/1000) #in [s]\n",
    "    \n",
    "    tau_df.values[idx, 1] = dom_frequ\n",
    "    tau_df.values[idx, 2] = avg_down\n",
    "    tau_df.values[idx, 3] = avg_up\n",
    "    print(tau_df.values[idx,:])"
   ]
  },
  {
   "cell_type": "code",
   "execution_count": null,
   "id": "4e9ca10d",
   "metadata": {},
   "outputs": [],
   "source": []
  },
  {
   "cell_type": "code",
   "execution_count": 83,
   "id": "56f0c2d2",
   "metadata": {},
   "outputs": [
    {
     "data": {
      "text/html": [
       "<div>\n",
       "<style scoped>\n",
       "    .dataframe tbody tr th:only-of-type {\n",
       "        vertical-align: middle;\n",
       "    }\n",
       "\n",
       "    .dataframe tbody tr th {\n",
       "        vertical-align: top;\n",
       "    }\n",
       "\n",
       "    .dataframe thead th {\n",
       "        text-align: right;\n",
       "    }\n",
       "</style>\n",
       "<table border=\"1\" class=\"dataframe\">\n",
       "  <thead>\n",
       "    <tr style=\"text-align: right;\">\n",
       "      <th></th>\n",
       "      <th>tau_a</th>\n",
       "      <th>dom_frequ</th>\n",
       "      <th>down_duration</th>\n",
       "      <th>up_duration</th>\n",
       "    </tr>\n",
       "  </thead>\n",
       "  <tbody>\n",
       "    <tr>\n",
       "      <th>0</th>\n",
       "      <td>10.0</td>\n",
       "      <td>0.00</td>\n",
       "      <td>0.000000</td>\n",
       "      <td>0.000000</td>\n",
       "    </tr>\n",
       "    <tr>\n",
       "      <th>1</th>\n",
       "      <td>300.0</td>\n",
       "      <td>2.25</td>\n",
       "      <td>0.244822</td>\n",
       "      <td>0.199622</td>\n",
       "    </tr>\n",
       "    <tr>\n",
       "      <th>2</th>\n",
       "      <td>600.0</td>\n",
       "      <td>1.60</td>\n",
       "      <td>0.348453</td>\n",
       "      <td>0.276547</td>\n",
       "    </tr>\n",
       "    <tr>\n",
       "      <th>3</th>\n",
       "      <td>900.0</td>\n",
       "      <td>1.30</td>\n",
       "      <td>0.428408</td>\n",
       "      <td>0.340823</td>\n",
       "    </tr>\n",
       "    <tr>\n",
       "      <th>4</th>\n",
       "      <td>1200.0</td>\n",
       "      <td>1.15</td>\n",
       "      <td>0.482000</td>\n",
       "      <td>0.387565</td>\n",
       "    </tr>\n",
       "    <tr>\n",
       "      <th>5</th>\n",
       "      <td>1500.0</td>\n",
       "      <td>1.00</td>\n",
       "      <td>0.558815</td>\n",
       "      <td>0.441185</td>\n",
       "    </tr>\n",
       "    <tr>\n",
       "      <th>6</th>\n",
       "      <td>1800.0</td>\n",
       "      <td>0.95</td>\n",
       "      <td>0.616389</td>\n",
       "      <td>0.436242</td>\n",
       "    </tr>\n",
       "    <tr>\n",
       "      <th>7</th>\n",
       "      <td>2100.0</td>\n",
       "      <td>0.85</td>\n",
       "      <td>0.658418</td>\n",
       "      <td>0.518053</td>\n",
       "    </tr>\n",
       "    <tr>\n",
       "      <th>8</th>\n",
       "      <td>2400.0</td>\n",
       "      <td>0.80</td>\n",
       "      <td>0.696400</td>\n",
       "      <td>0.553600</td>\n",
       "    </tr>\n",
       "    <tr>\n",
       "      <th>9</th>\n",
       "      <td>2700.0</td>\n",
       "      <td>0.75</td>\n",
       "      <td>0.732880</td>\n",
       "      <td>0.600453</td>\n",
       "    </tr>\n",
       "    <tr>\n",
       "      <th>10</th>\n",
       "      <td>3000.0</td>\n",
       "      <td>0.75</td>\n",
       "      <td>0.716600</td>\n",
       "      <td>0.616733</td>\n",
       "    </tr>\n",
       "    <tr>\n",
       "      <th>11</th>\n",
       "      <td>3300.0</td>\n",
       "      <td>0.70</td>\n",
       "      <td>0.809950</td>\n",
       "      <td>0.618621</td>\n",
       "    </tr>\n",
       "    <tr>\n",
       "      <th>12</th>\n",
       "      <td>3600.0</td>\n",
       "      <td>0.65</td>\n",
       "      <td>0.903592</td>\n",
       "      <td>0.634869</td>\n",
       "    </tr>\n",
       "    <tr>\n",
       "      <th>13</th>\n",
       "      <td>3900.0</td>\n",
       "      <td>0.65</td>\n",
       "      <td>0.887138</td>\n",
       "      <td>0.651323</td>\n",
       "    </tr>\n",
       "    <tr>\n",
       "      <th>14</th>\n",
       "      <td>4200.0</td>\n",
       "      <td>0.60</td>\n",
       "      <td>0.950517</td>\n",
       "      <td>0.716150</td>\n",
       "    </tr>\n",
       "    <tr>\n",
       "      <th>15</th>\n",
       "      <td>4500.0</td>\n",
       "      <td>0.60</td>\n",
       "      <td>0.974075</td>\n",
       "      <td>0.692592</td>\n",
       "    </tr>\n",
       "    <tr>\n",
       "      <th>16</th>\n",
       "      <td>4800.0</td>\n",
       "      <td>0.60</td>\n",
       "      <td>0.968367</td>\n",
       "      <td>0.698300</td>\n",
       "    </tr>\n",
       "    <tr>\n",
       "      <th>17</th>\n",
       "      <td>5100.0</td>\n",
       "      <td>0.55</td>\n",
       "      <td>1.073364</td>\n",
       "      <td>0.744818</td>\n",
       "    </tr>\n",
       "    <tr>\n",
       "      <th>18</th>\n",
       "      <td>5400.0</td>\n",
       "      <td>0.55</td>\n",
       "      <td>1.067427</td>\n",
       "      <td>0.750755</td>\n",
       "    </tr>\n",
       "    <tr>\n",
       "      <th>19</th>\n",
       "      <td>5700.0</td>\n",
       "      <td>0.55</td>\n",
       "      <td>1.051609</td>\n",
       "      <td>0.766573</td>\n",
       "    </tr>\n",
       "    <tr>\n",
       "      <th>20</th>\n",
       "      <td>6000.0</td>\n",
       "      <td>0.50</td>\n",
       "      <td>1.126220</td>\n",
       "      <td>0.873780</td>\n",
       "    </tr>\n",
       "  </tbody>\n",
       "</table>\n",
       "</div>"
      ],
      "text/plain": [
       "     tau_a  dom_frequ  down_duration  up_duration\n",
       "0     10.0       0.00       0.000000     0.000000\n",
       "1    300.0       2.25       0.244822     0.199622\n",
       "2    600.0       1.60       0.348453     0.276547\n",
       "3    900.0       1.30       0.428408     0.340823\n",
       "4   1200.0       1.15       0.482000     0.387565\n",
       "5   1500.0       1.00       0.558815     0.441185\n",
       "6   1800.0       0.95       0.616389     0.436242\n",
       "7   2100.0       0.85       0.658418     0.518053\n",
       "8   2400.0       0.80       0.696400     0.553600\n",
       "9   2700.0       0.75       0.732880     0.600453\n",
       "10  3000.0       0.75       0.716600     0.616733\n",
       "11  3300.0       0.70       0.809950     0.618621\n",
       "12  3600.0       0.65       0.903592     0.634869\n",
       "13  3900.0       0.65       0.887138     0.651323\n",
       "14  4200.0       0.60       0.950517     0.716150\n",
       "15  4500.0       0.60       0.974075     0.692592\n",
       "16  4800.0       0.60       0.968367     0.698300\n",
       "17  5100.0       0.55       1.073364     0.744818\n",
       "18  5400.0       0.55       1.067427     0.750755\n",
       "19  5700.0       0.55       1.051609     0.766573\n",
       "20  6000.0       0.50       1.126220     0.873780"
      ]
     },
     "execution_count": 83,
     "metadata": {},
     "output_type": "execute_result"
    }
   ],
   "source": [
    "tau_df"
   ]
  },
  {
   "cell_type": "code",
   "execution_count": 84,
   "id": "ab69d025",
   "metadata": {},
   "outputs": [],
   "source": [
    "tau_df.to_csv('csv/iv_tau_a_df_trial.csv')"
   ]
  },
  {
   "cell_type": "code",
   "execution_count": 85,
   "id": "52459b66",
   "metadata": {},
   "outputs": [
    {
     "data": {
      "text/plain": [
       "array([0.   , 0.025, 0.05 , 0.075, 0.1  , 0.125, 0.15 , 0.175, 0.2  ,\n",
       "       0.225, 0.25 , 0.275, 0.3  , 0.325, 0.35 , 0.375, 0.4  , 0.425,\n",
       "       0.45 , 0.475, 0.5  ])"
      ]
     },
     "execution_count": 85,
     "metadata": {},
     "output_type": "execute_result"
    }
   ],
   "source": [
    "bs = np.linspace(0, 0.5, 21)\n",
    "b_zeros = np.zeros(len(bs))\n",
    "bs"
   ]
  },
  {
   "cell_type": "code",
   "execution_count": 86,
   "id": "88fa66d0",
   "metadata": {
    "scrolled": false
   },
   "outputs": [
    {
     "name": "stdout",
     "output_type": "stream",
     "text": [
      "iteration 0\\21 done\n",
      "iteration 1\\21 done\n",
      "iteration 2\\21 done\n",
      "iteration 3\\21 done\n",
      "iteration 4\\21 done\n",
      "iteration 5\\21 done\n",
      "iteration 6\\21 done\n",
      "iteration 7\\21 done\n",
      "iteration 8\\21 done\n",
      "iteration 9\\21 done\n",
      "iteration 10\\21 done\n",
      "iteration 11\\21 done\n",
      "iteration 12\\21 done\n",
      "iteration 13\\21 done\n",
      "iteration 14\\21 done\n",
      "iteration 15\\21 done\n",
      "iteration 16\\21 done\n",
      "iteration 17\\21 done\n",
      "iteration 18\\21 done\n",
      "iteration 19\\21 done\n"
     ]
    },
    {
     "name": "stderr",
     "output_type": "stream",
     "text": [
      "/var/folders/8l/w8cdnkkj38bg2pscx__1vxth0000gn/T/ipykernel_1542/1697237952.py:25: RuntimeWarning: More than 20 figures have been opened. Figures created through the pyplot interface (`matplotlib.pyplot.figure`) are retained until explicitly closed and may consume too much memory. (To control this warning, see the rcParam `figure.max_open_warning`).\n",
      "  plt.figure(figsize=(12,4))\n"
     ]
    },
    {
     "name": "stdout",
     "output_type": "stream",
     "text": [
      "iteration 20\\21 done\n"
     ]
    },
    {
     "data": {
      "text/plain": [
       "<Figure size 864x288 with 0 Axes>"
      ]
     },
     "metadata": {},
     "output_type": "display_data"
    },
    {
     "data": {
      "text/plain": [
       "<Figure size 864x288 with 0 Axes>"
      ]
     },
     "metadata": {},
     "output_type": "display_data"
    },
    {
     "data": {
      "text/plain": [
       "<Figure size 864x288 with 0 Axes>"
      ]
     },
     "metadata": {},
     "output_type": "display_data"
    },
    {
     "data": {
      "text/plain": [
       "<Figure size 864x288 with 0 Axes>"
      ]
     },
     "metadata": {},
     "output_type": "display_data"
    },
    {
     "data": {
      "text/plain": [
       "<Figure size 864x288 with 0 Axes>"
      ]
     },
     "metadata": {},
     "output_type": "display_data"
    },
    {
     "data": {
      "text/plain": [
       "<Figure size 864x288 with 0 Axes>"
      ]
     },
     "metadata": {},
     "output_type": "display_data"
    },
    {
     "data": {
      "text/plain": [
       "<Figure size 864x288 with 0 Axes>"
      ]
     },
     "metadata": {},
     "output_type": "display_data"
    },
    {
     "data": {
      "text/plain": [
       "<Figure size 864x288 with 0 Axes>"
      ]
     },
     "metadata": {},
     "output_type": "display_data"
    },
    {
     "data": {
      "text/plain": [
       "<Figure size 864x288 with 0 Axes>"
      ]
     },
     "metadata": {},
     "output_type": "display_data"
    },
    {
     "data": {
      "text/plain": [
       "<Figure size 864x288 with 0 Axes>"
      ]
     },
     "metadata": {},
     "output_type": "display_data"
    },
    {
     "data": {
      "text/plain": [
       "<Figure size 864x288 with 0 Axes>"
      ]
     },
     "metadata": {},
     "output_type": "display_data"
    },
    {
     "data": {
      "text/plain": [
       "<Figure size 864x288 with 0 Axes>"
      ]
     },
     "metadata": {},
     "output_type": "display_data"
    },
    {
     "data": {
      "text/plain": [
       "<Figure size 864x288 with 0 Axes>"
      ]
     },
     "metadata": {},
     "output_type": "display_data"
    },
    {
     "data": {
      "text/plain": [
       "<Figure size 864x288 with 0 Axes>"
      ]
     },
     "metadata": {},
     "output_type": "display_data"
    },
    {
     "data": {
      "text/plain": [
       "<Figure size 864x288 with 0 Axes>"
      ]
     },
     "metadata": {},
     "output_type": "display_data"
    },
    {
     "data": {
      "text/plain": [
       "<Figure size 864x288 with 0 Axes>"
      ]
     },
     "metadata": {},
     "output_type": "display_data"
    },
    {
     "data": {
      "text/plain": [
       "<Figure size 864x288 with 0 Axes>"
      ]
     },
     "metadata": {},
     "output_type": "display_data"
    },
    {
     "data": {
      "text/plain": [
       "<Figure size 864x288 with 0 Axes>"
      ]
     },
     "metadata": {},
     "output_type": "display_data"
    },
    {
     "data": {
      "text/plain": [
       "<Figure size 864x288 with 0 Axes>"
      ]
     },
     "metadata": {},
     "output_type": "display_data"
    },
    {
     "data": {
      "text/plain": [
       "<Figure size 864x288 with 0 Axes>"
      ]
     },
     "metadata": {},
     "output_type": "display_data"
    },
    {
     "data": {
      "text/plain": [
       "<Figure size 864x288 with 0 Axes>"
      ]
     },
     "metadata": {},
     "output_type": "display_data"
    }
   ],
   "source": [
    "#collect dominant frequency, up-, and down-state duration for increasing b\n",
    "\n",
    "d = {'b': bs, 'dom_frequ': b_zeros, 'down_duration': b_zeros, 'up_duration': b_zeros}\n",
    "b_df = pd.DataFrame(data=d)\n",
    "\n",
    "for idx, b in enumerate(bs):\n",
    "    \n",
    "    params = {'I_e': ee, 'I_i': ii, 'end_t': 60*1000, 'mu_a': 0, 'beta_a': 5, 'b': b, 'tau_a': 600}\n",
    "    \n",
    "    params = setParams(params)\n",
    "    \n",
    "    fps = computeFPs(params)\n",
    "    stab = checkFixPtsStability(fps, params)\n",
    "    \n",
    "    exc, inh = c1d.run(params, itype='inte_adaptation', fp = fps[0])\n",
    "    \n",
    "    duration = 20\n",
    "    \n",
    "    exc_test = exc.T[60,int(-duration*1000*(1/params.dt)):]\n",
    "    \n",
    "    frequs, PSD = getPSD(exc_test, int(1000*(1/params.dt)), nperseg=duration)\n",
    "\n",
    "    dom_frequ = frequs[np.argmax(PSD)] \n",
    "    \n",
    "    plt.figure(figsize=(12,4))\n",
    "    \n",
    "#    plt.plot(np.linspace(0,1,10000), exc.T[60,-10000:])#, vmin=0, vmax=1, aspect='auto')\n",
    "#    plt.title('b=%.2f' %b)\n",
    "#    plt.show()\n",
    "      \n",
    "#    plt.figure(figsize=(3,3))\n",
    "#    plt.plot(frequs, PSD)\n",
    "#    plt.show()\n",
    "    \n",
    "    \n",
    "    e = exc_test\n",
    "    up_steps = sum(x>=0.4 for x in e)\n",
    "    down_steps = sum(x<0.4 for x in e)\n",
    "    if dom_frequ==0:\n",
    "        avg_steps_in_down = 0\n",
    "        avg_steps_in_up = 0\n",
    "    else:\n",
    "        avg_steps_in_down = down_steps/(duration*dom_frequ)\n",
    "        avg_steps_in_up = up_steps/(duration*dom_frequ)\n",
    "    \n",
    "    avg_up = avg_steps_in_up*params.dt*(1/1000) #in [s]\n",
    "    avg_down = avg_steps_in_down*params.dt*(1/1000) #in [s]\n",
    "    \n",
    "    b_df.values[idx, 1] = dom_frequ\n",
    "    b_df.values[idx, 2] = avg_down\n",
    "    b_df.values[idx, 3] = avg_up\n",
    "    \n",
    "    print('iteration %i\\%i done' %(idx, len(bs)))"
   ]
  },
  {
   "cell_type": "code",
   "execution_count": 87,
   "id": "b9b76521",
   "metadata": {},
   "outputs": [
    {
     "data": {
      "text/html": [
       "<div>\n",
       "<style scoped>\n",
       "    .dataframe tbody tr th:only-of-type {\n",
       "        vertical-align: middle;\n",
       "    }\n",
       "\n",
       "    .dataframe tbody tr th {\n",
       "        vertical-align: top;\n",
       "    }\n",
       "\n",
       "    .dataframe thead th {\n",
       "        text-align: right;\n",
       "    }\n",
       "</style>\n",
       "<table border=\"1\" class=\"dataframe\">\n",
       "  <thead>\n",
       "    <tr style=\"text-align: right;\">\n",
       "      <th></th>\n",
       "      <th>b</th>\n",
       "      <th>dom_frequ</th>\n",
       "      <th>down_duration</th>\n",
       "      <th>up_duration</th>\n",
       "    </tr>\n",
       "  </thead>\n",
       "  <tbody>\n",
       "    <tr>\n",
       "      <th>0</th>\n",
       "      <td>0.000</td>\n",
       "      <td>0.05</td>\n",
       "      <td>0.000000</td>\n",
       "      <td>20.000000</td>\n",
       "    </tr>\n",
       "    <tr>\n",
       "      <th>1</th>\n",
       "      <td>0.025</td>\n",
       "      <td>0.45</td>\n",
       "      <td>1.056700</td>\n",
       "      <td>1.165522</td>\n",
       "    </tr>\n",
       "    <tr>\n",
       "      <th>2</th>\n",
       "      <td>0.050</td>\n",
       "      <td>0.70</td>\n",
       "      <td>0.732186</td>\n",
       "      <td>0.696386</td>\n",
       "    </tr>\n",
       "    <tr>\n",
       "      <th>3</th>\n",
       "      <td>0.075</td>\n",
       "      <td>0.85</td>\n",
       "      <td>0.605324</td>\n",
       "      <td>0.571147</td>\n",
       "    </tr>\n",
       "    <tr>\n",
       "      <th>4</th>\n",
       "      <td>0.100</td>\n",
       "      <td>1.00</td>\n",
       "      <td>0.488625</td>\n",
       "      <td>0.511375</td>\n",
       "    </tr>\n",
       "    <tr>\n",
       "      <th>5</th>\n",
       "      <td>0.125</td>\n",
       "      <td>1.15</td>\n",
       "      <td>0.468296</td>\n",
       "      <td>0.401270</td>\n",
       "    </tr>\n",
       "    <tr>\n",
       "      <th>6</th>\n",
       "      <td>0.150</td>\n",
       "      <td>1.20</td>\n",
       "      <td>0.427158</td>\n",
       "      <td>0.406175</td>\n",
       "    </tr>\n",
       "    <tr>\n",
       "      <th>7</th>\n",
       "      <td>0.175</td>\n",
       "      <td>1.35</td>\n",
       "      <td>0.388178</td>\n",
       "      <td>0.352563</td>\n",
       "    </tr>\n",
       "    <tr>\n",
       "      <th>8</th>\n",
       "      <td>0.200</td>\n",
       "      <td>1.40</td>\n",
       "      <td>0.385268</td>\n",
       "      <td>0.329018</td>\n",
       "    </tr>\n",
       "    <tr>\n",
       "      <th>9</th>\n",
       "      <td>0.225</td>\n",
       "      <td>1.50</td>\n",
       "      <td>0.360580</td>\n",
       "      <td>0.306087</td>\n",
       "    </tr>\n",
       "    <tr>\n",
       "      <th>10</th>\n",
       "      <td>0.250</td>\n",
       "      <td>1.65</td>\n",
       "      <td>0.326170</td>\n",
       "      <td>0.279891</td>\n",
       "    </tr>\n",
       "    <tr>\n",
       "      <th>11</th>\n",
       "      <td>0.275</td>\n",
       "      <td>1.65</td>\n",
       "      <td>0.339345</td>\n",
       "      <td>0.266715</td>\n",
       "    </tr>\n",
       "    <tr>\n",
       "      <th>12</th>\n",
       "      <td>0.300</td>\n",
       "      <td>1.75</td>\n",
       "      <td>0.329043</td>\n",
       "      <td>0.242386</td>\n",
       "    </tr>\n",
       "    <tr>\n",
       "      <th>13</th>\n",
       "      <td>0.325</td>\n",
       "      <td>1.80</td>\n",
       "      <td>0.323686</td>\n",
       "      <td>0.231869</td>\n",
       "    </tr>\n",
       "    <tr>\n",
       "      <th>14</th>\n",
       "      <td>0.350</td>\n",
       "      <td>1.90</td>\n",
       "      <td>0.316832</td>\n",
       "      <td>0.209484</td>\n",
       "    </tr>\n",
       "    <tr>\n",
       "      <th>15</th>\n",
       "      <td>0.375</td>\n",
       "      <td>1.95</td>\n",
       "      <td>0.308764</td>\n",
       "      <td>0.204056</td>\n",
       "    </tr>\n",
       "    <tr>\n",
       "      <th>16</th>\n",
       "      <td>0.400</td>\n",
       "      <td>2.00</td>\n",
       "      <td>0.309195</td>\n",
       "      <td>0.190805</td>\n",
       "    </tr>\n",
       "    <tr>\n",
       "      <th>17</th>\n",
       "      <td>0.425</td>\n",
       "      <td>2.05</td>\n",
       "      <td>0.306956</td>\n",
       "      <td>0.180849</td>\n",
       "    </tr>\n",
       "    <tr>\n",
       "      <th>18</th>\n",
       "      <td>0.450</td>\n",
       "      <td>2.10</td>\n",
       "      <td>0.304657</td>\n",
       "      <td>0.171533</td>\n",
       "    </tr>\n",
       "    <tr>\n",
       "      <th>19</th>\n",
       "      <td>0.475</td>\n",
       "      <td>0.00</td>\n",
       "      <td>0.000000</td>\n",
       "      <td>0.000000</td>\n",
       "    </tr>\n",
       "    <tr>\n",
       "      <th>20</th>\n",
       "      <td>0.500</td>\n",
       "      <td>0.00</td>\n",
       "      <td>0.000000</td>\n",
       "      <td>0.000000</td>\n",
       "    </tr>\n",
       "  </tbody>\n",
       "</table>\n",
       "</div>"
      ],
      "text/plain": [
       "        b  dom_frequ  down_duration  up_duration\n",
       "0   0.000       0.05       0.000000    20.000000\n",
       "1   0.025       0.45       1.056700     1.165522\n",
       "2   0.050       0.70       0.732186     0.696386\n",
       "3   0.075       0.85       0.605324     0.571147\n",
       "4   0.100       1.00       0.488625     0.511375\n",
       "5   0.125       1.15       0.468296     0.401270\n",
       "6   0.150       1.20       0.427158     0.406175\n",
       "7   0.175       1.35       0.388178     0.352563\n",
       "8   0.200       1.40       0.385268     0.329018\n",
       "9   0.225       1.50       0.360580     0.306087\n",
       "10  0.250       1.65       0.326170     0.279891\n",
       "11  0.275       1.65       0.339345     0.266715\n",
       "12  0.300       1.75       0.329043     0.242386\n",
       "13  0.325       1.80       0.323686     0.231869\n",
       "14  0.350       1.90       0.316832     0.209484\n",
       "15  0.375       1.95       0.308764     0.204056\n",
       "16  0.400       2.00       0.309195     0.190805\n",
       "17  0.425       2.05       0.306956     0.180849\n",
       "18  0.450       2.10       0.304657     0.171533\n",
       "19  0.475       0.00       0.000000     0.000000\n",
       "20  0.500       0.00       0.000000     0.000000"
      ]
     },
     "execution_count": 87,
     "metadata": {},
     "output_type": "execute_result"
    }
   ],
   "source": [
    "b_df"
   ]
  },
  {
   "cell_type": "code",
   "execution_count": 88,
   "id": "a59d6d30",
   "metadata": {},
   "outputs": [],
   "source": [
    "b_df.to_csv('csv/iv_b_a_df_trial.csv')"
   ]
  },
  {
   "cell_type": "code",
   "execution_count": 89,
   "id": "82564a13",
   "metadata": {},
   "outputs": [],
   "source": [
    "bi = pd.read_csv('csv/b_a_df_trial.csv')\n",
    "bii = pd.read_csv('csv/ii_b_a_df_trial.csv')\n",
    "biii = pd.read_csv('csv/iii_b_a_df_trial.csv')\n",
    "biv = pd.read_csv('csv/iv_b_a_df_trial.csv')\n",
    "\n",
    "taui = pd.read_csv('csv/tau_a_df_trial.csv')\n",
    "tauii = pd.read_csv('csv/ii_tau_a_df_trial.csv')\n",
    "tauiii = pd.read_csv('csv/iii_tau_a_df_trial.csv')\n",
    "tauiv = pd.read_csv('csv/iv_tau_a_df_trial.csv')"
   ]
  },
  {
   "cell_type": "code",
   "execution_count": 92,
   "id": "fb9af9d6",
   "metadata": {},
   "outputs": [
    {
     "data": {
      "image/png": "[encoded data removed]",
      "text/plain": [
       "<Figure size 1296x432 with 3 Axes>"
      ]
     },
     "metadata": {
      "needs_background": "light"
     },
     "output_type": "display_data"
    },
    {
     "data": {
      "image/png": "[encoded data removed]",
      "text/plain": [
       "<Figure size 1296x432 with 3 Axes>"
      ]
     },
     "metadata": {
      "needs_background": "light"
     },
     "output_type": "display_data"
    }
   ],
   "source": [
    "labels = ['(i)', '(ii)', '(iii)', '(iv)']\n",
    "colors = ['navy', 'mediumblue', 'dodgerblue', 'skyblue'] #cm.get_cmap('winter', 4)\n",
    "\n",
    "fig, (ax0, ax1, ax2) = plt.subplots(1, 3, figsize=(18,6))\n",
    "\n",
    "ax0.set_title('dom. frequency [Hz]')\n",
    "ax1.set_title('down-state duration [s]')\n",
    "ax2.set_title('up-state duration [s]')\n",
    "\n",
    "for idx, b_df in enumerate([bi, bii, biii, biv]):\n",
    "    b_df.plot(ax=ax0, x='b',  y='dom_frequ', c=colors[idx],\n",
    "              label='case %s' %labels[idx])\n",
    "    \n",
    "    b_df.plot(ax=ax1, x='b',  y='down_duration', c=colors[idx],\n",
    "              label='case %s' %labels[idx])\n",
    "    \n",
    "    b_df.plot(ax=ax2, x='b',  y='up_duration', c=colors[idx],\n",
    "              label='case %s' %labels[idx])\n",
    "    \n",
    "    \n",
    "plt.show()\n",
    "                                    \n",
    "    \n",
    "fig, (ax0, ax1, ax2) = plt.subplots(1, 3, figsize=(18,6)) \n",
    "\n",
    "ax0.set_title('dom. frequency [Hz]')\n",
    "ax1.set_title('down-state duration [s]')\n",
    "ax2.set_title('up-state duration [s]')\n",
    "\n",
    "for idx, tau_df in enumerate([taui, tauii, tauiii, tauiv]):\n",
    "    tau_df.plot(ax=ax0, x='tau_a', y='dom_frequ', c=colors[idx],\n",
    "                label='case %s' %labels[idx])\n",
    "    \n",
    "    tau_df.plot(ax=ax1, x='tau_a', y='down_duration', c=colors[idx],\n",
    "                label='case %s' %labels[idx])\n",
    "    \n",
    "    tau_df.plot(ax=ax2, x='tau_a', y='up_duration', c=colors[idx],\n",
    "                label='case %s' %labels[idx])\n",
    "\n",
    "plt.show()"
   ]
  },
  {
   "cell_type": "code",
   "execution_count": null,
   "id": "99e8559f",
   "metadata": {},
   "outputs": [],
   "source": []
  },
  {
   "cell_type": "code",
   "execution_count": 70,
   "id": "0bbb5f17",
   "metadata": {},
   "outputs": [],
   "source": [
    "#b_df.plot(0, [1,2,3], figsize=(4, 12), subplots=True)\n",
    "#tau_df.plot(0, [1,2,3], figsize=(4, 12), subplots=True)"
   ]
  },
  {
   "cell_type": "code",
   "execution_count": null,
   "id": "a305861f",
   "metadata": {},
   "outputs": [],
   "source": []
  }
 ],
 "metadata": {
  "kernelspec": {
   "display_name": "Python 3 (ipykernel)",
   "language": "python",
   "name": "python3"
  },
  "language_info": {
   "codemirror_mode": {
    "name": "ipython",
    "version": 3
   },
   "file_extension": ".py",
   "mimetype": "text/x-python",
   "name": "python",
   "nbconvert_exporter": "python",
   "pygments_lexer": "ipython3",
   "version": "3.9.12"
  }
 },
 "nbformat": 4,
 "nbformat_minor": 5
}
